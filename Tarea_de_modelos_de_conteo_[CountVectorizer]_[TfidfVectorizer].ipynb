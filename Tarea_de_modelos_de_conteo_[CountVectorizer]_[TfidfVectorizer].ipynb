{
  "nbformat": 4,
  "nbformat_minor": 0,
  "metadata": {
    "colab": {
      "provenance": [],
      "authorship_tag": "ABX9TyM/E1qPEVnm9V+3FJZImzPE",
      "include_colab_link": true
    },
    "kernelspec": {
      "name": "python3",
      "display_name": "Python 3"
    },
    "language_info": {
      "name": "python"
    }
  },
  "cells": [
    {
      "cell_type": "markdown",
      "metadata": {
        "id": "view-in-github",
        "colab_type": "text"
      },
      "source": [
        "<a href=\"https://colab.research.google.com/github/Nataliaricotorres/ean_PNL/blob/main/Tarea_de_modelos_de_conteo_%5BCountVectorizer%5D_%5BTfidfVectorizer%5D.ipynb\" target=\"_parent\"><img src=\"https://colab.research.google.com/assets/colab-badge.svg\" alt=\"Open In Colab\"/></a>"
      ]
    },
    {
      "cell_type": "markdown",
      "source": [
        "# Tarea de modelos de conteo\n",
        "\n",
        "\n",
        "---\n",
        "INTEGRANTES\n",
        "*  Geraldine Patiño\n",
        "*  Natalia Rico\n",
        "*  \n",
        "\n",
        "\n",
        "\n"
      ],
      "metadata": {
        "id": "WM2voOk1pOQf"
      }
    },
    {
      "cell_type": "code",
      "execution_count": null,
      "metadata": {
        "id": "zVGxHLW2Epc_"
      },
      "outputs": [],
      "source": []
    }
  ]
}