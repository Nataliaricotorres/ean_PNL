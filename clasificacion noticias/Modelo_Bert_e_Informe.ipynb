{
  "nbformat": 4,
  "nbformat_minor": 0,
  "metadata": {
    "colab": {
      "provenance": [],
      "gpuType": "T4",
      "include_colab_link": true
    },
    "kernelspec": {
      "name": "python3",
      "display_name": "Python 3"
    },
    "language_info": {
      "name": "python"
    },
    "accelerator": "GPU",
    "widgets": {
      "application/vnd.jupyter.widget-state+json": {
        "72bb5df6c19f46829b45f775b29a8d62": {
          "model_module": "@jupyter-widgets/controls",
          "model_name": "HBoxModel",
          "model_module_version": "1.5.0",
          "state": {
            "_dom_classes": [],
            "_model_module": "@jupyter-widgets/controls",
            "_model_module_version": "1.5.0",
            "_model_name": "HBoxModel",
            "_view_count": null,
            "_view_module": "@jupyter-widgets/controls",
            "_view_module_version": "1.5.0",
            "_view_name": "HBoxView",
            "box_style": "",
            "children": [
              "IPY_MODEL_7a781aa5b25f423e8245a097a8e3d277",
              "IPY_MODEL_e82420f8d6224737945668e8c9530174",
              "IPY_MODEL_6f4d00e4017c40fba840646cd54f640b"
            ],
            "layout": "IPY_MODEL_1992b27b8f474292bf93197b278ce962"
          }
        },
        "7a781aa5b25f423e8245a097a8e3d277": {
          "model_module": "@jupyter-widgets/controls",
          "model_name": "HTMLModel",
          "model_module_version": "1.5.0",
          "state": {
            "_dom_classes": [],
            "_model_module": "@jupyter-widgets/controls",
            "_model_module_version": "1.5.0",
            "_model_name": "HTMLModel",
            "_view_count": null,
            "_view_module": "@jupyter-widgets/controls",
            "_view_module_version": "1.5.0",
            "_view_name": "HTMLView",
            "description": "",
            "description_tooltip": null,
            "layout": "IPY_MODEL_81240b9b35e94968930d9298c2147eba",
            "placeholder": "​",
            "style": "IPY_MODEL_a791e19c25ad41afaef448652c21fe4d",
            "value": "tokenizer_config.json: 100%"
          }
        },
        "e82420f8d6224737945668e8c9530174": {
          "model_module": "@jupyter-widgets/controls",
          "model_name": "FloatProgressModel",
          "model_module_version": "1.5.0",
          "state": {
            "_dom_classes": [],
            "_model_module": "@jupyter-widgets/controls",
            "_model_module_version": "1.5.0",
            "_model_name": "FloatProgressModel",
            "_view_count": null,
            "_view_module": "@jupyter-widgets/controls",
            "_view_module_version": "1.5.0",
            "_view_name": "ProgressView",
            "bar_style": "success",
            "description": "",
            "description_tooltip": null,
            "layout": "IPY_MODEL_b415a50ebd1349f4ae6c87254f0302e2",
            "max": 364,
            "min": 0,
            "orientation": "horizontal",
            "style": "IPY_MODEL_d8c963029a064a5a9d2c6e43be769a63",
            "value": 364
          }
        },
        "6f4d00e4017c40fba840646cd54f640b": {
          "model_module": "@jupyter-widgets/controls",
          "model_name": "HTMLModel",
          "model_module_version": "1.5.0",
          "state": {
            "_dom_classes": [],
            "_model_module": "@jupyter-widgets/controls",
            "_model_module_version": "1.5.0",
            "_model_name": "HTMLModel",
            "_view_count": null,
            "_view_module": "@jupyter-widgets/controls",
            "_view_module_version": "1.5.0",
            "_view_name": "HTMLView",
            "description": "",
            "description_tooltip": null,
            "layout": "IPY_MODEL_d74b1fa181994b7f9754a9edbc082305",
            "placeholder": "​",
            "style": "IPY_MODEL_1a254925c3db409bacf2c4c5c75040f3",
            "value": " 364/364 [00:00&lt;00:00, 13.0kB/s]"
          }
        },
        "1992b27b8f474292bf93197b278ce962": {
          "model_module": "@jupyter-widgets/base",
          "model_name": "LayoutModel",
          "model_module_version": "1.2.0",
          "state": {
            "_model_module": "@jupyter-widgets/base",
            "_model_module_version": "1.2.0",
            "_model_name": "LayoutModel",
            "_view_count": null,
            "_view_module": "@jupyter-widgets/base",
            "_view_module_version": "1.2.0",
            "_view_name": "LayoutView",
            "align_content": null,
            "align_items": null,
            "align_self": null,
            "border": null,
            "bottom": null,
            "display": null,
            "flex": null,
            "flex_flow": null,
            "grid_area": null,
            "grid_auto_columns": null,
            "grid_auto_flow": null,
            "grid_auto_rows": null,
            "grid_column": null,
            "grid_gap": null,
            "grid_row": null,
            "grid_template_areas": null,
            "grid_template_columns": null,
            "grid_template_rows": null,
            "height": null,
            "justify_content": null,
            "justify_items": null,
            "left": null,
            "margin": null,
            "max_height": null,
            "max_width": null,
            "min_height": null,
            "min_width": null,
            "object_fit": null,
            "object_position": null,
            "order": null,
            "overflow": null,
            "overflow_x": null,
            "overflow_y": null,
            "padding": null,
            "right": null,
            "top": null,
            "visibility": null,
            "width": null
          }
        },
        "81240b9b35e94968930d9298c2147eba": {
          "model_module": "@jupyter-widgets/base",
          "model_name": "LayoutModel",
          "model_module_version": "1.2.0",
          "state": {
            "_model_module": "@jupyter-widgets/base",
            "_model_module_version": "1.2.0",
            "_model_name": "LayoutModel",
            "_view_count": null,
            "_view_module": "@jupyter-widgets/base",
            "_view_module_version": "1.2.0",
            "_view_name": "LayoutView",
            "align_content": null,
            "align_items": null,
            "align_self": null,
            "border": null,
            "bottom": null,
            "display": null,
            "flex": null,
            "flex_flow": null,
            "grid_area": null,
            "grid_auto_columns": null,
            "grid_auto_flow": null,
            "grid_auto_rows": null,
            "grid_column": null,
            "grid_gap": null,
            "grid_row": null,
            "grid_template_areas": null,
            "grid_template_columns": null,
            "grid_template_rows": null,
            "height": null,
            "justify_content": null,
            "justify_items": null,
            "left": null,
            "margin": null,
            "max_height": null,
            "max_width": null,
            "min_height": null,
            "min_width": null,
            "object_fit": null,
            "object_position": null,
            "order": null,
            "overflow": null,
            "overflow_x": null,
            "overflow_y": null,
            "padding": null,
            "right": null,
            "top": null,
            "visibility": null,
            "width": null
          }
        },
        "a791e19c25ad41afaef448652c21fe4d": {
          "model_module": "@jupyter-widgets/controls",
          "model_name": "DescriptionStyleModel",
          "model_module_version": "1.5.0",
          "state": {
            "_model_module": "@jupyter-widgets/controls",
            "_model_module_version": "1.5.0",
            "_model_name": "DescriptionStyleModel",
            "_view_count": null,
            "_view_module": "@jupyter-widgets/base",
            "_view_module_version": "1.2.0",
            "_view_name": "StyleView",
            "description_width": ""
          }
        },
        "b415a50ebd1349f4ae6c87254f0302e2": {
          "model_module": "@jupyter-widgets/base",
          "model_name": "LayoutModel",
          "model_module_version": "1.2.0",
          "state": {
            "_model_module": "@jupyter-widgets/base",
            "_model_module_version": "1.2.0",
            "_model_name": "LayoutModel",
            "_view_count": null,
            "_view_module": "@jupyter-widgets/base",
            "_view_module_version": "1.2.0",
            "_view_name": "LayoutView",
            "align_content": null,
            "align_items": null,
            "align_self": null,
            "border": null,
            "bottom": null,
            "display": null,
            "flex": null,
            "flex_flow": null,
            "grid_area": null,
            "grid_auto_columns": null,
            "grid_auto_flow": null,
            "grid_auto_rows": null,
            "grid_column": null,
            "grid_gap": null,
            "grid_row": null,
            "grid_template_areas": null,
            "grid_template_columns": null,
            "grid_template_rows": null,
            "height": null,
            "justify_content": null,
            "justify_items": null,
            "left": null,
            "margin": null,
            "max_height": null,
            "max_width": null,
            "min_height": null,
            "min_width": null,
            "object_fit": null,
            "object_position": null,
            "order": null,
            "overflow": null,
            "overflow_x": null,
            "overflow_y": null,
            "padding": null,
            "right": null,
            "top": null,
            "visibility": null,
            "width": null
          }
        },
        "d8c963029a064a5a9d2c6e43be769a63": {
          "model_module": "@jupyter-widgets/controls",
          "model_name": "ProgressStyleModel",
          "model_module_version": "1.5.0",
          "state": {
            "_model_module": "@jupyter-widgets/controls",
            "_model_module_version": "1.5.0",
            "_model_name": "ProgressStyleModel",
            "_view_count": null,
            "_view_module": "@jupyter-widgets/base",
            "_view_module_version": "1.2.0",
            "_view_name": "StyleView",
            "bar_color": null,
            "description_width": ""
          }
        },
        "d74b1fa181994b7f9754a9edbc082305": {
          "model_module": "@jupyter-widgets/base",
          "model_name": "LayoutModel",
          "model_module_version": "1.2.0",
          "state": {
            "_model_module": "@jupyter-widgets/base",
            "_model_module_version": "1.2.0",
            "_model_name": "LayoutModel",
            "_view_count": null,
            "_view_module": "@jupyter-widgets/base",
            "_view_module_version": "1.2.0",
            "_view_name": "LayoutView",
            "align_content": null,
            "align_items": null,
            "align_self": null,
            "border": null,
            "bottom": null,
            "display": null,
            "flex": null,
            "flex_flow": null,
            "grid_area": null,
            "grid_auto_columns": null,
            "grid_auto_flow": null,
            "grid_auto_rows": null,
            "grid_column": null,
            "grid_gap": null,
            "grid_row": null,
            "grid_template_areas": null,
            "grid_template_columns": null,
            "grid_template_rows": null,
            "height": null,
            "justify_content": null,
            "justify_items": null,
            "left": null,
            "margin": null,
            "max_height": null,
            "max_width": null,
            "min_height": null,
            "min_width": null,
            "object_fit": null,
            "object_position": null,
            "order": null,
            "overflow": null,
            "overflow_x": null,
            "overflow_y": null,
            "padding": null,
            "right": null,
            "top": null,
            "visibility": null,
            "width": null
          }
        },
        "1a254925c3db409bacf2c4c5c75040f3": {
          "model_module": "@jupyter-widgets/controls",
          "model_name": "DescriptionStyleModel",
          "model_module_version": "1.5.0",
          "state": {
            "_model_module": "@jupyter-widgets/controls",
            "_model_module_version": "1.5.0",
            "_model_name": "DescriptionStyleModel",
            "_view_count": null,
            "_view_module": "@jupyter-widgets/base",
            "_view_module_version": "1.2.0",
            "_view_name": "StyleView",
            "description_width": ""
          }
        },
        "0a3f0e46dcfe4d118d737303ec94f3a7": {
          "model_module": "@jupyter-widgets/controls",
          "model_name": "HBoxModel",
          "model_module_version": "1.5.0",
          "state": {
            "_dom_classes": [],
            "_model_module": "@jupyter-widgets/controls",
            "_model_module_version": "1.5.0",
            "_model_name": "HBoxModel",
            "_view_count": null,
            "_view_module": "@jupyter-widgets/controls",
            "_view_module_version": "1.5.0",
            "_view_name": "HBoxView",
            "box_style": "",
            "children": [
              "IPY_MODEL_1629f123ce5746fda4408c45b3ff0f7d",
              "IPY_MODEL_9a99b77628794298b6e77c2063989f90",
              "IPY_MODEL_9b34d6e85c504f1dada682fb25ee4c92"
            ],
            "layout": "IPY_MODEL_db2fc615da094041b212337e83b16e9b"
          }
        },
        "1629f123ce5746fda4408c45b3ff0f7d": {
          "model_module": "@jupyter-widgets/controls",
          "model_name": "HTMLModel",
          "model_module_version": "1.5.0",
          "state": {
            "_dom_classes": [],
            "_model_module": "@jupyter-widgets/controls",
            "_model_module_version": "1.5.0",
            "_model_name": "HTMLModel",
            "_view_count": null,
            "_view_module": "@jupyter-widgets/controls",
            "_view_module_version": "1.5.0",
            "_view_name": "HTMLView",
            "description": "",
            "description_tooltip": null,
            "layout": "IPY_MODEL_de2eda80a9664b09843ce30f0614cf09",
            "placeholder": "​",
            "style": "IPY_MODEL_0ad6ee2acebb4092a6439b8e21ad8084",
            "value": "config.json: 100%"
          }
        },
        "9a99b77628794298b6e77c2063989f90": {
          "model_module": "@jupyter-widgets/controls",
          "model_name": "FloatProgressModel",
          "model_module_version": "1.5.0",
          "state": {
            "_dom_classes": [],
            "_model_module": "@jupyter-widgets/controls",
            "_model_module_version": "1.5.0",
            "_model_name": "FloatProgressModel",
            "_view_count": null,
            "_view_module": "@jupyter-widgets/controls",
            "_view_module_version": "1.5.0",
            "_view_name": "ProgressView",
            "bar_style": "success",
            "description": "",
            "description_tooltip": null,
            "layout": "IPY_MODEL_1fac7918bb6c43018f557e25bda1f12f",
            "max": 648,
            "min": 0,
            "orientation": "horizontal",
            "style": "IPY_MODEL_fb26eb5b934f4d3cb8e01fcd99db7238",
            "value": 648
          }
        },
        "9b34d6e85c504f1dada682fb25ee4c92": {
          "model_module": "@jupyter-widgets/controls",
          "model_name": "HTMLModel",
          "model_module_version": "1.5.0",
          "state": {
            "_dom_classes": [],
            "_model_module": "@jupyter-widgets/controls",
            "_model_module_version": "1.5.0",
            "_model_name": "HTMLModel",
            "_view_count": null,
            "_view_module": "@jupyter-widgets/controls",
            "_view_module_version": "1.5.0",
            "_view_name": "HTMLView",
            "description": "",
            "description_tooltip": null,
            "layout": "IPY_MODEL_11d0a854e23843ea9d38397f9869a7de",
            "placeholder": "​",
            "style": "IPY_MODEL_6b8377446df84171835ac7086deffa89",
            "value": " 648/648 [00:00&lt;00:00, 42.4kB/s]"
          }
        },
        "db2fc615da094041b212337e83b16e9b": {
          "model_module": "@jupyter-widgets/base",
          "model_name": "LayoutModel",
          "model_module_version": "1.2.0",
          "state": {
            "_model_module": "@jupyter-widgets/base",
            "_model_module_version": "1.2.0",
            "_model_name": "LayoutModel",
            "_view_count": null,
            "_view_module": "@jupyter-widgets/base",
            "_view_module_version": "1.2.0",
            "_view_name": "LayoutView",
            "align_content": null,
            "align_items": null,
            "align_self": null,
            "border": null,
            "bottom": null,
            "display": null,
            "flex": null,
            "flex_flow": null,
            "grid_area": null,
            "grid_auto_columns": null,
            "grid_auto_flow": null,
            "grid_auto_rows": null,
            "grid_column": null,
            "grid_gap": null,
            "grid_row": null,
            "grid_template_areas": null,
            "grid_template_columns": null,
            "grid_template_rows": null,
            "height": null,
            "justify_content": null,
            "justify_items": null,
            "left": null,
            "margin": null,
            "max_height": null,
            "max_width": null,
            "min_height": null,
            "min_width": null,
            "object_fit": null,
            "object_position": null,
            "order": null,
            "overflow": null,
            "overflow_x": null,
            "overflow_y": null,
            "padding": null,
            "right": null,
            "top": null,
            "visibility": null,
            "width": null
          }
        },
        "de2eda80a9664b09843ce30f0614cf09": {
          "model_module": "@jupyter-widgets/base",
          "model_name": "LayoutModel",
          "model_module_version": "1.2.0",
          "state": {
            "_model_module": "@jupyter-widgets/base",
            "_model_module_version": "1.2.0",
            "_model_name": "LayoutModel",
            "_view_count": null,
            "_view_module": "@jupyter-widgets/base",
            "_view_module_version": "1.2.0",
            "_view_name": "LayoutView",
            "align_content": null,
            "align_items": null,
            "align_self": null,
            "border": null,
            "bottom": null,
            "display": null,
            "flex": null,
            "flex_flow": null,
            "grid_area": null,
            "grid_auto_columns": null,
            "grid_auto_flow": null,
            "grid_auto_rows": null,
            "grid_column": null,
            "grid_gap": null,
            "grid_row": null,
            "grid_template_areas": null,
            "grid_template_columns": null,
            "grid_template_rows": null,
            "height": null,
            "justify_content": null,
            "justify_items": null,
            "left": null,
            "margin": null,
            "max_height": null,
            "max_width": null,
            "min_height": null,
            "min_width": null,
            "object_fit": null,
            "object_position": null,
            "order": null,
            "overflow": null,
            "overflow_x": null,
            "overflow_y": null,
            "padding": null,
            "right": null,
            "top": null,
            "visibility": null,
            "width": null
          }
        },
        "0ad6ee2acebb4092a6439b8e21ad8084": {
          "model_module": "@jupyter-widgets/controls",
          "model_name": "DescriptionStyleModel",
          "model_module_version": "1.5.0",
          "state": {
            "_model_module": "@jupyter-widgets/controls",
            "_model_module_version": "1.5.0",
            "_model_name": "DescriptionStyleModel",
            "_view_count": null,
            "_view_module": "@jupyter-widgets/base",
            "_view_module_version": "1.2.0",
            "_view_name": "StyleView",
            "description_width": ""
          }
        },
        "1fac7918bb6c43018f557e25bda1f12f": {
          "model_module": "@jupyter-widgets/base",
          "model_name": "LayoutModel",
          "model_module_version": "1.2.0",
          "state": {
            "_model_module": "@jupyter-widgets/base",
            "_model_module_version": "1.2.0",
            "_model_name": "LayoutModel",
            "_view_count": null,
            "_view_module": "@jupyter-widgets/base",
            "_view_module_version": "1.2.0",
            "_view_name": "LayoutView",
            "align_content": null,
            "align_items": null,
            "align_self": null,
            "border": null,
            "bottom": null,
            "display": null,
            "flex": null,
            "flex_flow": null,
            "grid_area": null,
            "grid_auto_columns": null,
            "grid_auto_flow": null,
            "grid_auto_rows": null,
            "grid_column": null,
            "grid_gap": null,
            "grid_row": null,
            "grid_template_areas": null,
            "grid_template_columns": null,
            "grid_template_rows": null,
            "height": null,
            "justify_content": null,
            "justify_items": null,
            "left": null,
            "margin": null,
            "max_height": null,
            "max_width": null,
            "min_height": null,
            "min_width": null,
            "object_fit": null,
            "object_position": null,
            "order": null,
            "overflow": null,
            "overflow_x": null,
            "overflow_y": null,
            "padding": null,
            "right": null,
            "top": null,
            "visibility": null,
            "width": null
          }
        },
        "fb26eb5b934f4d3cb8e01fcd99db7238": {
          "model_module": "@jupyter-widgets/controls",
          "model_name": "ProgressStyleModel",
          "model_module_version": "1.5.0",
          "state": {
            "_model_module": "@jupyter-widgets/controls",
            "_model_module_version": "1.5.0",
            "_model_name": "ProgressStyleModel",
            "_view_count": null,
            "_view_module": "@jupyter-widgets/base",
            "_view_module_version": "1.2.0",
            "_view_name": "StyleView",
            "bar_color": null,
            "description_width": ""
          }
        },
        "11d0a854e23843ea9d38397f9869a7de": {
          "model_module": "@jupyter-widgets/base",
          "model_name": "LayoutModel",
          "model_module_version": "1.2.0",
          "state": {
            "_model_module": "@jupyter-widgets/base",
            "_model_module_version": "1.2.0",
            "_model_name": "LayoutModel",
            "_view_count": null,
            "_view_module": "@jupyter-widgets/base",
            "_view_module_version": "1.2.0",
            "_view_name": "LayoutView",
            "align_content": null,
            "align_items": null,
            "align_self": null,
            "border": null,
            "bottom": null,
            "display": null,
            "flex": null,
            "flex_flow": null,
            "grid_area": null,
            "grid_auto_columns": null,
            "grid_auto_flow": null,
            "grid_auto_rows": null,
            "grid_column": null,
            "grid_gap": null,
            "grid_row": null,
            "grid_template_areas": null,
            "grid_template_columns": null,
            "grid_template_rows": null,
            "height": null,
            "justify_content": null,
            "justify_items": null,
            "left": null,
            "margin": null,
            "max_height": null,
            "max_width": null,
            "min_height": null,
            "min_width": null,
            "object_fit": null,
            "object_position": null,
            "order": null,
            "overflow": null,
            "overflow_x": null,
            "overflow_y": null,
            "padding": null,
            "right": null,
            "top": null,
            "visibility": null,
            "width": null
          }
        },
        "6b8377446df84171835ac7086deffa89": {
          "model_module": "@jupyter-widgets/controls",
          "model_name": "DescriptionStyleModel",
          "model_module_version": "1.5.0",
          "state": {
            "_model_module": "@jupyter-widgets/controls",
            "_model_module_version": "1.5.0",
            "_model_name": "DescriptionStyleModel",
            "_view_count": null,
            "_view_module": "@jupyter-widgets/base",
            "_view_module_version": "1.2.0",
            "_view_name": "StyleView",
            "description_width": ""
          }
        },
        "e40ec1ed59284a6b8c09990b0d18111d": {
          "model_module": "@jupyter-widgets/controls",
          "model_name": "HBoxModel",
          "model_module_version": "1.5.0",
          "state": {
            "_dom_classes": [],
            "_model_module": "@jupyter-widgets/controls",
            "_model_module_version": "1.5.0",
            "_model_name": "HBoxModel",
            "_view_count": null,
            "_view_module": "@jupyter-widgets/controls",
            "_view_module_version": "1.5.0",
            "_view_name": "HBoxView",
            "box_style": "",
            "children": [
              "IPY_MODEL_29b2d0e599c14cbb9803b44515151679",
              "IPY_MODEL_3427fe1900b140feb10c0f119979e284",
              "IPY_MODEL_064756720b2b4e628b531f8f2269a88c"
            ],
            "layout": "IPY_MODEL_847692fe0e4741ee8892ec34ffb133ad"
          }
        },
        "29b2d0e599c14cbb9803b44515151679": {
          "model_module": "@jupyter-widgets/controls",
          "model_name": "HTMLModel",
          "model_module_version": "1.5.0",
          "state": {
            "_dom_classes": [],
            "_model_module": "@jupyter-widgets/controls",
            "_model_module_version": "1.5.0",
            "_model_name": "HTMLModel",
            "_view_count": null,
            "_view_module": "@jupyter-widgets/controls",
            "_view_module_version": "1.5.0",
            "_view_name": "HTMLView",
            "description": "",
            "description_tooltip": null,
            "layout": "IPY_MODEL_06ccee65eb374b75b218d12ea4a27376",
            "placeholder": "​",
            "style": "IPY_MODEL_01e2598b89eb4a8b8969f5c359e8b48f",
            "value": "vocab.txt: 100%"
          }
        },
        "3427fe1900b140feb10c0f119979e284": {
          "model_module": "@jupyter-widgets/controls",
          "model_name": "FloatProgressModel",
          "model_module_version": "1.5.0",
          "state": {
            "_dom_classes": [],
            "_model_module": "@jupyter-widgets/controls",
            "_model_module_version": "1.5.0",
            "_model_name": "FloatProgressModel",
            "_view_count": null,
            "_view_module": "@jupyter-widgets/controls",
            "_view_module_version": "1.5.0",
            "_view_name": "ProgressView",
            "bar_style": "success",
            "description": "",
            "description_tooltip": null,
            "layout": "IPY_MODEL_ffeebd867e9a482ebe20def72580b4c8",
            "max": 241796,
            "min": 0,
            "orientation": "horizontal",
            "style": "IPY_MODEL_e77523286f9949e9bbf34479430dfe91",
            "value": 241796
          }
        },
        "064756720b2b4e628b531f8f2269a88c": {
          "model_module": "@jupyter-widgets/controls",
          "model_name": "HTMLModel",
          "model_module_version": "1.5.0",
          "state": {
            "_dom_classes": [],
            "_model_module": "@jupyter-widgets/controls",
            "_model_module_version": "1.5.0",
            "_model_name": "HTMLModel",
            "_view_count": null,
            "_view_module": "@jupyter-widgets/controls",
            "_view_module_version": "1.5.0",
            "_view_name": "HTMLView",
            "description": "",
            "description_tooltip": null,
            "layout": "IPY_MODEL_8a6debe8d3704b858e739b024e1bc77b",
            "placeholder": "​",
            "style": "IPY_MODEL_bc524b97c7ae4e0d9a9b1ab808ef620f",
            "value": " 242k/242k [00:00&lt;00:00, 1.09MB/s]"
          }
        },
        "847692fe0e4741ee8892ec34ffb133ad": {
          "model_module": "@jupyter-widgets/base",
          "model_name": "LayoutModel",
          "model_module_version": "1.2.0",
          "state": {
            "_model_module": "@jupyter-widgets/base",
            "_model_module_version": "1.2.0",
            "_model_name": "LayoutModel",
            "_view_count": null,
            "_view_module": "@jupyter-widgets/base",
            "_view_module_version": "1.2.0",
            "_view_name": "LayoutView",
            "align_content": null,
            "align_items": null,
            "align_self": null,
            "border": null,
            "bottom": null,
            "display": null,
            "flex": null,
            "flex_flow": null,
            "grid_area": null,
            "grid_auto_columns": null,
            "grid_auto_flow": null,
            "grid_auto_rows": null,
            "grid_column": null,
            "grid_gap": null,
            "grid_row": null,
            "grid_template_areas": null,
            "grid_template_columns": null,
            "grid_template_rows": null,
            "height": null,
            "justify_content": null,
            "justify_items": null,
            "left": null,
            "margin": null,
            "max_height": null,
            "max_width": null,
            "min_height": null,
            "min_width": null,
            "object_fit": null,
            "object_position": null,
            "order": null,
            "overflow": null,
            "overflow_x": null,
            "overflow_y": null,
            "padding": null,
            "right": null,
            "top": null,
            "visibility": null,
            "width": null
          }
        },
        "06ccee65eb374b75b218d12ea4a27376": {
          "model_module": "@jupyter-widgets/base",
          "model_name": "LayoutModel",
          "model_module_version": "1.2.0",
          "state": {
            "_model_module": "@jupyter-widgets/base",
            "_model_module_version": "1.2.0",
            "_model_name": "LayoutModel",
            "_view_count": null,
            "_view_module": "@jupyter-widgets/base",
            "_view_module_version": "1.2.0",
            "_view_name": "LayoutView",
            "align_content": null,
            "align_items": null,
            "align_self": null,
            "border": null,
            "bottom": null,
            "display": null,
            "flex": null,
            "flex_flow": null,
            "grid_area": null,
            "grid_auto_columns": null,
            "grid_auto_flow": null,
            "grid_auto_rows": null,
            "grid_column": null,
            "grid_gap": null,
            "grid_row": null,
            "grid_template_areas": null,
            "grid_template_columns": null,
            "grid_template_rows": null,
            "height": null,
            "justify_content": null,
            "justify_items": null,
            "left": null,
            "margin": null,
            "max_height": null,
            "max_width": null,
            "min_height": null,
            "min_width": null,
            "object_fit": null,
            "object_position": null,
            "order": null,
            "overflow": null,
            "overflow_x": null,
            "overflow_y": null,
            "padding": null,
            "right": null,
            "top": null,
            "visibility": null,
            "width": null
          }
        },
        "01e2598b89eb4a8b8969f5c359e8b48f": {
          "model_module": "@jupyter-widgets/controls",
          "model_name": "DescriptionStyleModel",
          "model_module_version": "1.5.0",
          "state": {
            "_model_module": "@jupyter-widgets/controls",
            "_model_module_version": "1.5.0",
            "_model_name": "DescriptionStyleModel",
            "_view_count": null,
            "_view_module": "@jupyter-widgets/base",
            "_view_module_version": "1.2.0",
            "_view_name": "StyleView",
            "description_width": ""
          }
        },
        "ffeebd867e9a482ebe20def72580b4c8": {
          "model_module": "@jupyter-widgets/base",
          "model_name": "LayoutModel",
          "model_module_version": "1.2.0",
          "state": {
            "_model_module": "@jupyter-widgets/base",
            "_model_module_version": "1.2.0",
            "_model_name": "LayoutModel",
            "_view_count": null,
            "_view_module": "@jupyter-widgets/base",
            "_view_module_version": "1.2.0",
            "_view_name": "LayoutView",
            "align_content": null,
            "align_items": null,
            "align_self": null,
            "border": null,
            "bottom": null,
            "display": null,
            "flex": null,
            "flex_flow": null,
            "grid_area": null,
            "grid_auto_columns": null,
            "grid_auto_flow": null,
            "grid_auto_rows": null,
            "grid_column": null,
            "grid_gap": null,
            "grid_row": null,
            "grid_template_areas": null,
            "grid_template_columns": null,
            "grid_template_rows": null,
            "height": null,
            "justify_content": null,
            "justify_items": null,
            "left": null,
            "margin": null,
            "max_height": null,
            "max_width": null,
            "min_height": null,
            "min_width": null,
            "object_fit": null,
            "object_position": null,
            "order": null,
            "overflow": null,
            "overflow_x": null,
            "overflow_y": null,
            "padding": null,
            "right": null,
            "top": null,
            "visibility": null,
            "width": null
          }
        },
        "e77523286f9949e9bbf34479430dfe91": {
          "model_module": "@jupyter-widgets/controls",
          "model_name": "ProgressStyleModel",
          "model_module_version": "1.5.0",
          "state": {
            "_model_module": "@jupyter-widgets/controls",
            "_model_module_version": "1.5.0",
            "_model_name": "ProgressStyleModel",
            "_view_count": null,
            "_view_module": "@jupyter-widgets/base",
            "_view_module_version": "1.2.0",
            "_view_name": "StyleView",
            "bar_color": null,
            "description_width": ""
          }
        },
        "8a6debe8d3704b858e739b024e1bc77b": {
          "model_module": "@jupyter-widgets/base",
          "model_name": "LayoutModel",
          "model_module_version": "1.2.0",
          "state": {
            "_model_module": "@jupyter-widgets/base",
            "_model_module_version": "1.2.0",
            "_model_name": "LayoutModel",
            "_view_count": null,
            "_view_module": "@jupyter-widgets/base",
            "_view_module_version": "1.2.0",
            "_view_name": "LayoutView",
            "align_content": null,
            "align_items": null,
            "align_self": null,
            "border": null,
            "bottom": null,
            "display": null,
            "flex": null,
            "flex_flow": null,
            "grid_area": null,
            "grid_auto_columns": null,
            "grid_auto_flow": null,
            "grid_auto_rows": null,
            "grid_column": null,
            "grid_gap": null,
            "grid_row": null,
            "grid_template_areas": null,
            "grid_template_columns": null,
            "grid_template_rows": null,
            "height": null,
            "justify_content": null,
            "justify_items": null,
            "left": null,
            "margin": null,
            "max_height": null,
            "max_width": null,
            "min_height": null,
            "min_width": null,
            "object_fit": null,
            "object_position": null,
            "order": null,
            "overflow": null,
            "overflow_x": null,
            "overflow_y": null,
            "padding": null,
            "right": null,
            "top": null,
            "visibility": null,
            "width": null
          }
        },
        "bc524b97c7ae4e0d9a9b1ab808ef620f": {
          "model_module": "@jupyter-widgets/controls",
          "model_name": "DescriptionStyleModel",
          "model_module_version": "1.5.0",
          "state": {
            "_model_module": "@jupyter-widgets/controls",
            "_model_module_version": "1.5.0",
            "_model_name": "DescriptionStyleModel",
            "_view_count": null,
            "_view_module": "@jupyter-widgets/base",
            "_view_module_version": "1.2.0",
            "_view_name": "StyleView",
            "description_width": ""
          }
        },
        "ce1aaaff44ad4583be0ddd9dbfdadf02": {
          "model_module": "@jupyter-widgets/controls",
          "model_name": "HBoxModel",
          "model_module_version": "1.5.0",
          "state": {
            "_dom_classes": [],
            "_model_module": "@jupyter-widgets/controls",
            "_model_module_version": "1.5.0",
            "_model_name": "HBoxModel",
            "_view_count": null,
            "_view_module": "@jupyter-widgets/controls",
            "_view_module_version": "1.5.0",
            "_view_name": "HBoxView",
            "box_style": "",
            "children": [
              "IPY_MODEL_f18988e9f4e84a7bb65542d477c35042",
              "IPY_MODEL_8b29379e1371405fab6e6a06cf4c0015",
              "IPY_MODEL_177c4e9f13674165bdfa16bdf9f80bc2"
            ],
            "layout": "IPY_MODEL_23fe0191d8dc41daa324cf4021d12daf"
          }
        },
        "f18988e9f4e84a7bb65542d477c35042": {
          "model_module": "@jupyter-widgets/controls",
          "model_name": "HTMLModel",
          "model_module_version": "1.5.0",
          "state": {
            "_dom_classes": [],
            "_model_module": "@jupyter-widgets/controls",
            "_model_module_version": "1.5.0",
            "_model_name": "HTMLModel",
            "_view_count": null,
            "_view_module": "@jupyter-widgets/controls",
            "_view_module_version": "1.5.0",
            "_view_name": "HTMLView",
            "description": "",
            "description_tooltip": null,
            "layout": "IPY_MODEL_88e95fa4476a4d09b158c3f0a01883dc",
            "placeholder": "​",
            "style": "IPY_MODEL_38de4b46afde4614b6fcfb4fadf848ce",
            "value": "tokenizer.json: 100%"
          }
        },
        "8b29379e1371405fab6e6a06cf4c0015": {
          "model_module": "@jupyter-widgets/controls",
          "model_name": "FloatProgressModel",
          "model_module_version": "1.5.0",
          "state": {
            "_dom_classes": [],
            "_model_module": "@jupyter-widgets/controls",
            "_model_module_version": "1.5.0",
            "_model_name": "FloatProgressModel",
            "_view_count": null,
            "_view_module": "@jupyter-widgets/controls",
            "_view_module_version": "1.5.0",
            "_view_name": "ProgressView",
            "bar_style": "success",
            "description": "",
            "description_tooltip": null,
            "layout": "IPY_MODEL_47371942e8a44853852a5043ed6316fc",
            "max": 480199,
            "min": 0,
            "orientation": "horizontal",
            "style": "IPY_MODEL_d1671fe0cada40168e3764cfb252ffef",
            "value": 480199
          }
        },
        "177c4e9f13674165bdfa16bdf9f80bc2": {
          "model_module": "@jupyter-widgets/controls",
          "model_name": "HTMLModel",
          "model_module_version": "1.5.0",
          "state": {
            "_dom_classes": [],
            "_model_module": "@jupyter-widgets/controls",
            "_model_module_version": "1.5.0",
            "_model_name": "HTMLModel",
            "_view_count": null,
            "_view_module": "@jupyter-widgets/controls",
            "_view_module_version": "1.5.0",
            "_view_name": "HTMLView",
            "description": "",
            "description_tooltip": null,
            "layout": "IPY_MODEL_70602422f213424591e067127243d3f1",
            "placeholder": "​",
            "style": "IPY_MODEL_ab6e898a39f344e3af9d76576ee9015f",
            "value": " 480k/480k [00:00&lt;00:00, 1.15MB/s]"
          }
        },
        "23fe0191d8dc41daa324cf4021d12daf": {
          "model_module": "@jupyter-widgets/base",
          "model_name": "LayoutModel",
          "model_module_version": "1.2.0",
          "state": {
            "_model_module": "@jupyter-widgets/base",
            "_model_module_version": "1.2.0",
            "_model_name": "LayoutModel",
            "_view_count": null,
            "_view_module": "@jupyter-widgets/base",
            "_view_module_version": "1.2.0",
            "_view_name": "LayoutView",
            "align_content": null,
            "align_items": null,
            "align_self": null,
            "border": null,
            "bottom": null,
            "display": null,
            "flex": null,
            "flex_flow": null,
            "grid_area": null,
            "grid_auto_columns": null,
            "grid_auto_flow": null,
            "grid_auto_rows": null,
            "grid_column": null,
            "grid_gap": null,
            "grid_row": null,
            "grid_template_areas": null,
            "grid_template_columns": null,
            "grid_template_rows": null,
            "height": null,
            "justify_content": null,
            "justify_items": null,
            "left": null,
            "margin": null,
            "max_height": null,
            "max_width": null,
            "min_height": null,
            "min_width": null,
            "object_fit": null,
            "object_position": null,
            "order": null,
            "overflow": null,
            "overflow_x": null,
            "overflow_y": null,
            "padding": null,
            "right": null,
            "top": null,
            "visibility": null,
            "width": null
          }
        },
        "88e95fa4476a4d09b158c3f0a01883dc": {
          "model_module": "@jupyter-widgets/base",
          "model_name": "LayoutModel",
          "model_module_version": "1.2.0",
          "state": {
            "_model_module": "@jupyter-widgets/base",
            "_model_module_version": "1.2.0",
            "_model_name": "LayoutModel",
            "_view_count": null,
            "_view_module": "@jupyter-widgets/base",
            "_view_module_version": "1.2.0",
            "_view_name": "LayoutView",
            "align_content": null,
            "align_items": null,
            "align_self": null,
            "border": null,
            "bottom": null,
            "display": null,
            "flex": null,
            "flex_flow": null,
            "grid_area": null,
            "grid_auto_columns": null,
            "grid_auto_flow": null,
            "grid_auto_rows": null,
            "grid_column": null,
            "grid_gap": null,
            "grid_row": null,
            "grid_template_areas": null,
            "grid_template_columns": null,
            "grid_template_rows": null,
            "height": null,
            "justify_content": null,
            "justify_items": null,
            "left": null,
            "margin": null,
            "max_height": null,
            "max_width": null,
            "min_height": null,
            "min_width": null,
            "object_fit": null,
            "object_position": null,
            "order": null,
            "overflow": null,
            "overflow_x": null,
            "overflow_y": null,
            "padding": null,
            "right": null,
            "top": null,
            "visibility": null,
            "width": null
          }
        },
        "38de4b46afde4614b6fcfb4fadf848ce": {
          "model_module": "@jupyter-widgets/controls",
          "model_name": "DescriptionStyleModel",
          "model_module_version": "1.5.0",
          "state": {
            "_model_module": "@jupyter-widgets/controls",
            "_model_module_version": "1.5.0",
            "_model_name": "DescriptionStyleModel",
            "_view_count": null,
            "_view_module": "@jupyter-widgets/base",
            "_view_module_version": "1.2.0",
            "_view_name": "StyleView",
            "description_width": ""
          }
        },
        "47371942e8a44853852a5043ed6316fc": {
          "model_module": "@jupyter-widgets/base",
          "model_name": "LayoutModel",
          "model_module_version": "1.2.0",
          "state": {
            "_model_module": "@jupyter-widgets/base",
            "_model_module_version": "1.2.0",
            "_model_name": "LayoutModel",
            "_view_count": null,
            "_view_module": "@jupyter-widgets/base",
            "_view_module_version": "1.2.0",
            "_view_name": "LayoutView",
            "align_content": null,
            "align_items": null,
            "align_self": null,
            "border": null,
            "bottom": null,
            "display": null,
            "flex": null,
            "flex_flow": null,
            "grid_area": null,
            "grid_auto_columns": null,
            "grid_auto_flow": null,
            "grid_auto_rows": null,
            "grid_column": null,
            "grid_gap": null,
            "grid_row": null,
            "grid_template_areas": null,
            "grid_template_columns": null,
            "grid_template_rows": null,
            "height": null,
            "justify_content": null,
            "justify_items": null,
            "left": null,
            "margin": null,
            "max_height": null,
            "max_width": null,
            "min_height": null,
            "min_width": null,
            "object_fit": null,
            "object_position": null,
            "order": null,
            "overflow": null,
            "overflow_x": null,
            "overflow_y": null,
            "padding": null,
            "right": null,
            "top": null,
            "visibility": null,
            "width": null
          }
        },
        "d1671fe0cada40168e3764cfb252ffef": {
          "model_module": "@jupyter-widgets/controls",
          "model_name": "ProgressStyleModel",
          "model_module_version": "1.5.0",
          "state": {
            "_model_module": "@jupyter-widgets/controls",
            "_model_module_version": "1.5.0",
            "_model_name": "ProgressStyleModel",
            "_view_count": null,
            "_view_module": "@jupyter-widgets/base",
            "_view_module_version": "1.2.0",
            "_view_name": "StyleView",
            "bar_color": null,
            "description_width": ""
          }
        },
        "70602422f213424591e067127243d3f1": {
          "model_module": "@jupyter-widgets/base",
          "model_name": "LayoutModel",
          "model_module_version": "1.2.0",
          "state": {
            "_model_module": "@jupyter-widgets/base",
            "_model_module_version": "1.2.0",
            "_model_name": "LayoutModel",
            "_view_count": null,
            "_view_module": "@jupyter-widgets/base",
            "_view_module_version": "1.2.0",
            "_view_name": "LayoutView",
            "align_content": null,
            "align_items": null,
            "align_self": null,
            "border": null,
            "bottom": null,
            "display": null,
            "flex": null,
            "flex_flow": null,
            "grid_area": null,
            "grid_auto_columns": null,
            "grid_auto_flow": null,
            "grid_auto_rows": null,
            "grid_column": null,
            "grid_gap": null,
            "grid_row": null,
            "grid_template_areas": null,
            "grid_template_columns": null,
            "grid_template_rows": null,
            "height": null,
            "justify_content": null,
            "justify_items": null,
            "left": null,
            "margin": null,
            "max_height": null,
            "max_width": null,
            "min_height": null,
            "min_width": null,
            "object_fit": null,
            "object_position": null,
            "order": null,
            "overflow": null,
            "overflow_x": null,
            "overflow_y": null,
            "padding": null,
            "right": null,
            "top": null,
            "visibility": null,
            "width": null
          }
        },
        "ab6e898a39f344e3af9d76576ee9015f": {
          "model_module": "@jupyter-widgets/controls",
          "model_name": "DescriptionStyleModel",
          "model_module_version": "1.5.0",
          "state": {
            "_model_module": "@jupyter-widgets/controls",
            "_model_module_version": "1.5.0",
            "_model_name": "DescriptionStyleModel",
            "_view_count": null,
            "_view_module": "@jupyter-widgets/base",
            "_view_module_version": "1.2.0",
            "_view_name": "StyleView",
            "description_width": ""
          }
        },
        "e0c976d843db40078fbe243b40880355": {
          "model_module": "@jupyter-widgets/controls",
          "model_name": "HBoxModel",
          "model_module_version": "1.5.0",
          "state": {
            "_dom_classes": [],
            "_model_module": "@jupyter-widgets/controls",
            "_model_module_version": "1.5.0",
            "_model_name": "HBoxModel",
            "_view_count": null,
            "_view_module": "@jupyter-widgets/controls",
            "_view_module_version": "1.5.0",
            "_view_name": "HBoxView",
            "box_style": "",
            "children": [
              "IPY_MODEL_d41f74f6416f4c06ab0feab7d44322e2",
              "IPY_MODEL_011d6d86ce8b418d800306b005da76af",
              "IPY_MODEL_467e896352a74ceb9b4de66d80fedea2"
            ],
            "layout": "IPY_MODEL_c0aaec4bbaba4ecd81493b9fb8d0791f"
          }
        },
        "d41f74f6416f4c06ab0feab7d44322e2": {
          "model_module": "@jupyter-widgets/controls",
          "model_name": "HTMLModel",
          "model_module_version": "1.5.0",
          "state": {
            "_dom_classes": [],
            "_model_module": "@jupyter-widgets/controls",
            "_model_module_version": "1.5.0",
            "_model_name": "HTMLModel",
            "_view_count": null,
            "_view_module": "@jupyter-widgets/controls",
            "_view_module_version": "1.5.0",
            "_view_name": "HTMLView",
            "description": "",
            "description_tooltip": null,
            "layout": "IPY_MODEL_f3f9adc49e634810b3bbc275a8cd176b",
            "placeholder": "​",
            "style": "IPY_MODEL_d8cb2839726f4035af93654f3ec30667",
            "value": "special_tokens_map.json: 100%"
          }
        },
        "011d6d86ce8b418d800306b005da76af": {
          "model_module": "@jupyter-widgets/controls",
          "model_name": "FloatProgressModel",
          "model_module_version": "1.5.0",
          "state": {
            "_dom_classes": [],
            "_model_module": "@jupyter-widgets/controls",
            "_model_module_version": "1.5.0",
            "_model_name": "FloatProgressModel",
            "_view_count": null,
            "_view_module": "@jupyter-widgets/controls",
            "_view_module_version": "1.5.0",
            "_view_name": "ProgressView",
            "bar_style": "success",
            "description": "",
            "description_tooltip": null,
            "layout": "IPY_MODEL_1e59552026b24c18bb3a9f664e4bd692",
            "max": 134,
            "min": 0,
            "orientation": "horizontal",
            "style": "IPY_MODEL_23a0197a0bf245358e0f89b2d41ad76e",
            "value": 134
          }
        },
        "467e896352a74ceb9b4de66d80fedea2": {
          "model_module": "@jupyter-widgets/controls",
          "model_name": "HTMLModel",
          "model_module_version": "1.5.0",
          "state": {
            "_dom_classes": [],
            "_model_module": "@jupyter-widgets/controls",
            "_model_module_version": "1.5.0",
            "_model_name": "HTMLModel",
            "_view_count": null,
            "_view_module": "@jupyter-widgets/controls",
            "_view_module_version": "1.5.0",
            "_view_name": "HTMLView",
            "description": "",
            "description_tooltip": null,
            "layout": "IPY_MODEL_bea0625665e34f58ae64f37778d4419d",
            "placeholder": "​",
            "style": "IPY_MODEL_8768b92afd30442983823a9bef2525ba",
            "value": " 134/134 [00:00&lt;00:00, 11.5kB/s]"
          }
        },
        "c0aaec4bbaba4ecd81493b9fb8d0791f": {
          "model_module": "@jupyter-widgets/base",
          "model_name": "LayoutModel",
          "model_module_version": "1.2.0",
          "state": {
            "_model_module": "@jupyter-widgets/base",
            "_model_module_version": "1.2.0",
            "_model_name": "LayoutModel",
            "_view_count": null,
            "_view_module": "@jupyter-widgets/base",
            "_view_module_version": "1.2.0",
            "_view_name": "LayoutView",
            "align_content": null,
            "align_items": null,
            "align_self": null,
            "border": null,
            "bottom": null,
            "display": null,
            "flex": null,
            "flex_flow": null,
            "grid_area": null,
            "grid_auto_columns": null,
            "grid_auto_flow": null,
            "grid_auto_rows": null,
            "grid_column": null,
            "grid_gap": null,
            "grid_row": null,
            "grid_template_areas": null,
            "grid_template_columns": null,
            "grid_template_rows": null,
            "height": null,
            "justify_content": null,
            "justify_items": null,
            "left": null,
            "margin": null,
            "max_height": null,
            "max_width": null,
            "min_height": null,
            "min_width": null,
            "object_fit": null,
            "object_position": null,
            "order": null,
            "overflow": null,
            "overflow_x": null,
            "overflow_y": null,
            "padding": null,
            "right": null,
            "top": null,
            "visibility": null,
            "width": null
          }
        },
        "f3f9adc49e634810b3bbc275a8cd176b": {
          "model_module": "@jupyter-widgets/base",
          "model_name": "LayoutModel",
          "model_module_version": "1.2.0",
          "state": {
            "_model_module": "@jupyter-widgets/base",
            "_model_module_version": "1.2.0",
            "_model_name": "LayoutModel",
            "_view_count": null,
            "_view_module": "@jupyter-widgets/base",
            "_view_module_version": "1.2.0",
            "_view_name": "LayoutView",
            "align_content": null,
            "align_items": null,
            "align_self": null,
            "border": null,
            "bottom": null,
            "display": null,
            "flex": null,
            "flex_flow": null,
            "grid_area": null,
            "grid_auto_columns": null,
            "grid_auto_flow": null,
            "grid_auto_rows": null,
            "grid_column": null,
            "grid_gap": null,
            "grid_row": null,
            "grid_template_areas": null,
            "grid_template_columns": null,
            "grid_template_rows": null,
            "height": null,
            "justify_content": null,
            "justify_items": null,
            "left": null,
            "margin": null,
            "max_height": null,
            "max_width": null,
            "min_height": null,
            "min_width": null,
            "object_fit": null,
            "object_position": null,
            "order": null,
            "overflow": null,
            "overflow_x": null,
            "overflow_y": null,
            "padding": null,
            "right": null,
            "top": null,
            "visibility": null,
            "width": null
          }
        },
        "d8cb2839726f4035af93654f3ec30667": {
          "model_module": "@jupyter-widgets/controls",
          "model_name": "DescriptionStyleModel",
          "model_module_version": "1.5.0",
          "state": {
            "_model_module": "@jupyter-widgets/controls",
            "_model_module_version": "1.5.0",
            "_model_name": "DescriptionStyleModel",
            "_view_count": null,
            "_view_module": "@jupyter-widgets/base",
            "_view_module_version": "1.2.0",
            "_view_name": "StyleView",
            "description_width": ""
          }
        },
        "1e59552026b24c18bb3a9f664e4bd692": {
          "model_module": "@jupyter-widgets/base",
          "model_name": "LayoutModel",
          "model_module_version": "1.2.0",
          "state": {
            "_model_module": "@jupyter-widgets/base",
            "_model_module_version": "1.2.0",
            "_model_name": "LayoutModel",
            "_view_count": null,
            "_view_module": "@jupyter-widgets/base",
            "_view_module_version": "1.2.0",
            "_view_name": "LayoutView",
            "align_content": null,
            "align_items": null,
            "align_self": null,
            "border": null,
            "bottom": null,
            "display": null,
            "flex": null,
            "flex_flow": null,
            "grid_area": null,
            "grid_auto_columns": null,
            "grid_auto_flow": null,
            "grid_auto_rows": null,
            "grid_column": null,
            "grid_gap": null,
            "grid_row": null,
            "grid_template_areas": null,
            "grid_template_columns": null,
            "grid_template_rows": null,
            "height": null,
            "justify_content": null,
            "justify_items": null,
            "left": null,
            "margin": null,
            "max_height": null,
            "max_width": null,
            "min_height": null,
            "min_width": null,
            "object_fit": null,
            "object_position": null,
            "order": null,
            "overflow": null,
            "overflow_x": null,
            "overflow_y": null,
            "padding": null,
            "right": null,
            "top": null,
            "visibility": null,
            "width": null
          }
        },
        "23a0197a0bf245358e0f89b2d41ad76e": {
          "model_module": "@jupyter-widgets/controls",
          "model_name": "ProgressStyleModel",
          "model_module_version": "1.5.0",
          "state": {
            "_model_module": "@jupyter-widgets/controls",
            "_model_module_version": "1.5.0",
            "_model_name": "ProgressStyleModel",
            "_view_count": null,
            "_view_module": "@jupyter-widgets/base",
            "_view_module_version": "1.2.0",
            "_view_name": "StyleView",
            "bar_color": null,
            "description_width": ""
          }
        },
        "bea0625665e34f58ae64f37778d4419d": {
          "model_module": "@jupyter-widgets/base",
          "model_name": "LayoutModel",
          "model_module_version": "1.2.0",
          "state": {
            "_model_module": "@jupyter-widgets/base",
            "_model_module_version": "1.2.0",
            "_model_name": "LayoutModel",
            "_view_count": null,
            "_view_module": "@jupyter-widgets/base",
            "_view_module_version": "1.2.0",
            "_view_name": "LayoutView",
            "align_content": null,
            "align_items": null,
            "align_self": null,
            "border": null,
            "bottom": null,
            "display": null,
            "flex": null,
            "flex_flow": null,
            "grid_area": null,
            "grid_auto_columns": null,
            "grid_auto_flow": null,
            "grid_auto_rows": null,
            "grid_column": null,
            "grid_gap": null,
            "grid_row": null,
            "grid_template_areas": null,
            "grid_template_columns": null,
            "grid_template_rows": null,
            "height": null,
            "justify_content": null,
            "justify_items": null,
            "left": null,
            "margin": null,
            "max_height": null,
            "max_width": null,
            "min_height": null,
            "min_width": null,
            "object_fit": null,
            "object_position": null,
            "order": null,
            "overflow": null,
            "overflow_x": null,
            "overflow_y": null,
            "padding": null,
            "right": null,
            "top": null,
            "visibility": null,
            "width": null
          }
        },
        "8768b92afd30442983823a9bef2525ba": {
          "model_module": "@jupyter-widgets/controls",
          "model_name": "DescriptionStyleModel",
          "model_module_version": "1.5.0",
          "state": {
            "_model_module": "@jupyter-widgets/controls",
            "_model_module_version": "1.5.0",
            "_model_name": "DescriptionStyleModel",
            "_view_count": null,
            "_view_module": "@jupyter-widgets/base",
            "_view_module_version": "1.2.0",
            "_view_name": "StyleView",
            "description_width": ""
          }
        },
        "14aa7c29214d48e1bebad172cb9ff3f1": {
          "model_module": "@jupyter-widgets/controls",
          "model_name": "HBoxModel",
          "model_module_version": "1.5.0",
          "state": {
            "_dom_classes": [],
            "_model_module": "@jupyter-widgets/controls",
            "_model_module_version": "1.5.0",
            "_model_name": "HBoxModel",
            "_view_count": null,
            "_view_module": "@jupyter-widgets/controls",
            "_view_module_version": "1.5.0",
            "_view_name": "HBoxView",
            "box_style": "",
            "children": [
              "IPY_MODEL_be626ac22cc84128862f0802140206ac",
              "IPY_MODEL_4292a9d9b9474686889e8aebe768abd2",
              "IPY_MODEL_194df3c05b6c4e3e9ad48efc4acb2591"
            ],
            "layout": "IPY_MODEL_a83f5624c51849f1949f4c8a1e94a6ed"
          }
        },
        "be626ac22cc84128862f0802140206ac": {
          "model_module": "@jupyter-widgets/controls",
          "model_name": "HTMLModel",
          "model_module_version": "1.5.0",
          "state": {
            "_dom_classes": [],
            "_model_module": "@jupyter-widgets/controls",
            "_model_module_version": "1.5.0",
            "_model_name": "HTMLModel",
            "_view_count": null,
            "_view_module": "@jupyter-widgets/controls",
            "_view_module_version": "1.5.0",
            "_view_name": "HTMLView",
            "description": "",
            "description_tooltip": null,
            "layout": "IPY_MODEL_3f9f9fb84efd44aa8983cbb5281dda8a",
            "placeholder": "​",
            "style": "IPY_MODEL_db2bd9a022b3484d990ea03752c6ed94",
            "value": "pytorch_model.bin: 100%"
          }
        },
        "4292a9d9b9474686889e8aebe768abd2": {
          "model_module": "@jupyter-widgets/controls",
          "model_name": "FloatProgressModel",
          "model_module_version": "1.5.0",
          "state": {
            "_dom_classes": [],
            "_model_module": "@jupyter-widgets/controls",
            "_model_module_version": "1.5.0",
            "_model_name": "FloatProgressModel",
            "_view_count": null,
            "_view_module": "@jupyter-widgets/controls",
            "_view_module_version": "1.5.0",
            "_view_name": "ProgressView",
            "bar_style": "success",
            "description": "",
            "description_tooltip": null,
            "layout": "IPY_MODEL_e0f97ba138874601b6769fb86d8be2e7",
            "max": 439621341,
            "min": 0,
            "orientation": "horizontal",
            "style": "IPY_MODEL_88971eed14ff4ad08bbe41ccda8c1e09",
            "value": 439621341
          }
        },
        "194df3c05b6c4e3e9ad48efc4acb2591": {
          "model_module": "@jupyter-widgets/controls",
          "model_name": "HTMLModel",
          "model_module_version": "1.5.0",
          "state": {
            "_dom_classes": [],
            "_model_module": "@jupyter-widgets/controls",
            "_model_module_version": "1.5.0",
            "_model_name": "HTMLModel",
            "_view_count": null,
            "_view_module": "@jupyter-widgets/controls",
            "_view_module_version": "1.5.0",
            "_view_name": "HTMLView",
            "description": "",
            "description_tooltip": null,
            "layout": "IPY_MODEL_39ab7426555e4526833f82a56f4397cf",
            "placeholder": "​",
            "style": "IPY_MODEL_8c6813af01cb4db3accc7cf01d03e60b",
            "value": " 440M/440M [00:06&lt;00:00, 81.4MB/s]"
          }
        },
        "a83f5624c51849f1949f4c8a1e94a6ed": {
          "model_module": "@jupyter-widgets/base",
          "model_name": "LayoutModel",
          "model_module_version": "1.2.0",
          "state": {
            "_model_module": "@jupyter-widgets/base",
            "_model_module_version": "1.2.0",
            "_model_name": "LayoutModel",
            "_view_count": null,
            "_view_module": "@jupyter-widgets/base",
            "_view_module_version": "1.2.0",
            "_view_name": "LayoutView",
            "align_content": null,
            "align_items": null,
            "align_self": null,
            "border": null,
            "bottom": null,
            "display": null,
            "flex": null,
            "flex_flow": null,
            "grid_area": null,
            "grid_auto_columns": null,
            "grid_auto_flow": null,
            "grid_auto_rows": null,
            "grid_column": null,
            "grid_gap": null,
            "grid_row": null,
            "grid_template_areas": null,
            "grid_template_columns": null,
            "grid_template_rows": null,
            "height": null,
            "justify_content": null,
            "justify_items": null,
            "left": null,
            "margin": null,
            "max_height": null,
            "max_width": null,
            "min_height": null,
            "min_width": null,
            "object_fit": null,
            "object_position": null,
            "order": null,
            "overflow": null,
            "overflow_x": null,
            "overflow_y": null,
            "padding": null,
            "right": null,
            "top": null,
            "visibility": null,
            "width": null
          }
        },
        "3f9f9fb84efd44aa8983cbb5281dda8a": {
          "model_module": "@jupyter-widgets/base",
          "model_name": "LayoutModel",
          "model_module_version": "1.2.0",
          "state": {
            "_model_module": "@jupyter-widgets/base",
            "_model_module_version": "1.2.0",
            "_model_name": "LayoutModel",
            "_view_count": null,
            "_view_module": "@jupyter-widgets/base",
            "_view_module_version": "1.2.0",
            "_view_name": "LayoutView",
            "align_content": null,
            "align_items": null,
            "align_self": null,
            "border": null,
            "bottom": null,
            "display": null,
            "flex": null,
            "flex_flow": null,
            "grid_area": null,
            "grid_auto_columns": null,
            "grid_auto_flow": null,
            "grid_auto_rows": null,
            "grid_column": null,
            "grid_gap": null,
            "grid_row": null,
            "grid_template_areas": null,
            "grid_template_columns": null,
            "grid_template_rows": null,
            "height": null,
            "justify_content": null,
            "justify_items": null,
            "left": null,
            "margin": null,
            "max_height": null,
            "max_width": null,
            "min_height": null,
            "min_width": null,
            "object_fit": null,
            "object_position": null,
            "order": null,
            "overflow": null,
            "overflow_x": null,
            "overflow_y": null,
            "padding": null,
            "right": null,
            "top": null,
            "visibility": null,
            "width": null
          }
        },
        "db2bd9a022b3484d990ea03752c6ed94": {
          "model_module": "@jupyter-widgets/controls",
          "model_name": "DescriptionStyleModel",
          "model_module_version": "1.5.0",
          "state": {
            "_model_module": "@jupyter-widgets/controls",
            "_model_module_version": "1.5.0",
            "_model_name": "DescriptionStyleModel",
            "_view_count": null,
            "_view_module": "@jupyter-widgets/base",
            "_view_module_version": "1.2.0",
            "_view_name": "StyleView",
            "description_width": ""
          }
        },
        "e0f97ba138874601b6769fb86d8be2e7": {
          "model_module": "@jupyter-widgets/base",
          "model_name": "LayoutModel",
          "model_module_version": "1.2.0",
          "state": {
            "_model_module": "@jupyter-widgets/base",
            "_model_module_version": "1.2.0",
            "_model_name": "LayoutModel",
            "_view_count": null,
            "_view_module": "@jupyter-widgets/base",
            "_view_module_version": "1.2.0",
            "_view_name": "LayoutView",
            "align_content": null,
            "align_items": null,
            "align_self": null,
            "border": null,
            "bottom": null,
            "display": null,
            "flex": null,
            "flex_flow": null,
            "grid_area": null,
            "grid_auto_columns": null,
            "grid_auto_flow": null,
            "grid_auto_rows": null,
            "grid_column": null,
            "grid_gap": null,
            "grid_row": null,
            "grid_template_areas": null,
            "grid_template_columns": null,
            "grid_template_rows": null,
            "height": null,
            "justify_content": null,
            "justify_items": null,
            "left": null,
            "margin": null,
            "max_height": null,
            "max_width": null,
            "min_height": null,
            "min_width": null,
            "object_fit": null,
            "object_position": null,
            "order": null,
            "overflow": null,
            "overflow_x": null,
            "overflow_y": null,
            "padding": null,
            "right": null,
            "top": null,
            "visibility": null,
            "width": null
          }
        },
        "88971eed14ff4ad08bbe41ccda8c1e09": {
          "model_module": "@jupyter-widgets/controls",
          "model_name": "ProgressStyleModel",
          "model_module_version": "1.5.0",
          "state": {
            "_model_module": "@jupyter-widgets/controls",
            "_model_module_version": "1.5.0",
            "_model_name": "ProgressStyleModel",
            "_view_count": null,
            "_view_module": "@jupyter-widgets/base",
            "_view_module_version": "1.2.0",
            "_view_name": "StyleView",
            "bar_color": null,
            "description_width": ""
          }
        },
        "39ab7426555e4526833f82a56f4397cf": {
          "model_module": "@jupyter-widgets/base",
          "model_name": "LayoutModel",
          "model_module_version": "1.2.0",
          "state": {
            "_model_module": "@jupyter-widgets/base",
            "_model_module_version": "1.2.0",
            "_model_name": "LayoutModel",
            "_view_count": null,
            "_view_module": "@jupyter-widgets/base",
            "_view_module_version": "1.2.0",
            "_view_name": "LayoutView",
            "align_content": null,
            "align_items": null,
            "align_self": null,
            "border": null,
            "bottom": null,
            "display": null,
            "flex": null,
            "flex_flow": null,
            "grid_area": null,
            "grid_auto_columns": null,
            "grid_auto_flow": null,
            "grid_auto_rows": null,
            "grid_column": null,
            "grid_gap": null,
            "grid_row": null,
            "grid_template_areas": null,
            "grid_template_columns": null,
            "grid_template_rows": null,
            "height": null,
            "justify_content": null,
            "justify_items": null,
            "left": null,
            "margin": null,
            "max_height": null,
            "max_width": null,
            "min_height": null,
            "min_width": null,
            "object_fit": null,
            "object_position": null,
            "order": null,
            "overflow": null,
            "overflow_x": null,
            "overflow_y": null,
            "padding": null,
            "right": null,
            "top": null,
            "visibility": null,
            "width": null
          }
        },
        "8c6813af01cb4db3accc7cf01d03e60b": {
          "model_module": "@jupyter-widgets/controls",
          "model_name": "DescriptionStyleModel",
          "model_module_version": "1.5.0",
          "state": {
            "_model_module": "@jupyter-widgets/controls",
            "_model_module_version": "1.5.0",
            "_model_name": "DescriptionStyleModel",
            "_view_count": null,
            "_view_module": "@jupyter-widgets/base",
            "_view_module_version": "1.2.0",
            "_view_name": "StyleView",
            "description_width": ""
          }
        }
      }
    }
  },
  "cells": [
    {
      "cell_type": "markdown",
      "metadata": {
        "id": "view-in-github",
        "colab_type": "text"
      },
      "source": [
        "<a href=\"https://colab.research.google.com/github/Nataliaricotorres/ean_PNL/blob/main/clasificacion%20noticias/Modelo_Bert_e_Informe.ipynb\" target=\"_parent\"><img src=\"https://colab.research.google.com/assets/colab-badge.svg\" alt=\"Open In Colab\"/></a>"
      ]
    },
    {
      "cell_type": "markdown",
      "source": [
        "# Proyecto 2 curso PNL\n",
        "Integrantes del grupo\n",
        "\n",
        "* Geraldine Patiño\n",
        "* Natalia Rico\n",
        "* Juan Sebastian Lozano"
      ],
      "metadata": {
        "id": "WR8qbFAapVEa"
      }
    },
    {
      "cell_type": "markdown",
      "metadata": {
        "id": "-toWuB6_qUDt"
      },
      "source": [
        "# Ejercicio 1: Carga y Preprocesamiento de Datos\n",
        "\n",
        "**Objetivo:** Familiarizarse con el conjunto de datos y prepararlos para el entrenamiento del modelo BERT en español."
      ]
    },
    {
      "cell_type": "code",
      "source": [
        "# Instalar las dependencias necesarias\n",
        "!pip install transformers datasets torch scikit-learn\n",
        "!pip install \"fsspec==2024.10.0\" \"gcsfs==2024.10.0\"\n",
        "!pip install --upgrade gcsfs"
      ],
      "metadata": {
        "colab": {
          "base_uri": "https://localhost:8080/"
        },
        "collapsed": true,
        "id": "AMYDtFf1O-Ce",
        "outputId": "3bd3d106-7be6-4cf9-d81f-304677e3c175"
      },
      "execution_count": null,
      "outputs": [
        {
          "output_type": "stream",
          "name": "stdout",
          "text": [
            "Requirement already satisfied: transformers in /usr/local/lib/python3.10/dist-packages (4.46.3)\n",
            "Collecting datasets\n",
            "  Downloading datasets-3.2.0-py3-none-any.whl.metadata (20 kB)\n",
            "Requirement already satisfied: torch in /usr/local/lib/python3.10/dist-packages (2.5.1+cu121)\n",
            "Requirement already satisfied: scikit-learn in /usr/local/lib/python3.10/dist-packages (1.5.2)\n",
            "Requirement already satisfied: filelock in /usr/local/lib/python3.10/dist-packages (from transformers) (3.16.1)\n",
            "Requirement already satisfied: huggingface-hub<1.0,>=0.23.2 in /usr/local/lib/python3.10/dist-packages (from transformers) (0.26.5)\n",
            "Requirement already satisfied: numpy>=1.17 in /usr/local/lib/python3.10/dist-packages (from transformers) (1.26.4)\n",
            "Requirement already satisfied: packaging>=20.0 in /usr/local/lib/python3.10/dist-packages (from transformers) (24.2)\n",
            "Requirement already satisfied: pyyaml>=5.1 in /usr/local/lib/python3.10/dist-packages (from transformers) (6.0.2)\n",
            "Requirement already satisfied: regex!=2019.12.17 in /usr/local/lib/python3.10/dist-packages (from transformers) (2024.9.11)\n",
            "Requirement already satisfied: requests in /usr/local/lib/python3.10/dist-packages (from transformers) (2.32.3)\n",
            "Requirement already satisfied: tokenizers<0.21,>=0.20 in /usr/local/lib/python3.10/dist-packages (from transformers) (0.20.3)\n",
            "Requirement already satisfied: safetensors>=0.4.1 in /usr/local/lib/python3.10/dist-packages (from transformers) (0.4.5)\n",
            "Requirement already satisfied: tqdm>=4.27 in /usr/local/lib/python3.10/dist-packages (from transformers) (4.66.6)\n",
            "Requirement already satisfied: pyarrow>=15.0.0 in /usr/local/lib/python3.10/dist-packages (from datasets) (17.0.0)\n",
            "Collecting dill<0.3.9,>=0.3.0 (from datasets)\n",
            "  Downloading dill-0.3.8-py3-none-any.whl.metadata (10 kB)\n",
            "Requirement already satisfied: pandas in /usr/local/lib/python3.10/dist-packages (from datasets) (2.2.2)\n",
            "Collecting xxhash (from datasets)\n",
            "  Downloading xxhash-3.5.0-cp310-cp310-manylinux_2_17_x86_64.manylinux2014_x86_64.whl.metadata (12 kB)\n",
            "Collecting multiprocess<0.70.17 (from datasets)\n",
            "  Downloading multiprocess-0.70.16-py310-none-any.whl.metadata (7.2 kB)\n",
            "Collecting fsspec<=2024.9.0,>=2023.1.0 (from fsspec[http]<=2024.9.0,>=2023.1.0->datasets)\n",
            "  Downloading fsspec-2024.9.0-py3-none-any.whl.metadata (11 kB)\n",
            "Requirement already satisfied: aiohttp in /usr/local/lib/python3.10/dist-packages (from datasets) (3.11.10)\n",
            "Requirement already satisfied: typing-extensions>=4.8.0 in /usr/local/lib/python3.10/dist-packages (from torch) (4.12.2)\n",
            "Requirement already satisfied: networkx in /usr/local/lib/python3.10/dist-packages (from torch) (3.4.2)\n",
            "Requirement already satisfied: jinja2 in /usr/local/lib/python3.10/dist-packages (from torch) (3.1.4)\n",
            "Requirement already satisfied: sympy==1.13.1 in /usr/local/lib/python3.10/dist-packages (from torch) (1.13.1)\n",
            "Requirement already satisfied: mpmath<1.4,>=1.1.0 in /usr/local/lib/python3.10/dist-packages (from sympy==1.13.1->torch) (1.3.0)\n",
            "Requirement already satisfied: scipy>=1.6.0 in /usr/local/lib/python3.10/dist-packages (from scikit-learn) (1.13.1)\n",
            "Requirement already satisfied: joblib>=1.2.0 in /usr/local/lib/python3.10/dist-packages (from scikit-learn) (1.4.2)\n",
            "Requirement already satisfied: threadpoolctl>=3.1.0 in /usr/local/lib/python3.10/dist-packages (from scikit-learn) (3.5.0)\n",
            "Requirement already satisfied: aiohappyeyeballs>=2.3.0 in /usr/local/lib/python3.10/dist-packages (from aiohttp->datasets) (2.4.4)\n",
            "Requirement already satisfied: aiosignal>=1.1.2 in /usr/local/lib/python3.10/dist-packages (from aiohttp->datasets) (1.3.1)\n",
            "Requirement already satisfied: async-timeout<6.0,>=4.0 in /usr/local/lib/python3.10/dist-packages (from aiohttp->datasets) (4.0.3)\n",
            "Requirement already satisfied: attrs>=17.3.0 in /usr/local/lib/python3.10/dist-packages (from aiohttp->datasets) (24.2.0)\n",
            "Requirement already satisfied: frozenlist>=1.1.1 in /usr/local/lib/python3.10/dist-packages (from aiohttp->datasets) (1.5.0)\n",
            "Requirement already satisfied: multidict<7.0,>=4.5 in /usr/local/lib/python3.10/dist-packages (from aiohttp->datasets) (6.1.0)\n",
            "Requirement already satisfied: propcache>=0.2.0 in /usr/local/lib/python3.10/dist-packages (from aiohttp->datasets) (0.2.1)\n",
            "Requirement already satisfied: yarl<2.0,>=1.17.0 in /usr/local/lib/python3.10/dist-packages (from aiohttp->datasets) (1.18.3)\n",
            "Requirement already satisfied: charset-normalizer<4,>=2 in /usr/local/lib/python3.10/dist-packages (from requests->transformers) (3.4.0)\n",
            "Requirement already satisfied: idna<4,>=2.5 in /usr/local/lib/python3.10/dist-packages (from requests->transformers) (3.10)\n",
            "Requirement already satisfied: urllib3<3,>=1.21.1 in /usr/local/lib/python3.10/dist-packages (from requests->transformers) (2.2.3)\n",
            "Requirement already satisfied: certifi>=2017.4.17 in /usr/local/lib/python3.10/dist-packages (from requests->transformers) (2024.8.30)\n",
            "Requirement already satisfied: MarkupSafe>=2.0 in /usr/local/lib/python3.10/dist-packages (from jinja2->torch) (3.0.2)\n",
            "Requirement already satisfied: python-dateutil>=2.8.2 in /usr/local/lib/python3.10/dist-packages (from pandas->datasets) (2.8.2)\n",
            "Requirement already satisfied: pytz>=2020.1 in /usr/local/lib/python3.10/dist-packages (from pandas->datasets) (2024.2)\n",
            "Requirement already satisfied: tzdata>=2022.7 in /usr/local/lib/python3.10/dist-packages (from pandas->datasets) (2024.2)\n",
            "Requirement already satisfied: six>=1.5 in /usr/local/lib/python3.10/dist-packages (from python-dateutil>=2.8.2->pandas->datasets) (1.17.0)\n",
            "Downloading datasets-3.2.0-py3-none-any.whl (480 kB)\n",
            "\u001b[2K   \u001b[90m━━━━━━━━━━━━━━━━━━━━━━━━━━━━━━━━━━━━━━━━\u001b[0m \u001b[32m480.6/480.6 kB\u001b[0m \u001b[31m14.6 MB/s\u001b[0m eta \u001b[36m0:00:00\u001b[0m\n",
            "\u001b[?25hDownloading dill-0.3.8-py3-none-any.whl (116 kB)\n",
            "\u001b[2K   \u001b[90m━━━━━━━━━━━━━━━━━━━━━━━━━━━━━━━━━━━━━━━━\u001b[0m \u001b[32m116.3/116.3 kB\u001b[0m \u001b[31m8.1 MB/s\u001b[0m eta \u001b[36m0:00:00\u001b[0m\n",
            "\u001b[?25hDownloading fsspec-2024.9.0-py3-none-any.whl (179 kB)\n",
            "\u001b[2K   \u001b[90m━━━━━━━━━━━━━━━━━━━━━━━━━━━━━━━━━━━━━━━━\u001b[0m \u001b[32m179.3/179.3 kB\u001b[0m \u001b[31m15.7 MB/s\u001b[0m eta \u001b[36m0:00:00\u001b[0m\n",
            "\u001b[?25hDownloading multiprocess-0.70.16-py310-none-any.whl (134 kB)\n",
            "\u001b[2K   \u001b[90m━━━━━━━━━━━━━━━━━━━━━━━━━━━━━━━━━━━━━━━━\u001b[0m \u001b[32m134.8/134.8 kB\u001b[0m \u001b[31m8.7 MB/s\u001b[0m eta \u001b[36m0:00:00\u001b[0m\n",
            "\u001b[?25hDownloading xxhash-3.5.0-cp310-cp310-manylinux_2_17_x86_64.manylinux2014_x86_64.whl (194 kB)\n",
            "\u001b[2K   \u001b[90m━━━━━━━━━━━━━━━━━━━━━━━━━━━━━━━━━━━━━━━━\u001b[0m \u001b[32m194.1/194.1 kB\u001b[0m \u001b[31m16.7 MB/s\u001b[0m eta \u001b[36m0:00:00\u001b[0m\n",
            "\u001b[?25hInstalling collected packages: xxhash, fsspec, dill, multiprocess, datasets\n",
            "  Attempting uninstall: fsspec\n",
            "    Found existing installation: fsspec 2024.10.0\n",
            "    Uninstalling fsspec-2024.10.0:\n",
            "      Successfully uninstalled fsspec-2024.10.0\n",
            "\u001b[31mERROR: pip's dependency resolver does not currently take into account all the packages that are installed. This behaviour is the source of the following dependency conflicts.\n",
            "gcsfs 2024.10.0 requires fsspec==2024.10.0, but you have fsspec 2024.9.0 which is incompatible.\u001b[0m\u001b[31m\n",
            "\u001b[0mSuccessfully installed datasets-3.2.0 dill-0.3.8 fsspec-2024.9.0 multiprocess-0.70.16 xxhash-3.5.0\n",
            "Collecting fsspec==2024.10.0\n",
            "  Downloading fsspec-2024.10.0-py3-none-any.whl.metadata (11 kB)\n",
            "Requirement already satisfied: gcsfs==2024.10.0 in /usr/local/lib/python3.10/dist-packages (2024.10.0)\n",
            "Requirement already satisfied: aiohttp!=4.0.0a0,!=4.0.0a1 in /usr/local/lib/python3.10/dist-packages (from gcsfs==2024.10.0) (3.11.10)\n",
            "Requirement already satisfied: decorator>4.1.2 in /usr/local/lib/python3.10/dist-packages (from gcsfs==2024.10.0) (4.4.2)\n",
            "Requirement already satisfied: google-auth>=1.2 in /usr/local/lib/python3.10/dist-packages (from gcsfs==2024.10.0) (2.27.0)\n",
            "Requirement already satisfied: google-auth-oauthlib in /usr/local/lib/python3.10/dist-packages (from gcsfs==2024.10.0) (1.2.1)\n",
            "Requirement already satisfied: google-cloud-storage in /usr/local/lib/python3.10/dist-packages (from gcsfs==2024.10.0) (2.8.0)\n",
            "Requirement already satisfied: requests in /usr/local/lib/python3.10/dist-packages (from gcsfs==2024.10.0) (2.32.3)\n",
            "Requirement already satisfied: aiohappyeyeballs>=2.3.0 in /usr/local/lib/python3.10/dist-packages (from aiohttp!=4.0.0a0,!=4.0.0a1->gcsfs==2024.10.0) (2.4.4)\n",
            "Requirement already satisfied: aiosignal>=1.1.2 in /usr/local/lib/python3.10/dist-packages (from aiohttp!=4.0.0a0,!=4.0.0a1->gcsfs==2024.10.0) (1.3.1)\n",
            "Requirement already satisfied: async-timeout<6.0,>=4.0 in /usr/local/lib/python3.10/dist-packages (from aiohttp!=4.0.0a0,!=4.0.0a1->gcsfs==2024.10.0) (4.0.3)\n",
            "Requirement already satisfied: attrs>=17.3.0 in /usr/local/lib/python3.10/dist-packages (from aiohttp!=4.0.0a0,!=4.0.0a1->gcsfs==2024.10.0) (24.2.0)\n",
            "Requirement already satisfied: frozenlist>=1.1.1 in /usr/local/lib/python3.10/dist-packages (from aiohttp!=4.0.0a0,!=4.0.0a1->gcsfs==2024.10.0) (1.5.0)\n",
            "Requirement already satisfied: multidict<7.0,>=4.5 in /usr/local/lib/python3.10/dist-packages (from aiohttp!=4.0.0a0,!=4.0.0a1->gcsfs==2024.10.0) (6.1.0)\n",
            "Requirement already satisfied: propcache>=0.2.0 in /usr/local/lib/python3.10/dist-packages (from aiohttp!=4.0.0a0,!=4.0.0a1->gcsfs==2024.10.0) (0.2.1)\n",
            "Requirement already satisfied: yarl<2.0,>=1.17.0 in /usr/local/lib/python3.10/dist-packages (from aiohttp!=4.0.0a0,!=4.0.0a1->gcsfs==2024.10.0) (1.18.3)\n",
            "Requirement already satisfied: cachetools<6.0,>=2.0.0 in /usr/local/lib/python3.10/dist-packages (from google-auth>=1.2->gcsfs==2024.10.0) (5.5.0)\n",
            "Requirement already satisfied: pyasn1-modules>=0.2.1 in /usr/local/lib/python3.10/dist-packages (from google-auth>=1.2->gcsfs==2024.10.0) (0.4.1)\n",
            "Requirement already satisfied: rsa<5,>=3.1.4 in /usr/local/lib/python3.10/dist-packages (from google-auth>=1.2->gcsfs==2024.10.0) (4.9)\n",
            "Requirement already satisfied: requests-oauthlib>=0.7.0 in /usr/local/lib/python3.10/dist-packages (from google-auth-oauthlib->gcsfs==2024.10.0) (1.3.1)\n",
            "Requirement already satisfied: google-api-core!=2.0.*,!=2.1.*,!=2.2.*,!=2.3.0,<3.0.0dev,>=1.31.5 in /usr/local/lib/python3.10/dist-packages (from google-cloud-storage->gcsfs==2024.10.0) (2.19.2)\n",
            "Requirement already satisfied: google-cloud-core<3.0dev,>=2.3.0 in /usr/local/lib/python3.10/dist-packages (from google-cloud-storage->gcsfs==2024.10.0) (2.4.1)\n",
            "Requirement already satisfied: google-resumable-media>=2.3.2 in /usr/local/lib/python3.10/dist-packages (from google-cloud-storage->gcsfs==2024.10.0) (2.7.2)\n",
            "Requirement already satisfied: charset-normalizer<4,>=2 in /usr/local/lib/python3.10/dist-packages (from requests->gcsfs==2024.10.0) (3.4.0)\n",
            "Requirement already satisfied: idna<4,>=2.5 in /usr/local/lib/python3.10/dist-packages (from requests->gcsfs==2024.10.0) (3.10)\n",
            "Requirement already satisfied: urllib3<3,>=1.21.1 in /usr/local/lib/python3.10/dist-packages (from requests->gcsfs==2024.10.0) (2.2.3)\n",
            "Requirement already satisfied: certifi>=2017.4.17 in /usr/local/lib/python3.10/dist-packages (from requests->gcsfs==2024.10.0) (2024.8.30)\n",
            "Requirement already satisfied: googleapis-common-protos<2.0.dev0,>=1.56.2 in /usr/local/lib/python3.10/dist-packages (from google-api-core!=2.0.*,!=2.1.*,!=2.2.*,!=2.3.0,<3.0.0dev,>=1.31.5->google-cloud-storage->gcsfs==2024.10.0) (1.66.0)\n",
            "Requirement already satisfied: protobuf!=3.20.0,!=3.20.1,!=4.21.0,!=4.21.1,!=4.21.2,!=4.21.3,!=4.21.4,!=4.21.5,<6.0.0.dev0,>=3.19.5 in /usr/local/lib/python3.10/dist-packages (from google-api-core!=2.0.*,!=2.1.*,!=2.2.*,!=2.3.0,<3.0.0dev,>=1.31.5->google-cloud-storage->gcsfs==2024.10.0) (4.25.5)\n",
            "Requirement already satisfied: proto-plus<2.0.0dev,>=1.22.3 in /usr/local/lib/python3.10/dist-packages (from google-api-core!=2.0.*,!=2.1.*,!=2.2.*,!=2.3.0,<3.0.0dev,>=1.31.5->google-cloud-storage->gcsfs==2024.10.0) (1.25.0)\n",
            "Requirement already satisfied: google-crc32c<2.0dev,>=1.0 in /usr/local/lib/python3.10/dist-packages (from google-resumable-media>=2.3.2->google-cloud-storage->gcsfs==2024.10.0) (1.6.0)\n",
            "Requirement already satisfied: typing-extensions>=4.1.0 in /usr/local/lib/python3.10/dist-packages (from multidict<7.0,>=4.5->aiohttp!=4.0.0a0,!=4.0.0a1->gcsfs==2024.10.0) (4.12.2)\n",
            "Requirement already satisfied: pyasn1<0.7.0,>=0.4.6 in /usr/local/lib/python3.10/dist-packages (from pyasn1-modules>=0.2.1->google-auth>=1.2->gcsfs==2024.10.0) (0.6.1)\n",
            "Requirement already satisfied: oauthlib>=3.0.0 in /usr/local/lib/python3.10/dist-packages (from requests-oauthlib>=0.7.0->google-auth-oauthlib->gcsfs==2024.10.0) (3.2.2)\n",
            "Downloading fsspec-2024.10.0-py3-none-any.whl (179 kB)\n",
            "\u001b[2K   \u001b[90m━━━━━━━━━━━━━━━━━━━━━━━━━━━━━━━━━━━━━━━━\u001b[0m \u001b[32m179.6/179.6 kB\u001b[0m \u001b[31m5.5 MB/s\u001b[0m eta \u001b[36m0:00:00\u001b[0m\n",
            "\u001b[?25hInstalling collected packages: fsspec\n",
            "  Attempting uninstall: fsspec\n",
            "    Found existing installation: fsspec 2024.9.0\n",
            "    Uninstalling fsspec-2024.9.0:\n",
            "      Successfully uninstalled fsspec-2024.9.0\n",
            "\u001b[31mERROR: pip's dependency resolver does not currently take into account all the packages that are installed. This behaviour is the source of the following dependency conflicts.\n",
            "datasets 3.2.0 requires fsspec[http]<=2024.9.0,>=2023.1.0, but you have fsspec 2024.10.0 which is incompatible.\u001b[0m\u001b[31m\n",
            "\u001b[0mSuccessfully installed fsspec-2024.10.0\n",
            "Requirement already satisfied: gcsfs in /usr/local/lib/python3.10/dist-packages (2024.10.0)\n",
            "Requirement already satisfied: aiohttp!=4.0.0a0,!=4.0.0a1 in /usr/local/lib/python3.10/dist-packages (from gcsfs) (3.11.10)\n",
            "Requirement already satisfied: decorator>4.1.2 in /usr/local/lib/python3.10/dist-packages (from gcsfs) (4.4.2)\n",
            "Requirement already satisfied: fsspec==2024.10.0 in /usr/local/lib/python3.10/dist-packages (from gcsfs) (2024.10.0)\n",
            "Requirement already satisfied: google-auth>=1.2 in /usr/local/lib/python3.10/dist-packages (from gcsfs) (2.27.0)\n",
            "Requirement already satisfied: google-auth-oauthlib in /usr/local/lib/python3.10/dist-packages (from gcsfs) (1.2.1)\n",
            "Requirement already satisfied: google-cloud-storage in /usr/local/lib/python3.10/dist-packages (from gcsfs) (2.8.0)\n",
            "Requirement already satisfied: requests in /usr/local/lib/python3.10/dist-packages (from gcsfs) (2.32.3)\n",
            "Requirement already satisfied: aiohappyeyeballs>=2.3.0 in /usr/local/lib/python3.10/dist-packages (from aiohttp!=4.0.0a0,!=4.0.0a1->gcsfs) (2.4.4)\n",
            "Requirement already satisfied: aiosignal>=1.1.2 in /usr/local/lib/python3.10/dist-packages (from aiohttp!=4.0.0a0,!=4.0.0a1->gcsfs) (1.3.1)\n",
            "Requirement already satisfied: async-timeout<6.0,>=4.0 in /usr/local/lib/python3.10/dist-packages (from aiohttp!=4.0.0a0,!=4.0.0a1->gcsfs) (4.0.3)\n",
            "Requirement already satisfied: attrs>=17.3.0 in /usr/local/lib/python3.10/dist-packages (from aiohttp!=4.0.0a0,!=4.0.0a1->gcsfs) (24.2.0)\n",
            "Requirement already satisfied: frozenlist>=1.1.1 in /usr/local/lib/python3.10/dist-packages (from aiohttp!=4.0.0a0,!=4.0.0a1->gcsfs) (1.5.0)\n",
            "Requirement already satisfied: multidict<7.0,>=4.5 in /usr/local/lib/python3.10/dist-packages (from aiohttp!=4.0.0a0,!=4.0.0a1->gcsfs) (6.1.0)\n",
            "Requirement already satisfied: propcache>=0.2.0 in /usr/local/lib/python3.10/dist-packages (from aiohttp!=4.0.0a0,!=4.0.0a1->gcsfs) (0.2.1)\n",
            "Requirement already satisfied: yarl<2.0,>=1.17.0 in /usr/local/lib/python3.10/dist-packages (from aiohttp!=4.0.0a0,!=4.0.0a1->gcsfs) (1.18.3)\n",
            "Requirement already satisfied: cachetools<6.0,>=2.0.0 in /usr/local/lib/python3.10/dist-packages (from google-auth>=1.2->gcsfs) (5.5.0)\n",
            "Requirement already satisfied: pyasn1-modules>=0.2.1 in /usr/local/lib/python3.10/dist-packages (from google-auth>=1.2->gcsfs) (0.4.1)\n",
            "Requirement already satisfied: rsa<5,>=3.1.4 in /usr/local/lib/python3.10/dist-packages (from google-auth>=1.2->gcsfs) (4.9)\n",
            "Requirement already satisfied: requests-oauthlib>=0.7.0 in /usr/local/lib/python3.10/dist-packages (from google-auth-oauthlib->gcsfs) (1.3.1)\n",
            "Requirement already satisfied: google-api-core!=2.0.*,!=2.1.*,!=2.2.*,!=2.3.0,<3.0.0dev,>=1.31.5 in /usr/local/lib/python3.10/dist-packages (from google-cloud-storage->gcsfs) (2.19.2)\n",
            "Requirement already satisfied: google-cloud-core<3.0dev,>=2.3.0 in /usr/local/lib/python3.10/dist-packages (from google-cloud-storage->gcsfs) (2.4.1)\n",
            "Requirement already satisfied: google-resumable-media>=2.3.2 in /usr/local/lib/python3.10/dist-packages (from google-cloud-storage->gcsfs) (2.7.2)\n",
            "Requirement already satisfied: charset-normalizer<4,>=2 in /usr/local/lib/python3.10/dist-packages (from requests->gcsfs) (3.4.0)\n",
            "Requirement already satisfied: idna<4,>=2.5 in /usr/local/lib/python3.10/dist-packages (from requests->gcsfs) (3.10)\n",
            "Requirement already satisfied: urllib3<3,>=1.21.1 in /usr/local/lib/python3.10/dist-packages (from requests->gcsfs) (2.2.3)\n",
            "Requirement already satisfied: certifi>=2017.4.17 in /usr/local/lib/python3.10/dist-packages (from requests->gcsfs) (2024.8.30)\n",
            "Requirement already satisfied: googleapis-common-protos<2.0.dev0,>=1.56.2 in /usr/local/lib/python3.10/dist-packages (from google-api-core!=2.0.*,!=2.1.*,!=2.2.*,!=2.3.0,<3.0.0dev,>=1.31.5->google-cloud-storage->gcsfs) (1.66.0)\n",
            "Requirement already satisfied: protobuf!=3.20.0,!=3.20.1,!=4.21.0,!=4.21.1,!=4.21.2,!=4.21.3,!=4.21.4,!=4.21.5,<6.0.0.dev0,>=3.19.5 in /usr/local/lib/python3.10/dist-packages (from google-api-core!=2.0.*,!=2.1.*,!=2.2.*,!=2.3.0,<3.0.0dev,>=1.31.5->google-cloud-storage->gcsfs) (4.25.5)\n",
            "Requirement already satisfied: proto-plus<2.0.0dev,>=1.22.3 in /usr/local/lib/python3.10/dist-packages (from google-api-core!=2.0.*,!=2.1.*,!=2.2.*,!=2.3.0,<3.0.0dev,>=1.31.5->google-cloud-storage->gcsfs) (1.25.0)\n",
            "Requirement already satisfied: google-crc32c<2.0dev,>=1.0 in /usr/local/lib/python3.10/dist-packages (from google-resumable-media>=2.3.2->google-cloud-storage->gcsfs) (1.6.0)\n",
            "Requirement already satisfied: typing-extensions>=4.1.0 in /usr/local/lib/python3.10/dist-packages (from multidict<7.0,>=4.5->aiohttp!=4.0.0a0,!=4.0.0a1->gcsfs) (4.12.2)\n",
            "Requirement already satisfied: pyasn1<0.7.0,>=0.4.6 in /usr/local/lib/python3.10/dist-packages (from pyasn1-modules>=0.2.1->google-auth>=1.2->gcsfs) (0.6.1)\n",
            "Requirement already satisfied: oauthlib>=3.0.0 in /usr/local/lib/python3.10/dist-packages (from requests-oauthlib>=0.7.0->google-auth-oauthlib->gcsfs) (3.2.2)\n"
          ]
        }
      ]
    },
    {
      "cell_type": "code",
      "source": [
        "#Librerias necesarias\n",
        "from transformers import AutoTokenizer, AutoModelForSequenceClassification, AdamW\n",
        "from sklearn.model_selection import train_test_split\n",
        "from sklearn.metrics import classification_report, roc_auc_score\n",
        "import torch\n",
        "from torch.utils.data import DataLoader, TensorDataset\n",
        "from tqdm import tqdm\n",
        "import pandas as pd\n",
        "import numpy as np\n",
        "import matplotlib.pyplot as plt\n",
        "import seaborn as sns\n",
        "import warnings\n",
        "warnings.filterwarnings('ignore')"
      ],
      "metadata": {
        "id": "vzd03UTcOUIo"
      },
      "execution_count": null,
      "outputs": []
    },
    {
      "cell_type": "code",
      "source": [
        "#Cargar archivo desde almacenamiento\n",
        "data = pd.read_excel('/content/Noticias.xlsx')"
      ],
      "metadata": {
        "id": "6zyoPrlY35g9"
      },
      "execution_count": null,
      "outputs": []
    },
    {
      "cell_type": "code",
      "source": [
        "#from google.colab import drive\n",
        "#drive.mount('/content/drive')"
      ],
      "metadata": {
        "id": "_XR0hZ8Yruzo"
      },
      "execution_count": null,
      "outputs": []
    },
    {
      "cell_type": "code",
      "source": [
        "# # Importar un archivo desde drive\n",
        "# from google.colab import drive\n",
        "# drive.mount('/content/drive')\n",
        "# path = '/content/drive/MyDrive/Colab Notebooks/PNL/act2noticias/'\n",
        "\n",
        "# filename = 'Noticias.xlsx'\n",
        "\n",
        "# data = pd.read_excel(f'{path}{filename}')\n",
        "# info = {'Data shape' : [data.shape],\n",
        "#         'Data info': [data.info()],\n",
        "# }"
      ],
      "metadata": {
        "id": "Hy5C3QnOOgA4"
      },
      "execution_count": null,
      "outputs": []
    },
    {
      "cell_type": "code",
      "source": [
        "#Cargar desde repositorio en github\n"
      ],
      "metadata": {
        "id": "4QzoQk6fTKrK"
      },
      "execution_count": null,
      "outputs": []
    },
    {
      "cell_type": "code",
      "source": [
        "# Eliminar las filas con valores faltantes\n",
        "data.dropna(inplace=True)\n",
        "\n",
        "# Filtrar las noticias y crear etiquetas binarias\n",
        "data = data[data['Etiqueta'] != \"archivo\"].copy()\n",
        "data.loc[:,'Etiqueta'] = data['Etiqueta'].apply(lambda x: 1 if x == \"deportes\" else 0)\n",
        "\n",
        "data.head()"
      ],
      "metadata": {
        "colab": {
          "base_uri": "https://localhost:8080/",
          "height": 293
        },
        "id": "rcOvVsWOTe5Y",
        "outputId": "45ef7105-dc08-47c3-986c-975d02164c87"
      },
      "execution_count": null,
      "outputs": [
        {
          "output_type": "execute_result",
          "data": {
            "text/plain": [
              "      Columna1                                            Enlaces  \\\n",
              "0            0  https://www.eltiempo.com/agresion-contra-un-op...   \n",
              "9188      9188  https://www.eltiempo.com/bocas/black-mirror-cr...   \n",
              "9189      9189  https://www.eltiempo.com/bocas/carlos-duque-ca...   \n",
              "9190      9190  https://www.eltiempo.com/bocas/carta-abierta-a...   \n",
              "9191      9191  https://www.eltiempo.com/bocas/citas-de-casas-...   \n",
              "\n",
              "                                                 Título  \\\n",
              "0     Operador de grúa quedó inconsciente tras agres...   \n",
              "9188      Charlie Brooker: el creador de \"Black Mirror\"   \n",
              "9189              Carlos Duque: el retratista del poder   \n",
              "9190             Carta abierta a la universidad pública   \n",
              "9191                                ¡No sea tan Macron!   \n",
              "\n",
              "                                                   info  \\\n",
              "0     El conductor de una moto le lanzó el casco y p...   \n",
              "9188  BOCAS entrevistó al responsable de la exitosa ...   \n",
              "9189  BOCAS entrevistó a uno de los íconos de la pub...   \n",
              "9190                       Revista BOCAS -  Edición 79.   \n",
              "9191                        Citas de Casas - Julio 2017   \n",
              "\n",
              "                                              contenido Etiqueta  \n",
              "0     Las autoridades están buscando al conductor de...        0  \n",
              "9188  No resulta fácil meterse en la cabeza de Charl...        0  \n",
              "9189  Sus trabajos en determinadas campañas presiden...        0  \n",
              "9190  Los pasados 10 y 17 de octubre, cerca de 500.0...        0  \n",
              "9191  El modelo  político está cambiando en el mundo...        0  "
            ],
            "text/html": [
              "\n",
              "  <div id=\"df-8e0c4fcf-a00a-4a56-a6ed-4d9be4e09471\" class=\"colab-df-container\">\n",
              "    <div>\n",
              "<style scoped>\n",
              "    .dataframe tbody tr th:only-of-type {\n",
              "        vertical-align: middle;\n",
              "    }\n",
              "\n",
              "    .dataframe tbody tr th {\n",
              "        vertical-align: top;\n",
              "    }\n",
              "\n",
              "    .dataframe thead th {\n",
              "        text-align: right;\n",
              "    }\n",
              "</style>\n",
              "<table border=\"1\" class=\"dataframe\">\n",
              "  <thead>\n",
              "    <tr style=\"text-align: right;\">\n",
              "      <th></th>\n",
              "      <th>Columna1</th>\n",
              "      <th>Enlaces</th>\n",
              "      <th>Título</th>\n",
              "      <th>info</th>\n",
              "      <th>contenido</th>\n",
              "      <th>Etiqueta</th>\n",
              "    </tr>\n",
              "  </thead>\n",
              "  <tbody>\n",
              "    <tr>\n",
              "      <th>0</th>\n",
              "      <td>0</td>\n",
              "      <td>https://www.eltiempo.com/agresion-contra-un-op...</td>\n",
              "      <td>Operador de grúa quedó inconsciente tras agres...</td>\n",
              "      <td>El conductor de una moto le lanzó el casco y p...</td>\n",
              "      <td>Las autoridades están buscando al conductor de...</td>\n",
              "      <td>0</td>\n",
              "    </tr>\n",
              "    <tr>\n",
              "      <th>9188</th>\n",
              "      <td>9188</td>\n",
              "      <td>https://www.eltiempo.com/bocas/black-mirror-cr...</td>\n",
              "      <td>Charlie Brooker: el creador de \"Black Mirror\"</td>\n",
              "      <td>BOCAS entrevistó al responsable de la exitosa ...</td>\n",
              "      <td>No resulta fácil meterse en la cabeza de Charl...</td>\n",
              "      <td>0</td>\n",
              "    </tr>\n",
              "    <tr>\n",
              "      <th>9189</th>\n",
              "      <td>9189</td>\n",
              "      <td>https://www.eltiempo.com/bocas/carlos-duque-ca...</td>\n",
              "      <td>Carlos Duque: el retratista del poder</td>\n",
              "      <td>BOCAS entrevistó a uno de los íconos de la pub...</td>\n",
              "      <td>Sus trabajos en determinadas campañas presiden...</td>\n",
              "      <td>0</td>\n",
              "    </tr>\n",
              "    <tr>\n",
              "      <th>9190</th>\n",
              "      <td>9190</td>\n",
              "      <td>https://www.eltiempo.com/bocas/carta-abierta-a...</td>\n",
              "      <td>Carta abierta a la universidad pública</td>\n",
              "      <td>Revista BOCAS -  Edición 79.</td>\n",
              "      <td>Los pasados 10 y 17 de octubre, cerca de 500.0...</td>\n",
              "      <td>0</td>\n",
              "    </tr>\n",
              "    <tr>\n",
              "      <th>9191</th>\n",
              "      <td>9191</td>\n",
              "      <td>https://www.eltiempo.com/bocas/citas-de-casas-...</td>\n",
              "      <td>¡No sea tan Macron!</td>\n",
              "      <td>Citas de Casas - Julio 2017</td>\n",
              "      <td>El modelo  político está cambiando en el mundo...</td>\n",
              "      <td>0</td>\n",
              "    </tr>\n",
              "  </tbody>\n",
              "</table>\n",
              "</div>\n",
              "    <div class=\"colab-df-buttons\">\n",
              "\n",
              "  <div class=\"colab-df-container\">\n",
              "    <button class=\"colab-df-convert\" onclick=\"convertToInteractive('df-8e0c4fcf-a00a-4a56-a6ed-4d9be4e09471')\"\n",
              "            title=\"Convert this dataframe to an interactive table.\"\n",
              "            style=\"display:none;\">\n",
              "\n",
              "  <svg xmlns=\"http://www.w3.org/2000/svg\" height=\"24px\" viewBox=\"0 -960 960 960\">\n",
              "    <path d=\"M120-120v-720h720v720H120Zm60-500h600v-160H180v160Zm220 220h160v-160H400v160Zm0 220h160v-160H400v160ZM180-400h160v-160H180v160Zm440 0h160v-160H620v160ZM180-180h160v-160H180v160Zm440 0h160v-160H620v160Z\"/>\n",
              "  </svg>\n",
              "    </button>\n",
              "\n",
              "  <style>\n",
              "    .colab-df-container {\n",
              "      display:flex;\n",
              "      gap: 12px;\n",
              "    }\n",
              "\n",
              "    .colab-df-convert {\n",
              "      background-color: #E8F0FE;\n",
              "      border: none;\n",
              "      border-radius: 50%;\n",
              "      cursor: pointer;\n",
              "      display: none;\n",
              "      fill: #1967D2;\n",
              "      height: 32px;\n",
              "      padding: 0 0 0 0;\n",
              "      width: 32px;\n",
              "    }\n",
              "\n",
              "    .colab-df-convert:hover {\n",
              "      background-color: #E2EBFA;\n",
              "      box-shadow: 0px 1px 2px rgba(60, 64, 67, 0.3), 0px 1px 3px 1px rgba(60, 64, 67, 0.15);\n",
              "      fill: #174EA6;\n",
              "    }\n",
              "\n",
              "    .colab-df-buttons div {\n",
              "      margin-bottom: 4px;\n",
              "    }\n",
              "\n",
              "    [theme=dark] .colab-df-convert {\n",
              "      background-color: #3B4455;\n",
              "      fill: #D2E3FC;\n",
              "    }\n",
              "\n",
              "    [theme=dark] .colab-df-convert:hover {\n",
              "      background-color: #434B5C;\n",
              "      box-shadow: 0px 1px 3px 1px rgba(0, 0, 0, 0.15);\n",
              "      filter: drop-shadow(0px 1px 2px rgba(0, 0, 0, 0.3));\n",
              "      fill: #FFFFFF;\n",
              "    }\n",
              "  </style>\n",
              "\n",
              "    <script>\n",
              "      const buttonEl =\n",
              "        document.querySelector('#df-8e0c4fcf-a00a-4a56-a6ed-4d9be4e09471 button.colab-df-convert');\n",
              "      buttonEl.style.display =\n",
              "        google.colab.kernel.accessAllowed ? 'block' : 'none';\n",
              "\n",
              "      async function convertToInteractive(key) {\n",
              "        const element = document.querySelector('#df-8e0c4fcf-a00a-4a56-a6ed-4d9be4e09471');\n",
              "        const dataTable =\n",
              "          await google.colab.kernel.invokeFunction('convertToInteractive',\n",
              "                                                    [key], {});\n",
              "        if (!dataTable) return;\n",
              "\n",
              "        const docLinkHtml = 'Like what you see? Visit the ' +\n",
              "          '<a target=\"_blank\" href=https://colab.research.google.com/notebooks/data_table.ipynb>data table notebook</a>'\n",
              "          + ' to learn more about interactive tables.';\n",
              "        element.innerHTML = '';\n",
              "        dataTable['output_type'] = 'display_data';\n",
              "        await google.colab.output.renderOutput(dataTable, element);\n",
              "        const docLink = document.createElement('div');\n",
              "        docLink.innerHTML = docLinkHtml;\n",
              "        element.appendChild(docLink);\n",
              "      }\n",
              "    </script>\n",
              "  </div>\n",
              "\n",
              "\n",
              "<div id=\"df-b8f9329f-f28f-4859-bbe7-4fbe8d12cd0b\">\n",
              "  <button class=\"colab-df-quickchart\" onclick=\"quickchart('df-b8f9329f-f28f-4859-bbe7-4fbe8d12cd0b')\"\n",
              "            title=\"Suggest charts\"\n",
              "            style=\"display:none;\">\n",
              "\n",
              "<svg xmlns=\"http://www.w3.org/2000/svg\" height=\"24px\"viewBox=\"0 0 24 24\"\n",
              "     width=\"24px\">\n",
              "    <g>\n",
              "        <path d=\"M19 3H5c-1.1 0-2 .9-2 2v14c0 1.1.9 2 2 2h14c1.1 0 2-.9 2-2V5c0-1.1-.9-2-2-2zM9 17H7v-7h2v7zm4 0h-2V7h2v10zm4 0h-2v-4h2v4z\"/>\n",
              "    </g>\n",
              "</svg>\n",
              "  </button>\n",
              "\n",
              "<style>\n",
              "  .colab-df-quickchart {\n",
              "      --bg-color: #E8F0FE;\n",
              "      --fill-color: #1967D2;\n",
              "      --hover-bg-color: #E2EBFA;\n",
              "      --hover-fill-color: #174EA6;\n",
              "      --disabled-fill-color: #AAA;\n",
              "      --disabled-bg-color: #DDD;\n",
              "  }\n",
              "\n",
              "  [theme=dark] .colab-df-quickchart {\n",
              "      --bg-color: #3B4455;\n",
              "      --fill-color: #D2E3FC;\n",
              "      --hover-bg-color: #434B5C;\n",
              "      --hover-fill-color: #FFFFFF;\n",
              "      --disabled-bg-color: #3B4455;\n",
              "      --disabled-fill-color: #666;\n",
              "  }\n",
              "\n",
              "  .colab-df-quickchart {\n",
              "    background-color: var(--bg-color);\n",
              "    border: none;\n",
              "    border-radius: 50%;\n",
              "    cursor: pointer;\n",
              "    display: none;\n",
              "    fill: var(--fill-color);\n",
              "    height: 32px;\n",
              "    padding: 0;\n",
              "    width: 32px;\n",
              "  }\n",
              "\n",
              "  .colab-df-quickchart:hover {\n",
              "    background-color: var(--hover-bg-color);\n",
              "    box-shadow: 0 1px 2px rgba(60, 64, 67, 0.3), 0 1px 3px 1px rgba(60, 64, 67, 0.15);\n",
              "    fill: var(--button-hover-fill-color);\n",
              "  }\n",
              "\n",
              "  .colab-df-quickchart-complete:disabled,\n",
              "  .colab-df-quickchart-complete:disabled:hover {\n",
              "    background-color: var(--disabled-bg-color);\n",
              "    fill: var(--disabled-fill-color);\n",
              "    box-shadow: none;\n",
              "  }\n",
              "\n",
              "  .colab-df-spinner {\n",
              "    border: 2px solid var(--fill-color);\n",
              "    border-color: transparent;\n",
              "    border-bottom-color: var(--fill-color);\n",
              "    animation:\n",
              "      spin 1s steps(1) infinite;\n",
              "  }\n",
              "\n",
              "  @keyframes spin {\n",
              "    0% {\n",
              "      border-color: transparent;\n",
              "      border-bottom-color: var(--fill-color);\n",
              "      border-left-color: var(--fill-color);\n",
              "    }\n",
              "    20% {\n",
              "      border-color: transparent;\n",
              "      border-left-color: var(--fill-color);\n",
              "      border-top-color: var(--fill-color);\n",
              "    }\n",
              "    30% {\n",
              "      border-color: transparent;\n",
              "      border-left-color: var(--fill-color);\n",
              "      border-top-color: var(--fill-color);\n",
              "      border-right-color: var(--fill-color);\n",
              "    }\n",
              "    40% {\n",
              "      border-color: transparent;\n",
              "      border-right-color: var(--fill-color);\n",
              "      border-top-color: var(--fill-color);\n",
              "    }\n",
              "    60% {\n",
              "      border-color: transparent;\n",
              "      border-right-color: var(--fill-color);\n",
              "    }\n",
              "    80% {\n",
              "      border-color: transparent;\n",
              "      border-right-color: var(--fill-color);\n",
              "      border-bottom-color: var(--fill-color);\n",
              "    }\n",
              "    90% {\n",
              "      border-color: transparent;\n",
              "      border-bottom-color: var(--fill-color);\n",
              "    }\n",
              "  }\n",
              "</style>\n",
              "\n",
              "  <script>\n",
              "    async function quickchart(key) {\n",
              "      const quickchartButtonEl =\n",
              "        document.querySelector('#' + key + ' button');\n",
              "      quickchartButtonEl.disabled = true;  // To prevent multiple clicks.\n",
              "      quickchartButtonEl.classList.add('colab-df-spinner');\n",
              "      try {\n",
              "        const charts = await google.colab.kernel.invokeFunction(\n",
              "            'suggestCharts', [key], {});\n",
              "      } catch (error) {\n",
              "        console.error('Error during call to suggestCharts:', error);\n",
              "      }\n",
              "      quickchartButtonEl.classList.remove('colab-df-spinner');\n",
              "      quickchartButtonEl.classList.add('colab-df-quickchart-complete');\n",
              "    }\n",
              "    (() => {\n",
              "      let quickchartButtonEl =\n",
              "        document.querySelector('#df-b8f9329f-f28f-4859-bbe7-4fbe8d12cd0b button');\n",
              "      quickchartButtonEl.style.display =\n",
              "        google.colab.kernel.accessAllowed ? 'block' : 'none';\n",
              "    })();\n",
              "  </script>\n",
              "</div>\n",
              "\n",
              "    </div>\n",
              "  </div>\n"
            ],
            "application/vnd.google.colaboratory.intrinsic+json": {
              "type": "dataframe",
              "variable_name": "data",
              "summary": "{\n  \"name\": \"data\",\n  \"rows\": 4495,\n  \"fields\": [\n    {\n      \"column\": \"Columna1\",\n      \"properties\": {\n        \"dtype\": \"number\",\n        \"std\": 1524,\n        \"min\": 0,\n        \"max\": 14395,\n        \"num_unique_values\": 4495,\n        \"samples\": [\n          9346,\n          12920,\n          10705\n        ],\n        \"semantic_type\": \"\",\n        \"description\": \"\"\n      }\n    },\n    {\n      \"column\": \"Enlaces\",\n      \"properties\": {\n        \"dtype\": \"string\",\n        \"num_unique_values\": 4495,\n        \"samples\": [\n          \"https://www.eltiempo.com/bogota/estos-es-lo-que-planea-ivan-duque-para-bogota-233104\",\n          \"https://www.eltiempo.com/mundo/venezuela/abogado-argentino-preso-en-venezuela-escapa-a-colombia-195528\",\n          \"https://www.eltiempo.com/cultura/gente/donde-jugaran-los-ninos-convocatoria-de-mana-y-bid-49732\"\n        ],\n        \"semantic_type\": \"\",\n        \"description\": \"\"\n      }\n    },\n    {\n      \"column\": \"T\\u00edtulo\",\n      \"properties\": {\n        \"dtype\": \"string\",\n        \"num_unique_values\": 4482,\n        \"samples\": [\n          \"Metro y econom\\u00eda naranja, en la agenda de Duque para Bogot\\u00e1\",\n          \"La batalla contra la reaparici\\u00f3n del sarampi\\u00f3n en el pa\\u00eds\",\n          \"Alerta por hacinamiento carcelario en Bucaramanga\"\n        ],\n        \"semantic_type\": \"\",\n        \"description\": \"\"\n      }\n    },\n    {\n      \"column\": \"info\",\n      \"properties\": {\n        \"dtype\": \"string\",\n        \"num_unique_values\": 4483,\n        \"samples\": [\n          \"Conozca los planes del Presidente electo para la capital del pa\\u00eds.\",\n          \"Colombia confirm\\u00f3 tres casos en una semana que se suman a m\\u00e1s de 200 en la regi\\u00f3n.\",\n          \"Se sellaron calabozos del Palacio de Justicia y no hay lugar para llevar a m\\u00e1s capturados.\"\n        ],\n        \"semantic_type\": \"\",\n        \"description\": \"\"\n      }\n    },\n    {\n      \"column\": \"contenido\",\n      \"properties\": {\n        \"dtype\": \"string\",\n        \"num_unique_values\": 4491,\n        \"samples\": [\n          \"Bogot\\u00e1 ya cuenta con la promesa del presidente electo, Iv\\u00e1n Duque M\\u00e1rquez, de continuar con el proceso para construir la primera l\\u00ednea del metro elevad o para Bogot\\u00e1 y con la decisi\\u00f3n del nuevo mandatario de hacer de la capital el epicentro latinoamericano de la econom\\u00eda naranja. Es un hecho que Duque respetar\\u00e1 los compromisos pactados que garantizan la financiaci\\u00f3n del 70 por ciento de la primera l\\u00ednea del metro y de tres troncales: la avenida Boyac\\u00e1, la carrera 68 y la avenida Ciudad de Cali, que ser\\u00e1n alimentadoras y estar\\u00e1n conectadas al metro. \\u201cLo primero que quiero es que esta ciudad pueda sacar adelante este proyecto. Bogot\\u00e1 necesita su metro elevado ya como ha sido aprobado\\u201d, dijo Duque en entrevista con EL TIEMPO, durante la campa\\u00f1a para la primera vuelta. La Alcald\\u00eda ya est\\u00e1 preparando un documento en el que enumera los diez temas claves que la ciudad viene trabajando de la mano con la Naci\\u00f3n para que las prioridades de la ciudad sean tenidas en cuenta en el trabajo de empalme que realizar\\u00e1n los equipos de los gobiernos saliente y entrante. \\u201cYo me quiero comprometer con el desarrollo productivo de Bogot\\u00e1\\u201d, le asegur\\u00f3 Duque a EL TIEMPO, en campa\\u00f1a, cuando advirti\\u00f3 que la ciudad tiene muchas oportunidades en las industrias creativas y su intenci\\u00f3n es que \\u201cBogot\\u00e1 sea el epicentro\\u201d del trabajo que har\\u00e1 su gobierno en ese tema. El equipo de la Alcald\\u00eda est\\u00e1 reuniendo con todo el gabinete el inventario de temas, pero la lista ya la encabezan el metro, las troncales de TransMilenio, el aumento del pie de fuerza de la Polic\\u00eda, la financiaci\\u00f3n de la infraestructura escolar (colegios) y la aproximaci\\u00f3n al aeropuerto El Dorado. \\u201cEl presidente ha manifestado su apoyo y su respaldo a los proyectos de la administraci\\u00f3n Pe\\u00f1alosa y es muy importante hacer equipo para construir sobre lo construido y no frenar las obras que se vienen adelantando\\u201d, manifest\\u00f3 el secretario de Gobierno, Miguel Uribe. BOGOT\\u00c1 Miedo 11:19 p.m. Ejercite su mente en la cuarentena con este test de l\\u00f3gica matem\\u00e1tica Ponga a prueba esas clases de matem\\u00e1ticas del colegio y de la vida par ... Manizales 10:00 p.m. Ya se venden medicamentos de cannabis con f\\u00f3rmula m\\u00e9dica En farmacias especializadas de Colombia es posible acceder a medicamen ... Manizales 10:00 p.m. El gu\\u00eda de la salud mental del pueblo con m\\u00e1s casos de bipolaridad Coronavirus en Colombia 09:31 p.m. Una cabina de desinfecci\\u00f3n manual para Barranquilla Valle del Cauca 07:50 p.m. Se han recogido cerca de 132 mil mercados en 'Donat\\u00f3n Valle Solidario'\",\n          \"La transformaci\\u00f3n para la modernizaci\\u00f3n de la Dian que lanz\\u00f3 este mi\\u00e9rcoles el director de la Dian, Jos\\u00e9 Andr\\u00e9s Romero, se\\u00f1ala un cronograma muy pr\\u00f3ximo que incluye, por ejemplo, la instalaci\\u00f3n de un laboratorio aduanero, en mayo , que permitir\\u00e1 hacer lo que llam\\u00f3 \\\"el control posterior m\\u00e1s eficiente de la mercanc\\u00eda que haya en toda Latinoam\\u00e9rica\\\". Seg\\u00fan indic\\u00f3 el funcionario, es una plataforma f\\u00edsica que permitir\\u00e1 un control estricto de la legalidad. Entre tanto, el Centro de control y monitoreo, que estar\\u00e1 listo al terminar el primer semestre (junio o julio), a trav\\u00e9s del cual se podr\\u00e1n ver todos los movimientos en los puertos de Colombia. \\\"Desde que el cami\\u00f3n carga la mercanc\\u00eda, si se detuvo, si cambi\\u00f3 algo\\\". La modernizaci\\u00f3n de la Dian pasar\\u00e1 tambi\\u00e9n por una reducci\\u00f3n en los tiempos de tr\\u00e1mite para las importaciones y exportaciones , teniendo en cuenta que el desaduanamiento (la legalizaci\\u00f3n de la mercanc\\u00eda para que entre al comercio), en el pa\\u00eds se tarda 18,5 d\\u00edas en promedio y, seg\\u00fan los est\\u00e1ndares de competitividad internacional, solo se requieren 48 horas. ECONOM\\u00cdA Y NEGOCIOS Miedo 11:19 p.m. Ejercite su mente en la cuarentena con este test de l\\u00f3gica matem\\u00e1tica Ponga a prueba esas clases de matem\\u00e1ticas del colegio y de la vida par ... Manizales 10:00 p.m. Ya se venden medicamentos de cannabis con f\\u00f3rmula m\\u00e9dica En farmacias especializadas de Colombia es posible acceder a medicamen ... Manizales 10:00 p.m. El gu\\u00eda de la salud mental del pueblo con m\\u00e1s casos de bipolaridad Coronavirus en Colombia 09:31 p.m. Una cabina de desinfecci\\u00f3n manual para Barranquilla Valle del Cauca 07:50 p.m. Se han recogido cerca de 132 mil mercados en 'Donat\\u00f3n Valle Solidario'\",\n          \"Dos c\\u00f3ndores andinos fueron hallados muertos el pasado lunes por campesinos en la Sierra Nevada de Santa Marta, en cercan\\u00edas de la laguna donde nacen los r\\u00edos Sevilla y Fr\\u00edo, en jurisdicci\\u00f3n de Ci\\u00e9naga, Magdalena. El hallazgo fue confirmado por el alcalde de Ci\\u00e9naga, Edgardo P\\u00e9rez, quien fue alertado de la situaci\\u00f3n por el corregidor de San Pedro de la Sierra, Eduardo Campo, y de inmediato le report\\u00f3 el hecho a Parques Nacionales. \\u201cUnos campesinos del sector, que aprovechando la temporada de verano suben a ver los paisajes que se vuelven inaccesibles en temporada de invierno, s e encontraron con ese panorama triste, hab\\u00eda una res muerta y un par de c\\u00f3ndores se encontraban a su costado muertos (\\u2026) Estos sectores han venido siendo colonizados, han llegado algunas comunidades ind\\u00edgenas con pastizales, reses y cr\\u00eda de cerdos y eso altera los ecosistemas porque se ponen a adecuar terrenos \\u201d, dijo P\\u00e9rez. El mandatario asegur\\u00f3 que hay que determinar con Parques Nacionales cu\\u00e1l fue la causa de la muerte de los c\\u00f3ndores, una de las aves m\\u00e1s emblem\\u00e1ticas de Suram\\u00e9rica. La Convenci\\u00f3n Sobre el Comercio Internacional de Especies Amenazadas de Fauna y Flora Silvestre (Cites) clasific\\u00f3 a esta especie como en peligro de extinci\\u00f3n, advirtiendo la necesidad de tomar medidas de protecci\\u00f3n urgentes. El c\\u00f3ndor andino es un ave carro\\u00f1era que se alimenta de animales muertos y tiene un \\u00edndice de natalidad muy bajo porque se ve afectado por los depredadores naturales que se alimentan de huevos y por la caza. En Colombia, la mayor\\u00eda est\\u00e1n ubicados en los p\\u00e1ramos y bosques altoandinos de la Sierra Nevada de Santa Marta. Tambi\\u00e9n hay peque\\u00f1as concentraciones en el volc\\u00e1n Chiles, en la Serran\\u00eda del Perij\\u00e1, en T\\u00e1chira (Norte de Santander), en el Nevado del Huila y en el macizo colombiano y en menor medida en cercan\\u00edas al Nevado del Cocuy y al volc\\u00e1n del Purac\\u00e9. SANTA MARTA Miedo 11:19 p.m. Ejercite su mente en la cuarentena con este test de l\\u00f3gica matem\\u00e1tica Ponga a prueba esas clases de matem\\u00e1ticas del colegio y de la vida par ... Manizales 10:00 p.m. Ya se venden medicamentos de cannabis con f\\u00f3rmula m\\u00e9dica En farmacias especializadas de Colombia es posible acceder a medicamen ... Manizales 10:00 p.m. El gu\\u00eda de la salud mental del pueblo con m\\u00e1s casos de bipolaridad Coronavirus en Colombia 09:31 p.m. Una cabina de desinfecci\\u00f3n manual para Barranquilla Valle del Cauca 07:50 p.m. Se han recogido cerca de 132 mil mercados en 'Donat\\u00f3n Valle Solidario'\"\n        ],\n        \"semantic_type\": \"\",\n        \"description\": \"\"\n      }\n    },\n    {\n      \"column\": \"Etiqueta\",\n      \"properties\": {\n        \"dtype\": \"date\",\n        \"min\": 0,\n        \"max\": 1,\n        \"num_unique_values\": 2,\n        \"samples\": [\n          1,\n          0\n        ],\n        \"semantic_type\": \"\",\n        \"description\": \"\"\n      }\n    }\n  ]\n}"
            }
          },
          "metadata": {},
          "execution_count": 8
        }
      ]
    },
    {
      "cell_type": "code",
      "source": [
        "from transformers import BertTokenizer\n",
        "import torch\n",
        "import numpy as np\n",
        "\n",
        "# Tokenización y preprocesamiento\n",
        "tokenizer = AutoTokenizer.from_pretrained(\"dccuchile/bert-base-spanish-wwm-cased\") # Cargar el tokenizador BERT en español\n",
        "max_len = 128  # Longitud máxima de la secuencia\n",
        "\n",
        "def tokenize_text(text):\n",
        "    # Tokenizar el texto y agregar tokens especiales, truncar y rellenar si es necesario\n",
        "    tokens = tokenizer.encode(text, add_special_tokens=True, max_length=max_len, truncation=True, padding=\"max_length\")\n",
        "    return tokens\n",
        "\n",
        "data['input_ids'] = data['contenido'].apply(tokenize_text) # Aplicar la tokenización a la columna 'contenido'\n",
        "\n",
        "# Dividir el conjunto de datos en entrenamiento y validación (80% train, 20% val)\n",
        "X_train, X_val, y_train, y_val = train_test_split(\n",
        "    data['input_ids'].tolist(), data['Etiqueta'].tolist(), test_size=0.2, random_state=42\n",
        ")"
      ],
      "metadata": {
        "id": "k-m3p-3vTeoJ",
        "colab": {
          "base_uri": "https://localhost:8080/",
          "height": 177,
          "referenced_widgets": [
            "72bb5df6c19f46829b45f775b29a8d62",
            "7a781aa5b25f423e8245a097a8e3d277",
            "e82420f8d6224737945668e8c9530174",
            "6f4d00e4017c40fba840646cd54f640b",
            "1992b27b8f474292bf93197b278ce962",
            "81240b9b35e94968930d9298c2147eba",
            "a791e19c25ad41afaef448652c21fe4d",
            "b415a50ebd1349f4ae6c87254f0302e2",
            "d8c963029a064a5a9d2c6e43be769a63",
            "d74b1fa181994b7f9754a9edbc082305",
            "1a254925c3db409bacf2c4c5c75040f3",
            "0a3f0e46dcfe4d118d737303ec94f3a7",
            "1629f123ce5746fda4408c45b3ff0f7d",
            "9a99b77628794298b6e77c2063989f90",
            "9b34d6e85c504f1dada682fb25ee4c92",
            "db2fc615da094041b212337e83b16e9b",
            "de2eda80a9664b09843ce30f0614cf09",
            "0ad6ee2acebb4092a6439b8e21ad8084",
            "1fac7918bb6c43018f557e25bda1f12f",
            "fb26eb5b934f4d3cb8e01fcd99db7238",
            "11d0a854e23843ea9d38397f9869a7de",
            "6b8377446df84171835ac7086deffa89",
            "e40ec1ed59284a6b8c09990b0d18111d",
            "29b2d0e599c14cbb9803b44515151679",
            "3427fe1900b140feb10c0f119979e284",
            "064756720b2b4e628b531f8f2269a88c",
            "847692fe0e4741ee8892ec34ffb133ad",
            "06ccee65eb374b75b218d12ea4a27376",
            "01e2598b89eb4a8b8969f5c359e8b48f",
            "ffeebd867e9a482ebe20def72580b4c8",
            "e77523286f9949e9bbf34479430dfe91",
            "8a6debe8d3704b858e739b024e1bc77b",
            "bc524b97c7ae4e0d9a9b1ab808ef620f",
            "ce1aaaff44ad4583be0ddd9dbfdadf02",
            "f18988e9f4e84a7bb65542d477c35042",
            "8b29379e1371405fab6e6a06cf4c0015",
            "177c4e9f13674165bdfa16bdf9f80bc2",
            "23fe0191d8dc41daa324cf4021d12daf",
            "88e95fa4476a4d09b158c3f0a01883dc",
            "38de4b46afde4614b6fcfb4fadf848ce",
            "47371942e8a44853852a5043ed6316fc",
            "d1671fe0cada40168e3764cfb252ffef",
            "70602422f213424591e067127243d3f1",
            "ab6e898a39f344e3af9d76576ee9015f",
            "e0c976d843db40078fbe243b40880355",
            "d41f74f6416f4c06ab0feab7d44322e2",
            "011d6d86ce8b418d800306b005da76af",
            "467e896352a74ceb9b4de66d80fedea2",
            "c0aaec4bbaba4ecd81493b9fb8d0791f",
            "f3f9adc49e634810b3bbc275a8cd176b",
            "d8cb2839726f4035af93654f3ec30667",
            "1e59552026b24c18bb3a9f664e4bd692",
            "23a0197a0bf245358e0f89b2d41ad76e",
            "bea0625665e34f58ae64f37778d4419d",
            "8768b92afd30442983823a9bef2525ba"
          ]
        },
        "outputId": "e55c10b4-92e3-495d-ac22-eea7b5276205"
      },
      "execution_count": null,
      "outputs": [
        {
          "output_type": "display_data",
          "data": {
            "text/plain": [
              "tokenizer_config.json:   0%|          | 0.00/364 [00:00<?, ?B/s]"
            ],
            "application/vnd.jupyter.widget-view+json": {
              "version_major": 2,
              "version_minor": 0,
              "model_id": "72bb5df6c19f46829b45f775b29a8d62"
            }
          },
          "metadata": {}
        },
        {
          "output_type": "display_data",
          "data": {
            "text/plain": [
              "config.json:   0%|          | 0.00/648 [00:00<?, ?B/s]"
            ],
            "application/vnd.jupyter.widget-view+json": {
              "version_major": 2,
              "version_minor": 0,
              "model_id": "0a3f0e46dcfe4d118d737303ec94f3a7"
            }
          },
          "metadata": {}
        },
        {
          "output_type": "display_data",
          "data": {
            "text/plain": [
              "vocab.txt:   0%|          | 0.00/242k [00:00<?, ?B/s]"
            ],
            "application/vnd.jupyter.widget-view+json": {
              "version_major": 2,
              "version_minor": 0,
              "model_id": "e40ec1ed59284a6b8c09990b0d18111d"
            }
          },
          "metadata": {}
        },
        {
          "output_type": "display_data",
          "data": {
            "text/plain": [
              "tokenizer.json:   0%|          | 0.00/480k [00:00<?, ?B/s]"
            ],
            "application/vnd.jupyter.widget-view+json": {
              "version_major": 2,
              "version_minor": 0,
              "model_id": "ce1aaaff44ad4583be0ddd9dbfdadf02"
            }
          },
          "metadata": {}
        },
        {
          "output_type": "display_data",
          "data": {
            "text/plain": [
              "special_tokens_map.json:   0%|          | 0.00/134 [00:00<?, ?B/s]"
            ],
            "application/vnd.jupyter.widget-view+json": {
              "version_major": 2,
              "version_minor": 0,
              "model_id": "e0c976d843db40078fbe243b40880355"
            }
          },
          "metadata": {}
        }
      ]
    },
    {
      "cell_type": "code",
      "source": [
        "# Convertir los datos a tensores de PyTorch\n",
        "train_encodings = torch.tensor(X_train, dtype=torch.long)\n",
        "val_encodings = torch.tensor(X_val, dtype=torch.long)\n",
        "\n",
        "train_labels = torch.tensor(np.array(y_train), dtype=torch.long)\n",
        "val_labels = torch.tensor(np.array(y_val), dtype=torch.long)\n",
        "\n",
        "# Crear máscaras de atención (1 para tokens reales, 0 para relleno)\n",
        "train_masks = torch.tensor([[float(token > 0) for token in seq] for seq in X_train], dtype=torch.float)\n",
        "val_masks = torch.tensor([[float(token > 0) for token in seq] for seq in X_val], dtype=torch.float)\n",
        "\n",
        "# Verificar dimensiones de los tensores\n",
        "print(f\"Train Encodings Shape: {train_encodings.shape}\")\n",
        "print(f\"Train Labels Shape: {train_labels.shape}\")\n",
        "print(f\"Train Masks Shape: {train_masks.shape}\")"
      ],
      "metadata": {
        "colab": {
          "base_uri": "https://localhost:8080/"
        },
        "id": "rWau2vnLxI4A",
        "outputId": "d98ec60a-f042-47a0-9a43-bf72ce54331c"
      },
      "execution_count": null,
      "outputs": [
        {
          "output_type": "stream",
          "name": "stdout",
          "text": [
            "Train Encodings Shape: torch.Size([3596, 128])\n",
            "Train Labels Shape: torch.Size([3596])\n",
            "Train Masks Shape: torch.Size([3596, 128])\n"
          ]
        }
      ]
    },
    {
      "cell_type": "markdown",
      "metadata": {
        "id": "5bp7FHi6qUD2"
      },
      "source": [
        "# Ejercicio 2: Selección del Modelo BERT en Español\n",
        "\n",
        "**Objetivo:** Identificar y seleccionar un modelo BERT preentrenado en español adecuado para la tarea de clasificación de noticias."
      ]
    },
    {
      "cell_type": "markdown",
      "source": [
        "*  dccuchile/bert-base-spanish-wwm-cased: Un modelo BERT preentrenado en español con whole word masking.\n",
        "\n",
        "*  bertin-project/bertin-roberta-base-spanish: Un modelo RoBERTa ajustado específicamente para el español.\n",
        "*  mrm8488/bert-base-spanish-wwm-uncased: Un modelo BERT sin distinción de mayúsculas y minúsculas preentrenado en español.\n"
      ],
      "metadata": {
        "id": "Rq6nDVQKi6i5"
      }
    },
    {
      "cell_type": "markdown",
      "source": [
        "### Selección modelo\n",
        "\n",
        "En la seleccion del modelo BERT en español se revisaron los siguientes modelos preentrenados en Huggin Face:\n",
        "\n",
        "*  dccuchile/bert-base-spanish-wwm-cased: Un modelo BERT preentrenado en español con whole word masking. Este modelo de acuerdo a su documentacion distingue y da importancia a las mayusculas y minisculas.\n",
        "Es un modelo simple que no requiere mayores recursos computacionales.\n",
        "\n",
        "*  bertin-project/bertin-roberta-base-spanish: Un modelo RoBERTa ajustado específicamente para el español.\n",
        "Este modelo es mas avanzado y especifico para idioma español, se requeire un buen recurso computacional.\n",
        "\n",
        "*  mrm8488/bert-base-spanish-wwm-uncased: Un modelo BERT sin distinción de mayúsculas y minúsculas preentrenado en español. Este modelo al buscarlo en la plataforma de hugging face no se encuentra publicado actualmente, se consulto desde el 10 al 12 de diciembre.\n",
        "\n",
        "Por lo cual teniendo en cuenta recursos computacionales se decidio emplear el modelo:\n",
        " ***dccuchile/bert-base-spanish-wwm-cased***"
      ],
      "metadata": {
        "id": "OxLXCMqDaUB2"
      }
    },
    {
      "cell_type": "code",
      "source": [
        "from transformers import AutoModelForSequenceClassification\n",
        "\n",
        "id2label = {0: \"no_deportes\", 1: \"deportes\"}  # Mapeo de IDs a etiquetas\n",
        "label2id = {\"no_deportes\": 0, \"deportes\": 1}  # Mapeo de etiquetas a IDs\n",
        "\n",
        "labels = list(id2label.keys())\n",
        "model_name = \"dccuchile/bert-base-spanish-wwm-cased\"  # Nombre del modelo en Hugging Face debe ser como aparece en la pagina"
      ],
      "metadata": {
        "id": "6aRN4NLpU3em"
      },
      "execution_count": null,
      "outputs": []
    },
    {
      "cell_type": "code",
      "source": [
        "model = AutoModelForSequenceClassification.from_pretrained(\n",
        "    model_name,\n",
        "    problem_type=\"single_label_classification\",\n",
        "    num_labels=2,\n",
        ")"
      ],
      "metadata": {
        "colab": {
          "base_uri": "https://localhost:8080/",
          "height": 105,
          "referenced_widgets": [
            "14aa7c29214d48e1bebad172cb9ff3f1",
            "be626ac22cc84128862f0802140206ac",
            "4292a9d9b9474686889e8aebe768abd2",
            "194df3c05b6c4e3e9ad48efc4acb2591",
            "a83f5624c51849f1949f4c8a1e94a6ed",
            "3f9f9fb84efd44aa8983cbb5281dda8a",
            "db2bd9a022b3484d990ea03752c6ed94",
            "e0f97ba138874601b6769fb86d8be2e7",
            "88971eed14ff4ad08bbe41ccda8c1e09",
            "39ab7426555e4526833f82a56f4397cf",
            "8c6813af01cb4db3accc7cf01d03e60b"
          ]
        },
        "id": "ZRL5lIhPxpoS",
        "outputId": "76618779-021b-428e-c498-7d3d19d1b695"
      },
      "execution_count": null,
      "outputs": [
        {
          "output_type": "display_data",
          "data": {
            "text/plain": [
              "pytorch_model.bin:   0%|          | 0.00/440M [00:00<?, ?B/s]"
            ],
            "application/vnd.jupyter.widget-view+json": {
              "version_major": 2,
              "version_minor": 0,
              "model_id": "14aa7c29214d48e1bebad172cb9ff3f1"
            }
          },
          "metadata": {}
        },
        {
          "output_type": "stream",
          "name": "stderr",
          "text": [
            "Some weights of BertForSequenceClassification were not initialized from the model checkpoint at dccuchile/bert-base-spanish-wwm-cased and are newly initialized: ['bert.pooler.dense.bias', 'bert.pooler.dense.weight', 'classifier.bias', 'classifier.weight']\n",
            "You should probably TRAIN this model on a down-stream task to be able to use it for predictions and inference.\n"
          ]
        }
      ]
    },
    {
      "cell_type": "markdown",
      "metadata": {
        "id": "EL-P2ysIqUD4"
      },
      "source": [
        "# Ejercicio 3: Implementación del Modelo BERT en Español\n",
        "\n",
        "**Objetivo:** Construir y entrenar un modelo BERT en español para clasificar las noticias."
      ]
    },
    {
      "cell_type": "code",
      "source": [
        "# Definir metricas para evaluar y comparar el rendimiento del modelo BERT en español.\n",
        "\n",
        "from sklearn.metrics import f1_score, roc_auc_score, accuracy_score\n",
        "from transformers import EvalPrediction\n",
        "import torch\n",
        "\n",
        "# Función compute_metrics para clasificación binaria\n",
        "def compute_metrics(p: EvalPrediction):\n",
        "    preds = p.predictions[0] if isinstance(p.predictions, tuple) else p.predictions\n",
        "    preds = np.argmax(preds, axis=1)\n",
        "    return {\"eval_accuracy\": accuracy_score(p.label_ids, preds)}"
      ],
      "metadata": {
        "id": "LXxf3PVD6CRU"
      },
      "execution_count": null,
      "outputs": []
    },
    {
      "cell_type": "code",
      "source": [
        "from transformers import AutoModelForSequenceClassification\n",
        "from sklearn.metrics import f1_score, roc_auc_score, accuracy_score\n",
        "from transformers import EvalPrediction\n",
        "import torch\n",
        "from datasets import Dataset, DatasetDict\n",
        "from transformers import TrainingArguments, Trainer\n",
        "\n",
        "batch_size = 8\n",
        "metric_name = \"accuracy\"\n",
        "\n",
        "training_args = TrainingArguments(\n",
        "    \"bert_output\",  # Directorio de salida para guardar los checkpoints\n",
        "    eval_strategy=\"epoch\",  # Evaluar al final de cada época\n",
        "    save_strategy=\"epoch\",  # Guardar el modelo al final de cada época\n",
        "    learning_rate=2e-5,   # Tasa de aprendizaje\n",
        "    per_device_train_batch_size=batch_size,  # Tamaño del batch por dispositivo\n",
        "    num_train_epochs=3,    # Número de épocas de entrenamiento\n",
        "    weight_decay=0.01,    # Regularización L2\n",
        "    load_best_model_at_end=True,  # Cargar el mejor modelo al final\n",
        "    metric_for_best_model=metric_name,  # Métrica para seleccionar el mejor modelo\n",
        "    report_to=\"none\",      # No reportar a plataformas externas (como Wandb)\n",
        ")"
      ],
      "metadata": {
        "id": "xxTKu15nx1rv"
      },
      "execution_count": null,
      "outputs": []
    },
    {
      "cell_type": "code",
      "source": [
        "# Crear datasets de Hugging Face\n",
        "train_dataset = Dataset.from_dict({\"input_ids\": train_encodings, \"attention_mask\": train_masks, \"labels\": train_labels})\n",
        "val_dataset = Dataset.from_dict({\"input_ids\": val_encodings, \"attention_mask\": val_masks, \"labels\": val_labels})\n",
        "\n",
        "trainer = Trainer(\n",
        "    model=model,\n",
        "    args=training_args,\n",
        "    train_dataset=train_dataset,\n",
        "    eval_dataset=val_dataset,\n",
        "    tokenizer=tokenizer,\n",
        "    compute_metrics=compute_metrics\n",
        ")\n",
        "\n",
        "trainer.train()"
      ],
      "metadata": {
        "colab": {
          "base_uri": "https://localhost:8080/",
          "height": 206
        },
        "id": "AhhTOXVpzk5_",
        "outputId": "4efa3fd6-d0e6-4448-ed4b-3545b74c1746"
      },
      "execution_count": null,
      "outputs": [
        {
          "output_type": "display_data",
          "data": {
            "text/plain": [
              "<IPython.core.display.HTML object>"
            ],
            "text/html": [
              "\n",
              "    <div>\n",
              "      \n",
              "      <progress value='1350' max='1350' style='width:300px; height:20px; vertical-align: middle;'></progress>\n",
              "      [1350/1350 05:52, Epoch 3/3]\n",
              "    </div>\n",
              "    <table border=\"1\" class=\"dataframe\">\n",
              "  <thead>\n",
              " <tr style=\"text-align: left;\">\n",
              "      <th>Epoch</th>\n",
              "      <th>Training Loss</th>\n",
              "      <th>Validation Loss</th>\n",
              "      <th>Accuracy</th>\n",
              "    </tr>\n",
              "  </thead>\n",
              "  <tbody>\n",
              "    <tr>\n",
              "      <td>1</td>\n",
              "      <td>No log</td>\n",
              "      <td>0.083583</td>\n",
              "      <td>0.976641</td>\n",
              "    </tr>\n",
              "    <tr>\n",
              "      <td>2</td>\n",
              "      <td>0.090400</td>\n",
              "      <td>0.087884</td>\n",
              "      <td>0.982202</td>\n",
              "    </tr>\n",
              "    <tr>\n",
              "      <td>3</td>\n",
              "      <td>0.048100</td>\n",
              "      <td>0.102757</td>\n",
              "      <td>0.981090</td>\n",
              "    </tr>\n",
              "  </tbody>\n",
              "</table><p>"
            ]
          },
          "metadata": {}
        },
        {
          "output_type": "execute_result",
          "data": {
            "text/plain": [
              "TrainOutput(global_step=1350, training_loss=0.05476472889935529, metrics={'train_runtime': 353.8941, 'train_samples_per_second': 30.484, 'train_steps_per_second': 3.815, 'total_flos': 709610516305920.0, 'train_loss': 0.05476472889935529, 'epoch': 3.0})"
            ]
          },
          "metadata": {},
          "execution_count": 15
        }
      ]
    },
    {
      "cell_type": "code",
      "source": [
        "import matplotlib.pyplot as plt\n",
        "\n",
        "# Extraer las métricas del historial del Trainer\n",
        "train_loss = [entry['loss'] for entry in trainer.state.log_history if 'loss' in entry]\n",
        "val_loss = [entry['eval_loss'] for entry in trainer.state.log_history if 'eval_loss' in entry]\n",
        "accuracy = [entry['eval_accuracy'] for entry in trainer.state.log_history if 'eval_accuracy' in entry]\n",
        "\n",
        "# Crear la figura y los ejes\n",
        "plt.figure(figsize=(12, 4))\n",
        "\n",
        "# Gráfico de la pérdida\n",
        "plt.subplot(1, 2, 1)\n",
        "plt.plot(train_loss, label='Training Loss')\n",
        "plt.plot(val_loss, label='Validation Loss')\n",
        "plt.xlabel('Step')\n",
        "plt.ylabel('Loss')\n",
        "plt.title('Curvas de Pérdida')\n",
        "plt.legend()\n",
        "\n",
        "# Gráfico de la precisión\n",
        "plt.subplot(1, 2, 2)\n",
        "plt.plot(accuracy, label='Validation Accuracy')\n",
        "plt.xlabel('Step')\n",
        "plt.ylabel('Accuracy')\n",
        "plt.title('Precisión en la Validación')\n",
        "plt.legend()\n",
        "\n",
        "plt.tight_layout()\n",
        "plt.show()"
      ],
      "metadata": {
        "colab": {
          "base_uri": "https://localhost:8080/",
          "height": 407
        },
        "id": "9B1e4xlbMSMI",
        "outputId": "8cdbec77-0786-4ffc-a4ef-c0b753e44b6d"
      },
      "execution_count": null,
      "outputs": [
        {
          "output_type": "display_data",
          "data": {
            "text/plain": [
              "<Figure size 1200x400 with 2 Axes>"
            ],
            "image/png": "[encoded data removed]"
          },
          "metadata": {}
        }
      ]
    },
    {
      "cell_type": "markdown",
      "metadata": {
        "id": "REdoy625qUD6"
      },
      "source": [
        "# Ejercicio 4: Análisis de Resultados\n",
        "\n",
        "**Objetivo:** Evaluar y comparar el rendimiento del modelo BERT en español."
      ]
    },
    {
      "cell_type": "code",
      "source": [
        "import matplotlib.pyplot as plt\n",
        "import seaborn as sns\n",
        "from sklearn.metrics import confusion_matrix\n",
        "\n",
        "# Obtener las predicciones del modelo en los datos de validación\n",
        "predictions = trainer.predict(val_dataset)\n",
        "y_pred = predictions.predictions.argmax(-1)\n",
        "\n",
        "# Extraer las etiquetas predichas y las etiquetas verdaderas\n",
        "predicted_labels = predictions.predictions.argmax(-1)\n",
        "true_labels = predictions.label_ids"
      ],
      "metadata": {
        "colab": {
          "base_uri": "https://localhost:8080/",
          "height": 17
        },
        "id": "t0nzD-4ME2xP",
        "outputId": "d9e950a9-eb25-42bb-b9b0-cec57fc46325"
      },
      "execution_count": null,
      "outputs": [
        {
          "output_type": "display_data",
          "data": {
            "text/plain": [
              "<IPython.core.display.HTML object>"
            ],
            "text/html": []
          },
          "metadata": {}
        }
      ]
    },
    {
      "cell_type": "code",
      "source": [
        "# Calcular la matriz de confusión\n",
        "cm = confusion_matrix(true_labels, predicted_labels)\n",
        "\n",
        "# Graficar la matriz de confusión\n",
        "plt.figure(figsize=(8, 6))\n",
        "sns.heatmap(cm, annot=True, fmt=\"d\", cmap=\"Blues\")\n",
        "plt.xlabel(\"Etiquetas Predichas\")\n",
        "plt.ylabel(\"Etiquetas Verdaderas\")\n",
        "plt.title(\"Matriz de Confusión\")\n",
        "plt.show()"
      ],
      "metadata": {
        "colab": {
          "base_uri": "https://localhost:8080/",
          "height": 564
        },
        "id": "qIyAWrTfE5m-",
        "outputId": "559c5400-9e72-4ad5-986c-1b63146d9c59"
      },
      "execution_count": null,
      "outputs": [
        {
          "output_type": "display_data",
          "data": {
            "text/plain": [
              "<Figure size 800x600 with 2 Axes>"
            ],
            "image/png": "[encoded data removed]"
          },
          "metadata": {}
        }
      ]
    },
    {
      "cell_type": "code",
      "source": [
        "# Crear un diccionario con los datos de validación\n",
        "val_data = {\n",
        "    \"input_ids\": val_encodings,\n",
        "    \"attention_mask\": val_masks\n",
        "}\n",
        "\n",
        "# Imprimir el informe de clasificación con precisión, recall, F1-score\n",
        "print(classification_report(y_val, y_pred))\n",
        "\n",
        "# Calcular métricas adicionales\n",
        "target_names = [str(name) for name in data['Etiqueta'].unique()]\n",
        "print(classification_report(y_val, y_pred, target_names=target_names))\n",
        "\n",
        "# Evaluación detallada con trainer.evaluate()\n",
        "eval_results = trainer.evaluate()\n",
        "print(eval_results)\n",
        "\n",
        "# Graficar la pérdida y la precisión durante el entrenamiento\n",
        "plt.figure(figsize=(12, 4))\n",
        "\n"
      ],
      "metadata": {
        "colab": {
          "base_uri": "https://localhost:8080/",
          "height": 440
        },
        "id": "o4oHo4A2E9G3",
        "outputId": "43d1d5d6-9e89-4c14-ad74-d8caa9de0223"
      },
      "execution_count": null,
      "outputs": [
        {
          "output_type": "stream",
          "name": "stdout",
          "text": [
            "              precision    recall  f1-score   support\n",
            "\n",
            "           0       1.00      0.98      0.99       760\n",
            "           1       0.91      0.98      0.94       139\n",
            "\n",
            "    accuracy                           0.98       899\n",
            "   macro avg       0.95      0.98      0.97       899\n",
            "weighted avg       0.98      0.98      0.98       899\n",
            "\n",
            "              precision    recall  f1-score   support\n",
            "\n",
            "           0       1.00      0.98      0.99       760\n",
            "           1       0.91      0.98      0.94       139\n",
            "\n",
            "    accuracy                           0.98       899\n",
            "   macro avg       0.95      0.98      0.97       899\n",
            "weighted avg       0.98      0.98      0.98       899\n",
            "\n"
          ]
        },
        {
          "output_type": "display_data",
          "data": {
            "text/plain": [
              "<IPython.core.display.HTML object>"
            ],
            "text/html": [
              "\n",
              "    <div>\n",
              "      \n",
              "      <progress value='113' max='113' style='width:300px; height:20px; vertical-align: middle;'></progress>\n",
              "      [113/113 00:06]\n",
              "    </div>\n",
              "    "
            ]
          },
          "metadata": {}
        },
        {
          "output_type": "stream",
          "name": "stdout",
          "text": [
            "{'eval_accuracy': 0.982202447163515, 'eval_loss': 0.08788371831178665, 'eval_runtime': 7.0275, 'eval_samples_per_second': 127.927, 'eval_steps_per_second': 16.08, 'epoch': 3.0}\n"
          ]
        },
        {
          "output_type": "execute_result",
          "data": {
            "text/plain": [
              "<Figure size 1200x400 with 0 Axes>"
            ]
          },
          "metadata": {},
          "execution_count": 19
        },
        {
          "output_type": "display_data",
          "data": {
            "text/plain": [
              "<Figure size 1200x400 with 0 Axes>"
            ]
          },
          "metadata": {}
        }
      ]
    },
    {
      "cell_type": "code",
      "source": [
        "# Visualización de resultados\n",
        "import matplotlib.pyplot as plt\n",
        "\n",
        "plt.figure(figsize=(10, 6))\n",
        "loss_values = [entry['loss'] for entry in trainer.state.log_history if 'loss' in entry]\n",
        "plt.plot(loss_values)\n",
        "plt.xlabel('Steps')\n",
        "plt.ylabel('Loss')\n",
        "plt.title('Curvas de Aprendizaje - BERT')\n",
        "plt.show()"
      ],
      "metadata": {
        "colab": {
          "base_uri": "https://localhost:8080/",
          "height": 564
        },
        "id": "f2JMa3V_ACkA",
        "outputId": "8ca81268-9ced-4945-c1f5-8c156ad00921"
      },
      "execution_count": null,
      "outputs": [
        {
          "output_type": "display_data",
          "data": {
            "text/plain": [
              "<Figure size 1000x600 with 1 Axes>"
            ],
            "image/png": "[encoded data removed]"
          },
          "metadata": {}
        }
      ]
    },
    {
      "cell_type": "code",
      "source": [
        "# Extraer la pérdida de entrenamiento y validación\n",
        "train_loss = [entry['loss'] for entry in trainer.state.log_history if 'loss' in entry]\n",
        "val_loss = [entry['eval_loss'] for entry in trainer.state.log_history if 'eval_loss' in entry]\n",
        "\n",
        "# Graficar las curvas\n",
        "plt.plot(train_loss, label='Training Loss')\n",
        "plt.plot(val_loss, label='Validation Loss')\n",
        "plt.xlabel('Steps')\n",
        "plt.ylabel('Loss')\n",
        "plt.title('Curvas de Aprendizaje')\n",
        "plt.legend()\n",
        "plt.show()"
      ],
      "metadata": {
        "colab": {
          "base_uri": "https://localhost:8080/",
          "height": 472
        },
        "id": "3INTA0yMGcIu",
        "outputId": "855ca93f-b151-4b90-ed18-0a74a9eb0abe"
      },
      "execution_count": null,
      "outputs": [
        {
          "output_type": "display_data",
          "data": {
            "text/plain": [
              "<Figure size 640x480 with 1 Axes>"
            ],
            "image/png": "[encoded data removed]"
          },
          "metadata": {}
        }
      ]
    },
    {
      "cell_type": "markdown",
      "metadata": {
        "id": "G-kKc7h7qUD8"
      },
      "source": [
        "# Ejercicio 5: Informe y Conclusiones\n",
        "\n",
        "**Objetivo:** Documentar los resultados obtenidos y discutir las implicaciones prácticas."
      ]
    },
    {
      "cell_type": "markdown",
      "source": [
        "# Introducción\n",
        "\n",
        "En este informe, evaluaremos y compararemos los modelos RNN, LSTM y BERT desarrollados para la clasificación de noticias en categorías especializadas como deportes, cultura, economía y justicia. Excluimos otras categorías no especializadas para enfocarnos en temas con un discurso específico y relevante."
      ],
      "metadata": {
        "id": "0TIrf44twyi1"
      }
    },
    {
      "cell_type": "markdown",
      "source": [
        "# Evaluación de los Modelos"
      ],
      "metadata": {
        "id": "Msho0Bn0wzoE"
      }
    },
    {
      "cell_type": "markdown",
      "source": [
        "A continuación veremos un resumen de los datos obtenidos al aplicar los tres modelos:"
      ],
      "metadata": {
        "id": "wW4SqsxKw1_4"
      }
    },
    {
      "cell_type": "code",
      "source": [
        "# Tabla en texto\n",
        "Resumen_modelos = \"\"\"\n",
        "| Evaluación Módelos  | MODELO RNN  | MODELO LSTM   | MODELO BERT  |\n",
        "|---------------------|-------------|---------------|--------------|\n",
        "| \"Precisión\"         |    0,68     |     0,51      |     0,98     |\n",
        "| \"F1-Score\"          |    0,68     |     0,42      |     0,99     |\n",
        "| \"Recall\"            |    0,68     |     0,51      |     0,98     |\n",
        "\"\"\"\n",
        "print(Resumen_modelos)"
      ],
      "metadata": {
        "colab": {
          "base_uri": "https://localhost:8080/"
        },
        "id": "8v2rGybLw96y",
        "outputId": "23ac17f5-ce38-433c-a738-5a49187213c2"
      },
      "execution_count": null,
      "outputs": [
        {
          "output_type": "stream",
          "name": "stdout",
          "text": [
            "\n",
            "| Evaluación Módelos  | MODELO RNN  | MODELO LSTM   | MODELO BERT  |\n",
            "|---------------------|-------------|---------------|--------------|\n",
            "| \"Precisión\"         |    0,68     |     0,51      |     0,98     |\n",
            "| \"F1-Score\"          |    0,68     |     0,42      |     0,99     |\n",
            "| \"Recall\"            |    0,68     |     0,51      |     0,98     |\n",
            "\n"
          ]
        }
      ]
    },
    {
      "cell_type": "code",
      "source": [
        "import matplotlib.pyplot as plt\n",
        "import numpy as np\n",
        "\n",
        "# Datos de la tabla\n",
        "metricas = [\"Precisión\", \"F1-Score\", \"Recall\"]\n",
        "modelos = [\"RNN\", \"LSTM\", \"BERT\"]\n",
        "valores = [\n",
        "    [0.68, 0.68, 0.68],  # RNN\n",
        "    [0.51, 0.42, 0.51],     # LSTM\n",
        "    [0.98, 0.99, 0.98]      # BERT\n",
        "]\n",
        "\n",
        "# Configuración de la gráfica\n",
        "x = np.arange(len(metricas))  # Posiciones en el eje X\n",
        "ancho = 0.25  # Ancho de las barras\n",
        "\n",
        "fig, ax = plt.subplots(figsize=(8, 5))\n",
        "\n",
        "# Crear las barras para cada modelo\n",
        "ax.bar(x - ancho, valores[0], width=ancho, label=\"RNN\", color='skyblue')\n",
        "ax.bar(x, valores[1], width=ancho, label=\"LSTM\", color='lightcoral')\n",
        "ax.bar(x + ancho, valores[2], width=ancho, label=\"BERT\", color='lightgreen')\n",
        "\n",
        "# Personalización del gráfico\n",
        "ax.set_xticks(x)\n",
        "ax.set_xticklabels(metricas)\n",
        "ax.set_ylabel(\"Valor de la Métrica\")\n",
        "ax.set_title(\"Comparación de Modelos por Métricas\")\n",
        "ax.legend()\n",
        "\n",
        "# Mostrar los valores encima de las barras\n",
        "for i, modelo in enumerate(valores):\n",
        "    for j, val in enumerate(modelo):\n",
        "        ax.text(x[j] + (i-1)*ancho, val + 0.01, f\"{val:.2f}\", ha='center', va='bottom', fontsize=9)\n",
        "\n",
        "plt.tight_layout()\n",
        "plt.show()"
      ],
      "metadata": {
        "colab": {
          "base_uri": "https://localhost:8080/",
          "height": 507
        },
        "id": "shYv2GORxBnX",
        "outputId": "59679444-f17b-422f-aab6-470de87d03bd"
      },
      "execution_count": null,
      "outputs": [
        {
          "output_type": "display_data",
          "data": {
            "text/plain": [
              "<Figure size 800x500 with 1 Axes>"
            ],
            "image/png": "[encoded data removed]"
          },
          "metadata": {}
        }
      ]
    },
    {
      "cell_type": "markdown",
      "source": [
        "A continuación veremos en detalle cada uno de ellos:"
      ],
      "metadata": {
        "id": "bf-XQBbzxEtx"
      }
    },
    {
      "cell_type": "markdown",
      "source": [
        "# Modelo RNN:"
      ],
      "metadata": {
        "id": "jNihRVdhxFQS"
      }
    },
    {
      "cell_type": "markdown",
      "source": [
        "![curvarnn.png](data:image/png;base64,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)"
      ],
      "metadata": {
        "id": "6gOtq-8yFHDc"
      }
    },
    {
      "cell_type": "markdown",
      "source": [
        "De la gráfica de curvas de aprendizaje - RNN, se puede evidenciar que el modelo en la etapa de entrenamiento tiene una curva de aprendizaje optima en dos o tres (2 a 3) épocas dado a que muestran un incremento constante en la precisión, a partir de la tercera (3) época, los datos de validación comienzan a disminuir lo que indica que el modelo se empieza a sobreajustar.\n",
        "De otra parte, al comparar la curva de entrenamiento con la de validación se puede apreciar una gran brecha, lo cual indica que en la validación el modelo no es tan óptimo dado a que se está presentando overfitting (sobreajuste).\n",
        "En conclusión, aunque el modelo logra una alta precisión en entrenamiento, la precisión en validación es más baja (alrededor de 0.7). Esto sugiere que el modelo no está generalizando bien."
      ],
      "metadata": {
        "id": "cOQ_Mf9uGsQa"
      }
    },
    {
      "cell_type": "markdown",
      "source": [
        "## Ventajas modelo RNN:"
      ],
      "metadata": {
        "id": "BDL0xccnxHXP"
      }
    },
    {
      "cell_type": "markdown",
      "source": [
        "--- Teniendo en cuenta que el lenguaje natural cuenta con entradas de longitudes diferentes, las redes neuronales son óptimas ya que permiten una clasificación de texto independientemente de la cantidad de diferentes de palabras.\n",
        "\n",
        "--- Con el RNN podemos hacer labores de detección de temas gracias a la memoria interna con la cual se pueden capturar dependencias contextuales en una secuencia.\n",
        "\n",
        "--- Permite contar con un enfoque que tiene en cuenta el contexto más que tratar palabras independientes, lo cual puede reducir la complejidad de los datos y mejorar la eficiencia.\n",
        "\n",
        "--- Gracias a su arquitectura puede adaptarse a la clasificación multiclase, es decir, por temas o categorías. Como lo que nos ocupa para este taller."
      ],
      "metadata": {
        "id": "TS1dE3PKxKAM"
      }
    },
    {
      "cell_type": "markdown",
      "source": [
        "## Desventajas modelo RNN:"
      ],
      "metadata": {
        "id": "57GEvo4BxM-f"
      }
    },
    {
      "cell_type": "markdown",
      "source": [
        "--- Tiene una capacidad limitada para modelar dependencias a largo plazo debido al desvanecimiento de la gradiente.\n",
        "\n",
        "--- Conlleva un tiempo de procesamiento elevado ya que procesan las secuencias de una en una, lo cual con grandes volúmenes de datos de texto puede resultar costoso en terminos de tiempo.\n",
        "\n",
        "--- Este modelo desarrolla una arquitectura secuencial, con lo cual un token no se procesa hasta que se ha procesado el anterior. Lo cual conlleva paralelización del proceso de entrenamiento.\n",
        "\n",
        "\n",
        "--- Requiere especial atención con los hiperparametros como el número de capas y longitud de la secuencia, para evitar sobreajuste o bajo rendimiento."
      ],
      "metadata": {
        "id": "Eq3OyOZnxPrc"
      }
    },
    {
      "cell_type": "markdown",
      "source": [
        "# Modelo LSTM:"
      ],
      "metadata": {
        "id": "kthvut6wxSWy"
      }
    },
    {
      "cell_type": "markdown",
      "source": [
        "![curvalstm.png](data:image/png;base64,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)"
      ],
      "metadata": {
        "id": "W3ZUZqiEFZKm"
      }
    },
    {
      "cell_type": "markdown",
      "source": [
        "De acuerdo con la gráfica curvas de aprendizaje en el modelo LSTM, se puede analizar que durante el entrenamiento y validación, la precisión se mantuvo de manera constante por debajo de 0.4 y 0.375 respectivamente hasta la segunda (2) época, lo que puede indicar que el modelo cuenta con una baja tasa de aprendizaje.\n",
        "\n",
        "A partir de la segunda época, la precisión comienza a mejorar tranto en entrenamiento como en validación por encima de 0.525hasta la tercera (3) época.\n",
        "\n",
        "A partir de la época 3, la validación empiza a disminuir ligeramente, lo que puede sugerir que el modelo se está sobreajustando al conjunto de entrenamiento, perdiendo capacidad de generalización."
      ],
      "metadata": {
        "id": "Ej6mHjsuG4gz"
      }
    },
    {
      "cell_type": "markdown",
      "source": [
        "## Ventajas modelo LSTM:"
      ],
      "metadata": {
        "id": "MHLj6mrxxWXq"
      }
    },
    {
      "cell_type": "markdown",
      "source": [
        "--- Resuelve el problema de desvanecimiento de gradiente del RNN, lo cual representa un manejo eficiente de dependencias a largo plazo.\n",
        "\n",
        "--- Este modelo permite un mayor control de la memoria y los flujos de información, con lo cual se puede trabajar adecuadamente la labor de clasificación de texto que requiere contexto a largo plazo.\n",
        "\n",
        "--- El modelo tiene la capacidad de ofrecer buenas predicciones en contextos variables debido a su arquitectura que permite modelar dependencias contextuales profundas."
      ],
      "metadata": {
        "id": "bq6z-8MaxY7F"
      }
    },
    {
      "cell_type": "markdown",
      "source": [
        "## Desventajas modelo LSTM:"
      ],
      "metadata": {
        "id": "tptGhSLcxbit"
      }
    },
    {
      "cell_type": "markdown",
      "source": [
        "--- Computacionalmente es más complejo que el modelo RNN debido a sus multiples puertos de control.\n",
        "\n",
        "--- Se deben ejecutar técnicas de validación cruzada o regularización ya que es suseptible a que se sobreajuste a los datos de entrenamiento ya que tiene mayor cantidad de parámetros."
      ],
      "metadata": {
        "id": "ZgMz_Qlrxd7g"
      }
    },
    {
      "cell_type": "markdown",
      "source": [
        "# Modelo BERT:"
      ],
      "metadata": {
        "id": "xgm4u2HLxlZx"
      }
    },
    {
      "cell_type": "markdown",
      "source": [
        "![curvabert.png](data:image/png;base64,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)"
      ],
      "metadata": {
        "id": "UyT3JyLGFvV1"
      }
    },
    {
      "cell_type": "markdown",
      "source": [
        "La gráfica de curvas de aprendizaje del modelo BERT, nos muestra las curvas validación y aprendizaje de la función de pérdida (Loss) en funsión de los pasos (Steps). De esta se puede interpretar que:\n",
        "1. En el entrenamiento, la pérdida en el conjunto desciende rápidamente desde el inicio hasta por debajo de 0.05, lo que indica que el modelo está ajustándose bien a los datos del entrenamiento.\n",
        "2. En la etapa de validación, la pérdida de validación es más alta que la del entrenamiento y aumenta significativamente hasta los 2.0 pasos, lo que podría deberse a que el modelo está comenzando a sobreajustarse al conjunto de entrenamiento.\n",
        "\n",
        "Se puede concluir que el modelo podría no estar generalizando bien dado que, la pérdida de validación es consistentemente más alta que la de entrenamiento.\n"
      ],
      "metadata": {
        "id": "FFE4b-IrG7M7"
      }
    },
    {
      "cell_type": "markdown",
      "source": [
        "## Ventajas modelo BERT:"
      ],
      "metadata": {
        "id": "xnGK0hKxxnLT"
      }
    },
    {
      "cell_type": "markdown",
      "source": [
        "--- Al ser un modelo bidireccional puede capturar significados más profundos de las palabras dependiendo del contexto que las rodea.\n",
        "\n",
        "--- Se puede preprocesar toda la secuencia simultaneamente a diferencia del RNN o LSTM que son secuenciales con lo cual hace más demorado el proceso.\n",
        "\n",
        "--- Se puede ajustar a tareas especificas despues de su preentrenamiento, con lo cual no necesita entrenarse desde cero."
      ],
      "metadata": {
        "id": "uaIdynZkxpVV"
      }
    },
    {
      "cell_type": "markdown",
      "source": [
        "## Desventajas modelo BERT:"
      ],
      "metadata": {
        "id": "uOmK1kigxrSq"
      }
    },
    {
      "cell_type": "markdown",
      "source": [
        "\n",
        "\n",
        "--- Altos costos computacionales y uso intensivo de memoria para entrenarse.\n",
        "\n",
        "--- Tiende a sobreajustarse cuando se usa para datasets pequeños.\n",
        "\n"
      ],
      "metadata": {
        "id": "q02q81CxxtWU"
      }
    },
    {
      "cell_type": "markdown",
      "source": [
        "# Conclusión"
      ],
      "metadata": {
        "id": "ah7QSMnDFh6e"
      }
    },
    {
      "cell_type": "markdown",
      "source": [
        "Del análisis efectuado a los resultados de los modelos LSTM, RNN y BERT, se puede concluir que:\n",
        "\n",
        "\n",
        "\n",
        "*   Modelo RNN: mostró una alta precisión en el conjunto de entrenamiento, sin embargo, tuvo un rendimiento significativamente menor en el conjunto de validación presentando sobreajuste. Su simplicidad lo hace menos efectivo para tareas complejas de secuencias, con un rendimiento inferior.\n",
        "*   Modelo LSTM: mostró una mejora lenta durante las primeras épocas y un aumento brusco en el rendimiento tanto en entrenamiento como en validación, tiene mejor capacidad que RNN para manejar dependencias en el tiempo, pero su precisión fue limitada y mostró sobreajuste.\n",
        "*   Modelo BERT: Aunque la pérdida de validación fue inicialmente más alta que la de entrenamiento, el modelo mostró  un mejor equilibrio en las curvas de aprendizaje y generalización,su rendimiento general (evaluado a través de la pérdida) lo posiciona como el mejor modelo dado que:\n",
        "    1. Presenta un descenso más consistente en la pérdida, lo que sugiere un mejor equilibrio entre ajuste y generalización.\n",
        "    2. Al ser diseñado específicamente para tareas de NLP, maneja de una forma más eficiente la relación semántica que existe entre las palabras.\n",
        "    3. Mostró mayor robustez y menor tendencia al sobreajuste en comparación con LSTM y RNN\n"
      ],
      "metadata": {
        "id": "MWut9ZnBG_IX"
      }
    },
    {
      "cell_type": "markdown",
      "source": [
        "## Recomendaciones:\n",
        "\n",
        "Se observa que para hacer más óptimo el resultado del modelo STML (que fue el que arrojó resultados más bajos) se podría aplicar estrategías como:\n",
        "\n",
        "\n",
        "*   Implementar técnicas de regularización como Dropout o Weight Decay.\n",
        "*   Usar un optimizador avanzado como AdamW.\n",
        "*   Utilizar Early Stopping basado en la pérdida de validación para detener el entrenamiento antes de que ocurra sobreajuste.\n",
        "*   Ampliar el conjunto de datos de entrenamiento para abordar la desbalance de clases.\n",
        "\n",
        "\n",
        "De otra parte, para la elección del modelo se debe evaluar la naturaleza específica de la tarea, los requisitos de rendimiento y la capacidad computacional.\n",
        "\n",
        "\n",
        "\n"
      ],
      "metadata": {
        "id": "4I81mYD-HOue"
      }
    }
  ]
}