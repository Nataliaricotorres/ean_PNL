{
  "cells": [
    {
      "cell_type": "markdown",
      "metadata": {
        "id": "view-in-github",
        "colab_type": "text"
      },
      "source": [
        "<a href=\"https://colab.research.google.com/github/Nataliaricotorres/ean_PNL/blob/main/ejerciciobookingpln.ipynb\" target=\"_parent\"><img src=\"https://colab.research.google.com/assets/colab-badge.svg\" alt=\"Open In Colab\"/></a>"
      ]
    },
    {
      "cell_type": "markdown",
      "metadata": {
        "id": "MCXV9nRAlsKh"
      },
      "source": [
        " # <span style=\"color:green\">__Universidad EAN:</span> Facultad de Ingenieria - Maestría en Ciencias de Datos__\n",
        " ## **<span style=\"color:orange\">Procesamiento de Lenguaje Natural</span>**\n",
        "\n",
        "* __Geraldine Giseth Patiño Pardo__\n",
        "* __Juan Sebastian Lozano Forero__\n",
        "* __Natalia Rico Torres__"
      ]
    },
    {
      "cell_type": "markdown",
      "metadata": {
        "id": "0ITN0E-ylsKq"
      },
      "source": [
        "# __1. Importación y Carga de Librerias__"
      ]
    },
    {
      "cell_type": "code",
      "execution_count": null,
      "metadata": {
        "id": "lKBwbK40lsKr",
        "outputId": "e6ac86d3-9450-4fd9-ccac-c10e94e4d06e"
      },
      "outputs": [
        {
          "name": "stderr",
          "output_type": "stream",
          "text": [
            "[nltk_data] Downloading package punkt to\n",
            "[nltk_data]     C:\\Users\\LENOVO\\AppData\\Roaming\\nltk_data...\n",
            "[nltk_data]   Package punkt is already up-to-date!\n",
            "[nltk_data] Downloading package stopwords to\n",
            "[nltk_data]     C:\\Users\\LENOVO\\AppData\\Roaming\\nltk_data...\n",
            "[nltk_data]   Package stopwords is already up-to-date!\n",
            "[nltk_data] Downloading package snowball_data to\n",
            "[nltk_data]     C:\\Users\\LENOVO\\AppData\\Roaming\\nltk_data...\n",
            "[nltk_data]   Package snowball_data is already up-to-date!\n",
            "[nltk_data] Downloading package wordnet to\n",
            "[nltk_data]     C:\\Users\\LENOVO\\AppData\\Roaming\\nltk_data...\n",
            "[nltk_data]   Package wordnet is already up-to-date!\n"
          ]
        },
        {
          "data": {
            "text/plain": [
              "True"
            ]
          },
          "execution_count": 1,
          "metadata": {},
          "output_type": "execute_result"
        }
      ],
      "source": [
        "import re ## Exprexiones regulares\n",
        "import nltk ## Procesamiento de lenguaje natural\n",
        "import unicodedata\n",
        "from nltk.corpus import stopwords ## Palabras vacias\n",
        "from nltk.stem import SnowballStemmer ## Stemming\n",
        "from nltk.tokenize import word_tokenize ## Tokenizacion\n",
        "from nltk.tokenize import RegexpTokenizer ## Tokenizacion\n",
        "from sklearn.feature_extraction.text import CountVectorizer ## Vectorizador\n",
        "from sklearn.feature_extraction.text import TfidfTransformer\n",
        "from sklearn.feature_extraction.text import TfidfVectorizer\n",
        "import spacy ## Procesamiento de lenguaje natural\n",
        "\n",
        "############## Descarga de recursos de nltk ################\n",
        "nltk.download('punkt') ## Tokenizador\n",
        "nltk.download('stopwords') ## Palabras vacias\n",
        "nltk.download('snowball_data') ## Stemming\n",
        "nltk.download('wordnet') ## Lematizacion"
      ]
    },
    {
      "cell_type": "markdown",
      "metadata": {
        "id": "R6WI8snqlsKu"
      },
      "source": [
        "# __2. Carga de base de datos__"
      ]
    },
    {
      "cell_type": "code",
      "execution_count": null,
      "metadata": {
        "id": "bNZlPhNglsKv",
        "outputId": "206c314d-a795-4aeb-a95e-d0191412f9c8"
      },
      "outputs": [
        {
          "name": "stderr",
          "output_type": "stream",
          "text": [
            "C:\\Users\\LENOVO\\AppData\\Local\\Temp\\ipykernel_25304\\3885224651.py:4: DtypeWarning: Columns (2) have mixed types. Specify dtype option on import or set low_memory=False.\n",
            "  Booking_df=pd.read_csv('https://raw.githubusercontent.com/Izainea/nlp_ean/refs/heads/main/Datos/Datos%20Crudos/reviews_booking.csv')\n"
          ]
        },
        {
          "data": {
            "text/html": [
              "<div>\n",
              "<style scoped>\n",
              "    .dataframe tbody tr th:only-of-type {\n",
              "        vertical-align: middle;\n",
              "    }\n",
              "\n",
              "    .dataframe tbody tr th {\n",
              "        vertical-align: top;\n",
              "    }\n",
              "\n",
              "    .dataframe thead th {\n",
              "        text-align: right;\n",
              "    }\n",
              "</style>\n",
              "<table border=\"1\" class=\"dataframe\">\n",
              "  <thead>\n",
              "    <tr style=\"text-align: right;\">\n",
              "      <th></th>\n",
              "      <th>Unnamed: 0</th>\n",
              "      <th>País</th>\n",
              "      <th>Acomodación</th>\n",
              "      <th>Noches</th>\n",
              "      <th>Fecha hospedaje</th>\n",
              "      <th>Grupo viaje</th>\n",
              "      <th>Fecha reseña</th>\n",
              "      <th>Titulo</th>\n",
              "      <th>Calificación</th>\n",
              "      <th>Cosas Positivas</th>\n",
              "      <th>Cosas Negativas</th>\n",
              "      <th>reseña</th>\n",
              "    </tr>\n",
              "  </thead>\n",
              "  <tbody>\n",
              "    <tr>\n",
              "      <th>0</th>\n",
              "      <td>0</td>\n",
              "      <td>Venezuela</td>\n",
              "      <td>NaN</td>\n",
              "      <td>2 noches</td>\n",
              "      <td>julio de 2023</td>\n",
              "      <td>En pareja</td>\n",
              "      <td>31 de julio de 2023</td>\n",
              "      <td>Excepcional</td>\n",
              "      <td>10</td>\n",
              "      <td>Fue la Mejor Opción que pudimos haber tomado e...</td>\n",
              "      <td>NaN</td>\n",
              "      <td>Sí</td>\n",
              "    </tr>\n",
              "    <tr>\n",
              "      <th>1</th>\n",
              "      <td>1</td>\n",
              "      <td>Colombia</td>\n",
              "      <td>NaN</td>\n",
              "      <td>4 noches</td>\n",
              "      <td>octubre de 2024</td>\n",
              "      <td>Persona que viaja sola</td>\n",
              "      <td>23 de octubre de 2024</td>\n",
              "      <td>Fantástica</td>\n",
              "      <td>10</td>\n",
              "      <td>Ubicación, comodidades y limpieza</td>\n",
              "      <td>NaN</td>\n",
              "      <td>Sí</td>\n",
              "    </tr>\n",
              "    <tr>\n",
              "      <th>2</th>\n",
              "      <td>2</td>\n",
              "      <td>Colombia</td>\n",
              "      <td>NaN</td>\n",
              "      <td>1 noche</td>\n",
              "      <td>octubre de 2024</td>\n",
              "      <td>Persona que viaja sola</td>\n",
              "      <td>15 de octubre de 2024</td>\n",
              "      <td>Excepcional</td>\n",
              "      <td>10</td>\n",
              "      <td>El lugar esta muy bien ubicado, el apartamento...</td>\n",
              "      <td>NaN</td>\n",
              "      <td>Sí</td>\n",
              "    </tr>\n",
              "    <tr>\n",
              "      <th>3</th>\n",
              "      <td>3</td>\n",
              "      <td>Colombia</td>\n",
              "      <td>NaN</td>\n",
              "      <td>1 noche</td>\n",
              "      <td>agosto de 2024</td>\n",
              "      <td>En pareja</td>\n",
              "      <td>20 de agosto de 2024</td>\n",
              "      <td>Gran apartamento en una gran ubicación.</td>\n",
              "      <td>10</td>\n",
              "      <td>Todo estuvo perfecto. La ubicación y la relaci...</td>\n",
              "      <td>NaN</td>\n",
              "      <td>Sí</td>\n",
              "    </tr>\n",
              "    <tr>\n",
              "      <th>4</th>\n",
              "      <td>4</td>\n",
              "      <td>Colombia</td>\n",
              "      <td>NaN</td>\n",
              "      <td>3 noches</td>\n",
              "      <td>marzo de 2024</td>\n",
              "      <td>En pareja</td>\n",
              "      <td>27 de marzo de 2024</td>\n",
              "      <td>Excepcional</td>\n",
              "      <td>10</td>\n",
              "      <td>Es muy cómodo y acogedor, la atención es excel...</td>\n",
              "      <td>NaN</td>\n",
              "      <td>Sí</td>\n",
              "    </tr>\n",
              "    <tr>\n",
              "      <th>...</th>\n",
              "      <td>...</td>\n",
              "      <td>...</td>\n",
              "      <td>...</td>\n",
              "      <td>...</td>\n",
              "      <td>...</td>\n",
              "      <td>...</td>\n",
              "      <td>...</td>\n",
              "      <td>...</td>\n",
              "      <td>...</td>\n",
              "      <td>...</td>\n",
              "      <td>...</td>\n",
              "      <td>...</td>\n",
              "    </tr>\n",
              "    <tr>\n",
              "      <th>438208</th>\n",
              "      <td>438208</td>\n",
              "      <td>Estados Unidos</td>\n",
              "      <td>Apartamento Suite</td>\n",
              "      <td>1 noche</td>\n",
              "      <td>septiembre de 2024</td>\n",
              "      <td>En familia</td>\n",
              "      <td>22 de octubre de 2024</td>\n",
              "      <td>Fantástico</td>\n",
              "      <td>9,0</td>\n",
              "      <td>NaN</td>\n",
              "      <td>NaN</td>\n",
              "      <td>No</td>\n",
              "    </tr>\n",
              "    <tr>\n",
              "      <th>438209</th>\n",
              "      <td>438209</td>\n",
              "      <td>Colombia</td>\n",
              "      <td>Apartamento de 1 dormitorio</td>\n",
              "      <td>1 noche</td>\n",
              "      <td>octubre de 2024</td>\n",
              "      <td>Persona que viaja sola</td>\n",
              "      <td>9 de octubre de 2024</td>\n",
              "      <td>Excepcional</td>\n",
              "      <td>10</td>\n",
              "      <td>NaN</td>\n",
              "      <td>NaN</td>\n",
              "      <td>No</td>\n",
              "    </tr>\n",
              "    <tr>\n",
              "      <th>438210</th>\n",
              "      <td>438210</td>\n",
              "      <td>México</td>\n",
              "      <td>Apartamento de 1 dormitorio</td>\n",
              "      <td>4 noches</td>\n",
              "      <td>agosto de 2024</td>\n",
              "      <td>Persona que viaja sola</td>\n",
              "      <td>6 de septiembre de 2024</td>\n",
              "      <td>Pésimo</td>\n",
              "      <td>1,0</td>\n",
              "      <td>No me pareció nada</td>\n",
              "      <td>No obstante que dos días antes de mi llegada a...</td>\n",
              "      <td>Sí</td>\n",
              "    </tr>\n",
              "    <tr>\n",
              "      <th>438211</th>\n",
              "      <td>438211</td>\n",
              "      <td>Colombia</td>\n",
              "      <td>Apartamento de 1 dormitorio</td>\n",
              "      <td>2 noches</td>\n",
              "      <td>julio de 2024</td>\n",
              "      <td>En pareja</td>\n",
              "      <td>22 de julio de 2024</td>\n",
              "      <td>Excepcional</td>\n",
              "      <td>10</td>\n",
              "      <td>NaN</td>\n",
              "      <td>NaN</td>\n",
              "      <td>No</td>\n",
              "    </tr>\n",
              "    <tr>\n",
              "      <th>438212</th>\n",
              "      <td>438212</td>\n",
              "      <td>Colombia</td>\n",
              "      <td>Apartamento de 2 dormitorios</td>\n",
              "      <td>2 noches</td>\n",
              "      <td>octubre de 2024</td>\n",
              "      <td>Persona que viaja sola</td>\n",
              "      <td>3 de noviembre de 2024</td>\n",
              "      <td>excelente</td>\n",
              "      <td>8,0</td>\n",
              "      <td>muy buena ubicacion, el menaje y todo lo del a...</td>\n",
              "      <td>NaN</td>\n",
              "      <td>Sí</td>\n",
              "    </tr>\n",
              "  </tbody>\n",
              "</table>\n",
              "<p>438213 rows × 12 columns</p>\n",
              "</div>"
            ],
            "text/plain": [
              "        Unnamed: 0            País                   Acomodación    Noches  \\\n",
              "0                0       Venezuela                           NaN  2 noches   \n",
              "1                1        Colombia                           NaN  4 noches   \n",
              "2                2        Colombia                           NaN   1 noche   \n",
              "3                3        Colombia                           NaN   1 noche   \n",
              "4                4        Colombia                           NaN  3 noches   \n",
              "...            ...             ...                           ...       ...   \n",
              "438208      438208  Estados Unidos             Apartamento Suite   1 noche   \n",
              "438209      438209        Colombia   Apartamento de 1 dormitorio   1 noche   \n",
              "438210      438210          México   Apartamento de 1 dormitorio  4 noches   \n",
              "438211      438211        Colombia   Apartamento de 1 dormitorio  2 noches   \n",
              "438212      438212        Colombia  Apartamento de 2 dormitorios  2 noches   \n",
              "\n",
              "           Fecha hospedaje             Grupo viaje             Fecha reseña  \\\n",
              "0            julio de 2023               En pareja      31 de julio de 2023   \n",
              "1          octubre de 2024  Persona que viaja sola    23 de octubre de 2024   \n",
              "2          octubre de 2024  Persona que viaja sola    15 de octubre de 2024   \n",
              "3           agosto de 2024               En pareja     20 de agosto de 2024   \n",
              "4            marzo de 2024               En pareja      27 de marzo de 2024   \n",
              "...                    ...                     ...                      ...   \n",
              "438208  septiembre de 2024              En familia    22 de octubre de 2024   \n",
              "438209     octubre de 2024  Persona que viaja sola     9 de octubre de 2024   \n",
              "438210      agosto de 2024  Persona que viaja sola  6 de septiembre de 2024   \n",
              "438211       julio de 2024               En pareja      22 de julio de 2024   \n",
              "438212     octubre de 2024  Persona que viaja sola   3 de noviembre de 2024   \n",
              "\n",
              "                                         Titulo Calificación  \\\n",
              "0                                   Excepcional           10   \n",
              "1                                    Fantástica           10   \n",
              "2                                   Excepcional           10   \n",
              "3       Gran apartamento en una gran ubicación.           10   \n",
              "4                                   Excepcional           10   \n",
              "...                                         ...          ...   \n",
              "438208                               Fantástico          9,0   \n",
              "438209                              Excepcional           10   \n",
              "438210                                   Pésimo          1,0   \n",
              "438211                              Excepcional           10   \n",
              "438212                                excelente          8,0   \n",
              "\n",
              "                                          Cosas Positivas  \\\n",
              "0       Fue la Mejor Opción que pudimos haber tomado e...   \n",
              "1                       Ubicación, comodidades y limpieza   \n",
              "2       El lugar esta muy bien ubicado, el apartamento...   \n",
              "3       Todo estuvo perfecto. La ubicación y la relaci...   \n",
              "4       Es muy cómodo y acogedor, la atención es excel...   \n",
              "...                                                   ...   \n",
              "438208                                                NaN   \n",
              "438209                                                NaN   \n",
              "438210                                 No me pareció nada   \n",
              "438211                                                NaN   \n",
              "438212  muy buena ubicacion, el menaje y todo lo del a...   \n",
              "\n",
              "                                          Cosas Negativas reseña  \n",
              "0                                                     NaN     Sí  \n",
              "1                                                     NaN     Sí  \n",
              "2                                                     NaN     Sí  \n",
              "3                                                     NaN     Sí  \n",
              "4                                                     NaN     Sí  \n",
              "...                                                   ...    ...  \n",
              "438208                                                NaN     No  \n",
              "438209                                                NaN     No  \n",
              "438210  No obstante que dos días antes de mi llegada a...     Sí  \n",
              "438211                                                NaN     No  \n",
              "438212                                                NaN     Sí  \n",
              "\n",
              "[438213 rows x 12 columns]"
            ]
          },
          "execution_count": 2,
          "metadata": {},
          "output_type": "execute_result"
        }
      ],
      "source": [
        "## Se carga la base de datos\n",
        "import pandas as pd\n",
        "\n",
        "Booking_df=pd.read_csv('https://raw.githubusercontent.com/Izainea/nlp_ean/refs/heads/main/Datos/Datos%20Crudos/reviews_booking.csv')\n",
        "Booking_df"
      ]
    },
    {
      "cell_type": "markdown",
      "metadata": {
        "id": "zohL9hJ-lsKw"
      },
      "source": [
        "# __3. Se generan Dataframes con reseñas de Colombia tanto positivas como negativas__"
      ]
    },
    {
      "cell_type": "code",
      "execution_count": null,
      "metadata": {
        "id": "h0L3nzLilsKw"
      },
      "outputs": [],
      "source": [
        "# Filtrar y eliminar los registros donde 'reseña' sea \"No\" y 'País' sea \"Colombia\"\n",
        "BookingCol = Booking_df[(Booking_df['reseña'] == 'Sí') & (Booking_df['País'] == 'Colombia')]"
      ]
    },
    {
      "cell_type": "code",
      "execution_count": null,
      "metadata": {
        "id": "HQ-eLbL9lsKx",
        "outputId": "5d9dae20-3574-4954-8ac7-6c9afd8b9bcc"
      },
      "outputs": [
        {
          "name": "stderr",
          "output_type": "stream",
          "text": [
            "C:\\Users\\LENOVO\\AppData\\Local\\Temp\\ipykernel_25304\\3907479697.py:1: SettingWithCopyWarning: \n",
            "A value is trying to be set on a copy of a slice from a DataFrame.\n",
            "Try using .loc[row_indexer,col_indexer] = value instead\n",
            "\n",
            "See the caveats in the documentation: https://pandas.pydata.org/pandas-docs/stable/user_guide/indexing.html#returning-a-view-versus-a-copy\n",
            "  BookingCol['Calificación']=BookingCol['Calificación'].str.replace(',','.').astype(float)\n"
          ]
        }
      ],
      "source": [
        "BookingCol['Calificación']=BookingCol['Calificación'].str.replace(',','.').astype(float)"
      ]
    },
    {
      "cell_type": "code",
      "execution_count": null,
      "metadata": {
        "id": "UjxBaDchlsKy",
        "outputId": "8c242a90-faec-4cb1-f3e5-bef43b80e501"
      },
      "outputs": [
        {
          "data": {
            "text/plain": [
              "87232     Dejé pago un servicio de transporte para el ae...\n",
              "97797     Desde que llega uno lo hacen leer unas condici...\n",
              "425113    el bar no estaba disponible, encontramos cabel...\n",
              "297755    Se fue la luz y no servia el ascensor por casi...\n",
              "9584      Podría mejorar las recomendaciones para los hu...\n",
              "                                ...                        \n",
              "360830    The buffet breakfast didn't really feel like a...\n",
              "410879    Estaba el baño sucio, no tenía jabones de duch...\n",
              "420494    Para tener en cuenta que es muy incómodo el no...\n",
              "350703    Pague una avitacion por dos personas y solo no...\n",
              "283905    La instalaciones del hotel son viejas y la hab...\n",
              "Name: Cosas Negativas, Length: 7500, dtype: object"
            ]
          },
          "execution_count": 5,
          "metadata": {},
          "output_type": "execute_result"
        }
      ],
      "source": [
        "DF_inicial=BookingCol[BookingCol['Calificación']<=7]\n",
        "DF_inicial=DF_inicial['Cosas Negativas']\n",
        "DF_inicial=DF_inicial[DF_inicial.fillna('').apply(len)>60].sample(7500)\n",
        "DF_inicial"
      ]
    },
    {
      "cell_type": "code",
      "execution_count": null,
      "metadata": {
        "id": "QvpoOtHClsKz",
        "outputId": "435d270a-28cc-4096-c5e0-97128c931a5c"
      },
      "outputs": [
        {
          "data": {
            "text/html": [
              "<div>\n",
              "<style scoped>\n",
              "    .dataframe tbody tr th:only-of-type {\n",
              "        vertical-align: middle;\n",
              "    }\n",
              "\n",
              "    .dataframe tbody tr th {\n",
              "        vertical-align: top;\n",
              "    }\n",
              "\n",
              "    .dataframe thead th {\n",
              "        text-align: right;\n",
              "    }\n",
              "</style>\n",
              "<table border=\"1\" class=\"dataframe\">\n",
              "  <thead>\n",
              "    <tr style=\"text-align: right;\">\n",
              "      <th></th>\n",
              "      <th>Comentarios</th>\n",
              "      <th>Clas</th>\n",
              "    </tr>\n",
              "  </thead>\n",
              "  <tbody>\n",
              "    <tr>\n",
              "      <th>87232</th>\n",
              "      <td>Dejé pago un servicio de transporte para el ae...</td>\n",
              "      <td>Negativos</td>\n",
              "    </tr>\n",
              "    <tr>\n",
              "      <th>97797</th>\n",
              "      <td>Desde que llega uno lo hacen leer unas condici...</td>\n",
              "      <td>Negativos</td>\n",
              "    </tr>\n",
              "    <tr>\n",
              "      <th>425113</th>\n",
              "      <td>el bar no estaba disponible, encontramos cabel...</td>\n",
              "      <td>Negativos</td>\n",
              "    </tr>\n",
              "    <tr>\n",
              "      <th>297755</th>\n",
              "      <td>Se fue la luz y no servia el ascensor por casi...</td>\n",
              "      <td>Negativos</td>\n",
              "    </tr>\n",
              "    <tr>\n",
              "      <th>9584</th>\n",
              "      <td>Podría mejorar las recomendaciones para los hu...</td>\n",
              "      <td>Negativos</td>\n",
              "    </tr>\n",
              "    <tr>\n",
              "      <th>...</th>\n",
              "      <td>...</td>\n",
              "      <td>...</td>\n",
              "    </tr>\n",
              "    <tr>\n",
              "      <th>360830</th>\n",
              "      <td>The buffet breakfast didn't really feel like a...</td>\n",
              "      <td>Negativos</td>\n",
              "    </tr>\n",
              "    <tr>\n",
              "      <th>410879</th>\n",
              "      <td>Estaba el baño sucio, no tenía jabones de duch...</td>\n",
              "      <td>Negativos</td>\n",
              "    </tr>\n",
              "    <tr>\n",
              "      <th>420494</th>\n",
              "      <td>Para tener en cuenta que es muy incómodo el no...</td>\n",
              "      <td>Negativos</td>\n",
              "    </tr>\n",
              "    <tr>\n",
              "      <th>350703</th>\n",
              "      <td>Pague una avitacion por dos personas y solo no...</td>\n",
              "      <td>Negativos</td>\n",
              "    </tr>\n",
              "    <tr>\n",
              "      <th>283905</th>\n",
              "      <td>La instalaciones del hotel son viejas y la hab...</td>\n",
              "      <td>Negativos</td>\n",
              "    </tr>\n",
              "  </tbody>\n",
              "</table>\n",
              "<p>7500 rows × 2 columns</p>\n",
              "</div>"
            ],
            "text/plain": [
              "                                              Comentarios       Clas\n",
              "87232   Dejé pago un servicio de transporte para el ae...  Negativos\n",
              "97797   Desde que llega uno lo hacen leer unas condici...  Negativos\n",
              "425113  el bar no estaba disponible, encontramos cabel...  Negativos\n",
              "297755  Se fue la luz y no servia el ascensor por casi...  Negativos\n",
              "9584    Podría mejorar las recomendaciones para los hu...  Negativos\n",
              "...                                                   ...        ...\n",
              "360830  The buffet breakfast didn't really feel like a...  Negativos\n",
              "410879  Estaba el baño sucio, no tenía jabones de duch...  Negativos\n",
              "420494  Para tener en cuenta que es muy incómodo el no...  Negativos\n",
              "350703  Pague una avitacion por dos personas y solo no...  Negativos\n",
              "283905  La instalaciones del hotel son viejas y la hab...  Negativos\n",
              "\n",
              "[7500 rows x 2 columns]"
            ]
          },
          "execution_count": 6,
          "metadata": {},
          "output_type": "execute_result"
        }
      ],
      "source": [
        "DF_Final=pd.DataFrame()\n",
        "\n",
        "DF_Final['Comentarios']=DF_inicial\n",
        "DF_Final['Clas']='Negativos'\n",
        "DF_Final"
      ]
    },
    {
      "cell_type": "code",
      "execution_count": null,
      "metadata": {
        "id": "qV5j-zYmlsKz",
        "outputId": "ee314e12-1643-4ffc-861e-0fa996917352"
      },
      "outputs": [
        {
          "data": {
            "text/plain": [
              "398698    La atención!! Son muy agradables, serviciales ...\n",
              "254855    La amabilidad del personal y las instalaciones...\n",
              "359820    esta súper bien ubicado, es muy lindo y hay mu...\n",
              "331826    La atención del personal, la privacidad y la h...\n",
              "317335    El hotel está muy bien ubicado y cerca hay res...\n",
              "                                ...                        \n",
              "347392    Me encantó que me quedaba a solo unos pasos de...\n",
              "427866    La cama fue muy comoda, por lo que pude descan...\n",
              "112931    Hotel pequeño, ubicado cerca del centro comerc...\n",
              "34714     Buenas habitaciones un poco pequeñas, limpio, ...\n",
              "164633    Nos encanto la atencion, son personas muy amab...\n",
              "Name: Cosas Positivas, Length: 7500, dtype: object"
            ]
          },
          "execution_count": 7,
          "metadata": {},
          "output_type": "execute_result"
        }
      ],
      "source": [
        "DF_inicial2=BookingCol[BookingCol['Calificación']>=9]\n",
        "\n",
        "DF_inicial2=DF_inicial2['Cosas Positivas']\n",
        "DF_inicial2=DF_inicial2[DF_inicial2.fillna('').apply(len)>60].sample(7500)\n",
        "DF_inicial2"
      ]
    },
    {
      "cell_type": "code",
      "execution_count": null,
      "metadata": {
        "id": "bKema40wlsK0",
        "outputId": "b02580c8-8a37-44da-b30d-e202b99fb225"
      },
      "outputs": [
        {
          "data": {
            "text/html": [
              "<div>\n",
              "<style scoped>\n",
              "    .dataframe tbody tr th:only-of-type {\n",
              "        vertical-align: middle;\n",
              "    }\n",
              "\n",
              "    .dataframe tbody tr th {\n",
              "        vertical-align: top;\n",
              "    }\n",
              "\n",
              "    .dataframe thead th {\n",
              "        text-align: right;\n",
              "    }\n",
              "</style>\n",
              "<table border=\"1\" class=\"dataframe\">\n",
              "  <thead>\n",
              "    <tr style=\"text-align: right;\">\n",
              "      <th></th>\n",
              "      <th>Comentarios</th>\n",
              "      <th>Clas</th>\n",
              "    </tr>\n",
              "  </thead>\n",
              "  <tbody>\n",
              "    <tr>\n",
              "      <th>398698</th>\n",
              "      <td>La atención!! Son muy agradables, serviciales ...</td>\n",
              "      <td>Positivos</td>\n",
              "    </tr>\n",
              "    <tr>\n",
              "      <th>254855</th>\n",
              "      <td>La amabilidad del personal y las instalaciones...</td>\n",
              "      <td>Positivos</td>\n",
              "    </tr>\n",
              "    <tr>\n",
              "      <th>359820</th>\n",
              "      <td>esta súper bien ubicado, es muy lindo y hay mu...</td>\n",
              "      <td>Positivos</td>\n",
              "    </tr>\n",
              "    <tr>\n",
              "      <th>331826</th>\n",
              "      <td>La atención del personal, la privacidad y la h...</td>\n",
              "      <td>Positivos</td>\n",
              "    </tr>\n",
              "    <tr>\n",
              "      <th>317335</th>\n",
              "      <td>El hotel está muy bien ubicado y cerca hay res...</td>\n",
              "      <td>Positivos</td>\n",
              "    </tr>\n",
              "    <tr>\n",
              "      <th>...</th>\n",
              "      <td>...</td>\n",
              "      <td>...</td>\n",
              "    </tr>\n",
              "    <tr>\n",
              "      <th>347392</th>\n",
              "      <td>Me encantó que me quedaba a solo unos pasos de...</td>\n",
              "      <td>Positivos</td>\n",
              "    </tr>\n",
              "    <tr>\n",
              "      <th>427866</th>\n",
              "      <td>La cama fue muy comoda, por lo que pude descan...</td>\n",
              "      <td>Positivos</td>\n",
              "    </tr>\n",
              "    <tr>\n",
              "      <th>112931</th>\n",
              "      <td>Hotel pequeño, ubicado cerca del centro comerc...</td>\n",
              "      <td>Positivos</td>\n",
              "    </tr>\n",
              "    <tr>\n",
              "      <th>34714</th>\n",
              "      <td>Buenas habitaciones un poco pequeñas, limpio, ...</td>\n",
              "      <td>Positivos</td>\n",
              "    </tr>\n",
              "    <tr>\n",
              "      <th>164633</th>\n",
              "      <td>Nos encanto la atencion, son personas muy amab...</td>\n",
              "      <td>Positivos</td>\n",
              "    </tr>\n",
              "  </tbody>\n",
              "</table>\n",
              "<p>7500 rows × 2 columns</p>\n",
              "</div>"
            ],
            "text/plain": [
              "                                              Comentarios       Clas\n",
              "398698  La atención!! Son muy agradables, serviciales ...  Positivos\n",
              "254855  La amabilidad del personal y las instalaciones...  Positivos\n",
              "359820  esta súper bien ubicado, es muy lindo y hay mu...  Positivos\n",
              "331826  La atención del personal, la privacidad y la h...  Positivos\n",
              "317335  El hotel está muy bien ubicado y cerca hay res...  Positivos\n",
              "...                                                   ...        ...\n",
              "347392  Me encantó que me quedaba a solo unos pasos de...  Positivos\n",
              "427866  La cama fue muy comoda, por lo que pude descan...  Positivos\n",
              "112931  Hotel pequeño, ubicado cerca del centro comerc...  Positivos\n",
              "34714   Buenas habitaciones un poco pequeñas, limpio, ...  Positivos\n",
              "164633  Nos encanto la atencion, son personas muy amab...  Positivos\n",
              "\n",
              "[7500 rows x 2 columns]"
            ]
          },
          "execution_count": 8,
          "metadata": {},
          "output_type": "execute_result"
        }
      ],
      "source": [
        "DF_Final_2=pd.DataFrame()\n",
        "\n",
        "DF_Final_2['Comentarios']=DF_inicial2\n",
        "DF_Final_2['Clas']='Positivos'\n",
        "DF_Final_2"
      ]
    },
    {
      "cell_type": "code",
      "execution_count": null,
      "metadata": {
        "id": "Ozqpuhd8lsK0",
        "outputId": "789fc6e6-a61e-4b55-d879-edc2ab5beed0"
      },
      "outputs": [
        {
          "name": "stdout",
          "output_type": "stream",
          "text": [
            "(15000, 2)\n"
          ]
        }
      ],
      "source": [
        "# Combinar los dataframes apilando filas\n",
        "DF_BookingCol = pd.concat([DF_Final, DF_Final_2], ignore_index=True)\n",
        "\n",
        "# Verificar el resultado\n",
        "print(DF_BookingCol.shape)"
      ]
    },
    {
      "cell_type": "markdown",
      "metadata": {
        "id": "8n7TheW9lsK1"
      },
      "source": [
        "# __4. A continuación se ejecutará cada los siguientes pasos dentro del procesamiento de texto:__\n",
        "* __4.1. Normalización de texto__\n",
        "* __4.2. Tokenización__\n",
        "* __4.3. Eliminación de stopwords__\n",
        "* __4.4. Stemming y lematización__\n",
        "* __4.5. Bag of words__"
      ]
    },
    {
      "cell_type": "markdown",
      "metadata": {
        "id": "ZXwdp8FnlsK1"
      },
      "source": [
        "## 4.1. Normalización de texto"
      ]
    },
    {
      "cell_type": "code",
      "execution_count": null,
      "metadata": {
        "id": "fN88Gj9RlsK1",
        "outputId": "7139716e-b5ac-435c-857e-5315a979e01c"
      },
      "outputs": [
        {
          "name": "stdout",
          "output_type": "stream",
          "text": [
            "                                         Comentarios  \\\n",
            "0  Dejé pago un servicio de transporte para el ae...   \n",
            "1  Desde que llega uno lo hacen leer unas condici...   \n",
            "2  el bar no estaba disponible, encontramos cabel...   \n",
            "3  Se fue la luz y no servia el ascensor por casi...   \n",
            "4  Podría mejorar las recomendaciones para los hu...   \n",
            "\n",
            "                                        Texto_Limpio  \n",
            "0  Deje pago un servicio de transporte para el ae...  \n",
            "1  Desde que llega uno lo hacen leer unas condici...  \n",
            "2  el bar no estaba disponible encontramos cabell...  \n",
            "3  Se fue la luz y no servia el ascensor por casi...  \n",
            "4  Podria mejorar las recomendaciones para los hu...  \n"
          ]
        }
      ],
      "source": [
        "# Función para limpiar caracteres y eliminar tildes\n",
        "def limpiar_caracteres_no_espanol_sin_tildes(texto):\n",
        "    # Eliminar caracteres especiales y palabras en alfabetos no latinos\n",
        "    texto = re.sub(r'[^\\d\\w\\sñÑ]', '', texto)  # Solo deja palabras y espacios\n",
        "    texto = re.sub(r'[^\\u0000-\\u007F\\u00C0-\\u017F\\sñÑ]', '', texto)  # Filtrar caracteres no latinos\n",
        "\n",
        "    # Normalizar y eliminar tildes\n",
        "    texto = unicodedata.normalize('NFKD', texto).encode('ascii', 'ignore').decode('utf-8')\n",
        "    texto = re.sub(r'[\\u0300-\\u036f]', '', texto).strip()  # Eliminar marcas de acento (diacríticos)\n",
        "\n",
        "    return texto\n",
        "\n",
        "# Aplicar al DataFrame\n",
        "DF_BookingCol['Texto_Limpio'] = DF_BookingCol['Comentarios'].apply(limpiar_caracteres_no_espanol_sin_tildes)\n",
        "\n",
        "# Ver el resultado\n",
        "print(DF_BookingCol[['Comentarios', 'Texto_Limpio']].head())\n"
      ]
    },
    {
      "cell_type": "code",
      "execution_count": null,
      "metadata": {
        "id": "h35839cylsK2"
      },
      "outputs": [],
      "source": [
        "# Función actualizada para eliminar números y normalizar texto\n",
        "def normalizar_texto_completamente(texto):\n",
        "    if isinstance(texto, str):  # Asegurarse de procesar solo texto\n",
        "        # Eliminar números\n",
        "        texto = re.sub(r'\\d', '', texto)\n",
        "        # Eliminar caracteres especiales y normalizar tildes\n",
        "        texto = unicodedata.normalize('NFKD', texto).encode('ascii', 'ignore').decode('utf-8')\n",
        "        # Eliminar espacios adicionales\n",
        "        texto = re.sub(r'\\s+', ' ', texto).strip()\n",
        "        return texto\n",
        "    return texto  # Si no es texto, devolver sin cambios\n",
        "\n",
        "# Aplicar la función de limpieza\n",
        "DF_BookingCol['Texto_Limpio'] = DF_BookingCol['Texto_Limpio'].apply(normalizar_texto_completamente)"
      ]
    },
    {
      "cell_type": "markdown",
      "metadata": {
        "id": "l-ck1e-UlsK3"
      },
      "source": [
        "## 4.2. Tokenización"
      ]
    },
    {
      "cell_type": "code",
      "execution_count": null,
      "metadata": {
        "id": "9LKOFvctlsK3",
        "outputId": "89d5876d-3187-45cc-8085-1958662261c2"
      },
      "outputs": [
        {
          "name": "stderr",
          "output_type": "stream",
          "text": [
            "[nltk_data] Downloading package punkt to\n",
            "[nltk_data]     C:\\Users\\LENOVO\\AppData\\Roaming\\nltk_data...\n",
            "[nltk_data]   Package punkt is already up-to-date!\n"
          ]
        },
        {
          "name": "stdout",
          "output_type": "stream",
          "text": [
            "                                             Comentarios  \\\n",
            "0      Dejé pago un servicio de transporte para el ae...   \n",
            "1      Desde que llega uno lo hacen leer unas condici...   \n",
            "2      el bar no estaba disponible, encontramos cabel...   \n",
            "3      Se fue la luz y no servia el ascensor por casi...   \n",
            "4      Podría mejorar las recomendaciones para los hu...   \n",
            "...                                                  ...   \n",
            "14995  Me encantó que me quedaba a solo unos pasos de...   \n",
            "14996  La cama fue muy comoda, por lo que pude descan...   \n",
            "14997  Hotel pequeño, ubicado cerca del centro comerc...   \n",
            "14998  Buenas habitaciones un poco pequeñas, limpio, ...   \n",
            "14999  Nos encanto la atencion, son personas muy amab...   \n",
            "\n",
            "                                            Texto_Limpio  \\\n",
            "0      Deje pago un servicio de transporte para el ae...   \n",
            "1      Desde que llega uno lo hacen leer unas condici...   \n",
            "2      el bar no estaba disponible encontramos cabell...   \n",
            "3      Se fue la luz y no servia el ascensor por casi...   \n",
            "4      Podria mejorar las recomendaciones para los hu...   \n",
            "...                                                  ...   \n",
            "14995  Me encanto que me quedaba a solo unos pasos de...   \n",
            "14996  La cama fue muy comoda por lo que pude descans...   \n",
            "14997  Hotel pequeno ubicado cerca del centro comerci...   \n",
            "14998  Buenas habitaciones un poco pequenas limpio co...   \n",
            "14999  Nos encanto la atencion son personas muy amabl...   \n",
            "\n",
            "                                                  Tokens  \n",
            "0      [Deje, pago, un, servicio, de, transporte, par...  \n",
            "1      [Desde, que, llega, uno, lo, hacen, leer, unas...  \n",
            "2      [el, bar, no, estaba, disponible, encontramos,...  \n",
            "3      [Se, fue, la, luz, y, no, servia, el, ascensor...  \n",
            "4      [Podria, mejorar, las, recomendaciones, para, ...  \n",
            "...                                                  ...  \n",
            "14995  [Me, encanto, que, me, quedaba, a, solo, unos,...  \n",
            "14996  [La, cama, fue, muy, comoda, por, lo, que, pud...  \n",
            "14997  [Hotel, pequeno, ubicado, cerca, del, centro, ...  \n",
            "14998  [Buenas, habitaciones, un, poco, pequenas, lim...  \n",
            "14999  [Nos, encanto, la, atencion, son, personas, mu...  \n",
            "\n",
            "[15000 rows x 3 columns]\n"
          ]
        }
      ],
      "source": [
        "# Asegúrate de descargar el recurso necesario\n",
        "nltk.download('punkt')\n",
        "\n",
        "# Aplicar la tokenización por palabras a cada fila de la columna 'Comentarios'\n",
        "DF_BookingCol['Tokens'] = DF_BookingCol['Texto_Limpio'].apply(word_tokenize)\n",
        "\n",
        "# Ver el resultado\n",
        "print(DF_BookingCol[['Comentarios', 'Texto_Limpio', 'Tokens']])"
      ]
    },
    {
      "cell_type": "markdown",
      "metadata": {
        "id": "GLX98qfalsK4"
      },
      "source": [
        "## 4.3. Eliminación de stopwords"
      ]
    },
    {
      "cell_type": "code",
      "execution_count": null,
      "metadata": {
        "id": "ltjKfAE9lsK4",
        "outputId": "755fc502-458f-4801-f7ff-dea5ce1c7751"
      },
      "outputs": [
        {
          "name": "stdout",
          "output_type": "stream",
          "text": [
            "Total stopwords combinadas: 485\n"
          ]
        }
      ],
      "source": [
        "# Stopwords en español e inglés como conjuntos\n",
        "stopwords_esp = set(stopwords.words('spanish'))  # Convertir a conjunto\n",
        "stopwords_eng = set(stopwords.words('english'))  # Convertir a conjunto\n",
        "\n",
        "# Combinar ambas listas de stopwords\n",
        "stopwords_combined = stopwords_esp.union(stopwords_eng)  # Unir ambos conjuntos\n",
        "\n",
        "# Verificar la combinación\n",
        "print(f\"Total stopwords combinadas: {len(stopwords_combined)}\")\n",
        "\n",
        "# Eliminar stopwords en ambos idiomas\n",
        "DF_BookingCol['Sin_Stopwords_Combined'] = DF_BookingCol['Tokens'].apply(\n",
        "    lambda tokens: [word for word in tokens if word.lower() not in stopwords_combined]\n",
        ")"
      ]
    },
    {
      "cell_type": "code",
      "execution_count": null,
      "metadata": {
        "id": "dG3PrbxslsK5"
      },
      "outputs": [],
      "source": [
        "# Cargar el modelo de spaCy en español\n",
        "nlp = spacy.load('es_core_news_sm')"
      ]
    },
    {
      "cell_type": "code",
      "execution_count": null,
      "metadata": {
        "id": "n-oDNDMLlsK6",
        "outputId": "17d8186f-3ae0-4378-fe33-c6d17ba88aff"
      },
      "outputs": [
        {
          "name": "stdout",
          "output_type": "stream",
          "text": [
            "                                     Lematizado_Combined  \\\n",
            "0      [Deje, pago, servicio, transporte, aeropuerto,...   \n",
            "1      [llegar, hacer, leer, uno, condición, hospedaj...   \n",
            "2      [bar, disponible, encontrar, cabello, cama, de...   \n",
            "3      [luz, servia, ascensor, casi, diar, estabamo, ...   \n",
            "4      [Podria, mejorar, recomendación, huesped, pers...   \n",
            "...                                                  ...   \n",
            "14995  [encanto, quedar, solo, paso, lugar, ir, quede...   \n",
            "14996  [cama, comodo, poder, descansar, comodamente, ...   \n",
            "14997  [Hotel, pequeno, ubicado, cerca, centro, comer...   \n",
            "14998  [buena, habitación, pequena, limpio, comodo, i...   \n",
            "14999  [encanto, atencion, persona, amable, gentil, s...   \n",
            "\n",
            "                                  Sin_Stopwords_Combined  \n",
            "0      [Deje, pago, servicio, transporte, aeropuerto,...  \n",
            "1      [llega, hacen, leer, unas, condiciones, hosped...  \n",
            "2      [bar, disponible, encontramos, cabellos, cama,...  \n",
            "3      [luz, servia, ascensor, casi, dia, estabamos, ...  \n",
            "4      [Podria, mejorar, recomendaciones, huespedes, ...  \n",
            "...                                                  ...  \n",
            "14995  [encanto, quedaba, solo, pasos, lugar, iba, Qu...  \n",
            "14996  [cama, comoda, pude, descansar, comodamente, c...  \n",
            "14997  [Hotel, pequeno, ubicado, cerca, centro, comer...  \n",
            "14998  [Buenas, habitaciones, pequenas, limpio, comod...  \n",
            "14999  [encanto, atencion, personas, amables, gentile...  \n",
            "\n",
            "[15000 rows x 2 columns]\n"
          ]
        }
      ],
      "source": [
        "DF_BookingCol['Lematizado_Combined'] = DF_BookingCol['Sin_Stopwords_Combined'].apply(\n",
        "    lambda tokens: [token.lemma_ for token in nlp(\" \".join(tokens))]\n",
        ")\n",
        "\n",
        "# Ver el resultado\n",
        "print(DF_BookingCol[['Lematizado_Combined','Sin_Stopwords_Combined']])"
      ]
    },
    {
      "cell_type": "markdown",
      "metadata": {
        "id": "Z9VzLkdNlsK7"
      },
      "source": [
        "## 4.4. Stemming y Lemantización"
      ]
    },
    {
      "cell_type": "markdown",
      "metadata": {
        "id": "Ktfi2brxlsK8"
      },
      "source": [
        " __Para este caso de estudio se determinó que la manera más adecuada para reducir las palabras a su forma base es la lemmatización ya que con este método se considera su significado y contexto gramatical, lo cual es una ventaja para el análisis de los comentarios realizados por las personas en Booking__"
      ]
    },
    {
      "cell_type": "code",
      "execution_count": null,
      "metadata": {
        "id": "pI-iNTONlsK9"
      },
      "outputs": [],
      "source": [
        "# Cargar el modelo de spaCy en español\n",
        "nlp = spacy.load('es_core_news_sm')"
      ]
    },
    {
      "cell_type": "code",
      "execution_count": null,
      "metadata": {
        "id": "D3p90vyRlsK9",
        "outputId": "2959f742-8e2d-4de8-cb80-d515be619017"
      },
      "outputs": [
        {
          "name": "stdout",
          "output_type": "stream",
          "text": [
            "                                  Sin_Stopwords_Combined  \\\n",
            "0      [Deje, pago, servicio, transporte, aeropuerto,...   \n",
            "1      [llega, hacen, leer, unas, condiciones, hosped...   \n",
            "2      [bar, disponible, encontramos, cabellos, cama,...   \n",
            "3      [luz, servia, ascensor, casi, dia, estabamos, ...   \n",
            "4      [Podria, mejorar, recomendaciones, huespedes, ...   \n",
            "...                                                  ...   \n",
            "14995  [encanto, quedaba, solo, pasos, lugar, iba, Qu...   \n",
            "14996  [cama, comoda, pude, descansar, comodamente, c...   \n",
            "14997  [Hotel, pequeno, ubicado, cerca, centro, comer...   \n",
            "14998  [Buenas, habitaciones, pequenas, limpio, comod...   \n",
            "14999  [encanto, atencion, personas, amables, gentile...   \n",
            "\n",
            "                                     Lematizado_Combined  \n",
            "0      [Deje, pago, servicio, transporte, aeropuerto,...  \n",
            "1      [llegar, hacer, leer, uno, condición, hospedaj...  \n",
            "2      [bar, disponible, encontrar, cabello, cama, de...  \n",
            "3      [luz, servia, ascensor, casi, diar, estabamo, ...  \n",
            "4      [Podria, mejorar, recomendación, huesped, pers...  \n",
            "...                                                  ...  \n",
            "14995  [encanto, quedar, solo, paso, lugar, ir, quede...  \n",
            "14996  [cama, comodo, poder, descansar, comodamente, ...  \n",
            "14997  [Hotel, pequeno, ubicado, cerca, centro, comer...  \n",
            "14998  [buena, habitación, pequena, limpio, comodo, i...  \n",
            "14999  [encanto, atencion, persona, amable, gentil, s...  \n",
            "\n",
            "[15000 rows x 2 columns]\n"
          ]
        }
      ],
      "source": [
        "DF_BookingCol['Lematizado_Combined'] = DF_BookingCol['Sin_Stopwords_Combined'].apply(\n",
        "    lambda tokens: [token.lemma_ for token in nlp(\" \".join(tokens))]\n",
        ")\n",
        "\n",
        "# Ver el resultado\n",
        "print(DF_BookingCol[['Sin_Stopwords_Combined','Lematizado_Combined']])"
      ]
    },
    {
      "cell_type": "markdown",
      "metadata": {
        "id": "K_iiyk6mlsK_"
      },
      "source": [
        "# __5. Se aplica modelo de Bag of Words__"
      ]
    },
    {
      "cell_type": "markdown",
      "metadata": {
        "id": "GKBEvaXglsLA"
      },
      "source": [
        "## 5.1. CountVectorizer"
      ]
    },
    {
      "cell_type": "code",
      "execution_count": null,
      "metadata": {
        "id": "lJjZ5wKOlsLC",
        "outputId": "b6653355-b140-446a-c1b6-3e6cf99d2459"
      },
      "outputs": [
        {
          "name": "stdout",
          "output_type": "stream",
          "text": [
            "       aa  aaael  aan  aao  abajo  abalorio  abandonado  abandonar  \\\n",
            "0       0      0    0    0      0         0           0          0   \n",
            "1       0      0    0    0      0         0           0          0   \n",
            "2       0      0    0    0      0         0           0          0   \n",
            "3       0      0    0    0      0         0           0          0   \n",
            "4       0      0    0    0      0         0           0          0   \n",
            "...    ..    ...  ...  ...    ...       ...         ...        ...   \n",
            "14995   0      0    0    0      0         0           0          0   \n",
            "14996   0      0    0    0      0         0           0          0   \n",
            "14997   0      0    0    0      0         0           0          0   \n",
            "14998   0      0    0    0      0         0           0          0   \n",
            "14999   0      0    0    0      0         0           0          0   \n",
            "\n",
            "       abandonarar  abanico  ...  zuleima  zully  zullys  zum  zón  án  él  \\\n",
            "0                0        0  ...        0      0       0    0    0   0   0   \n",
            "1                0        0  ...        0      0       0    0    0   0   4   \n",
            "2                0        0  ...        0      0       0    0    0   0   0   \n",
            "3                0        0  ...        0      0       0    0    0   0   0   \n",
            "4                0        0  ...        0      0       0    0    0   0   0   \n",
            "...            ...      ...  ...      ...    ...     ...  ...  ...  ..  ..   \n",
            "14995            0        0  ...        0      0       0    0    0   0   0   \n",
            "14996            0        0  ...        0      0       0    0    0   0   0   \n",
            "14997            0        0  ...        0      0       0    0    0   0   0   \n",
            "14998            0        0  ...        0      0       0    0    0   0   0   \n",
            "14999            0        0  ...        0      0       0    0    0   0   0   \n",
            "\n",
            "       ín  ón  ús  \n",
            "0       0   0   0  \n",
            "1       0   0   0  \n",
            "2       0   0   0  \n",
            "3       0   0   0  \n",
            "4       0   0   0  \n",
            "...    ..  ..  ..  \n",
            "14995   0   0   0  \n",
            "14996   0   0   0  \n",
            "14997   0   0   0  \n",
            "14998   0   0   0  \n",
            "14999   0   0   0  \n",
            "\n",
            "[15000 rows x 15870 columns]\n"
          ]
        }
      ],
      "source": [
        "# Convertir las listas de lemas a textos unificados\n",
        "DF_BookingCol['Lematizado_unido'] = DF_BookingCol['Lematizado_Combined'].apply(lambda tokens: \" \".join(tokens))\n",
        "\n",
        "# Inicializar el vectorizador\n",
        "vectorizer = CountVectorizer()\n",
        "\n",
        "# Aplicar BoW a la columna 'Texto_Lematizado'\n",
        "bow_matrix = vectorizer.fit_transform(DF_BookingCol['Lematizado_unido'])\n",
        "\n",
        "# Convertir la matriz de BoW a un DataFrame para una visualización más fácil\n",
        "bow_df = pd.DataFrame(bow_matrix.toarray(), columns=vectorizer.get_feature_names_out())\n",
        "\n",
        "# Mostrar el resultado\n",
        "print(bow_df)"
      ]
    },
    {
      "cell_type": "markdown",
      "metadata": {
        "id": "LEIc6d69lsLE"
      },
      "source": [
        "## 5.2. TF-IDF (Term Frequency-Inverse Document Frequency):"
      ]
    },
    {
      "cell_type": "code",
      "execution_count": null,
      "metadata": {
        "id": "yedUcFN2lsLF",
        "outputId": "0603b536-bc84-48fc-e8d7-5418d9dc480b"
      },
      "outputs": [
        {
          "name": "stdout",
          "output_type": "stream",
          "text": [
            "    aa  aaael  aan  aao  abajo  abalorio  abandonado  abandonar  abandonarar  \\\n",
            "0  0.0    0.0  0.0  0.0    0.0       0.0         0.0        0.0          0.0   \n",
            "1  0.0    0.0  0.0  0.0    0.0       0.0         0.0        0.0          0.0   \n",
            "2  0.0    0.0  0.0  0.0    0.0       0.0         0.0        0.0          0.0   \n",
            "3  0.0    0.0  0.0  0.0    0.0       0.0         0.0        0.0          0.0   \n",
            "4  0.0    0.0  0.0  0.0    0.0       0.0         0.0        0.0          0.0   \n",
            "\n",
            "   abanico  ...  zuleima  zully  zullys  zum  zón   án        él   ín   ón  \\\n",
            "0      0.0  ...      0.0    0.0     0.0  0.0  0.0  0.0  0.000000  0.0  0.0   \n",
            "1      0.0  ...      0.0    0.0     0.0  0.0  0.0  0.0  0.225922  0.0  0.0   \n",
            "2      0.0  ...      0.0    0.0     0.0  0.0  0.0  0.0  0.000000  0.0  0.0   \n",
            "3      0.0  ...      0.0    0.0     0.0  0.0  0.0  0.0  0.000000  0.0  0.0   \n",
            "4      0.0  ...      0.0    0.0     0.0  0.0  0.0  0.0  0.000000  0.0  0.0   \n",
            "\n",
            "    ús  \n",
            "0  0.0  \n",
            "1  0.0  \n",
            "2  0.0  \n",
            "3  0.0  \n",
            "4  0.0  \n",
            "\n",
            "[5 rows x 15870 columns]\n"
          ]
        }
      ],
      "source": [
        "# Unir los lemas en textos completos para cada fila\n",
        "DF_BookingCol['Texto_Lematizado'] = DF_BookingCol['Lematizado_Combined'].apply(lambda tokens: \" \".join(tokens))\n",
        "\n",
        "# Inicializar el vectorizador TF-IDF\n",
        "tfidf_vectorizer = TfidfVectorizer()\n",
        "\n",
        "# Ajustar y transformar los textos\n",
        "tfidf_matrix = tfidf_vectorizer.fit_transform(DF_BookingCol['Texto_Lematizado'])\n",
        "\n",
        "# Convertir la matriz a un DataFrame para visualizarla\n",
        "tfidf_df = pd.DataFrame(tfidf_matrix.toarray(), columns=tfidf_vectorizer.get_feature_names_out())\n",
        "\n",
        "# Mostrar los primeros resultados\n",
        "print(tfidf_df.head())"
      ]
    },
    {
      "cell_type": "markdown",
      "metadata": {
        "id": "biAFEtA4lsLI"
      },
      "source": [
        "## 5.3. Identificación de frecuencia de las palabras:"
      ]
    },
    {
      "cell_type": "code",
      "execution_count": null,
      "metadata": {
        "id": "3LLCTW2ilsLI",
        "outputId": "62b9b79b-68d5-44f7-860a-e81fc3ac2c36"
      },
      "outputs": [
        {
          "name": "stdout",
          "output_type": "stream",
          "text": [
            "habitacion    5022\n",
            "hotel         3899\n",
            "personal      3208\n",
            "desayuno      3153\n",
            "excelente     2629\n",
            "atencion      2580\n",
            "ubicacion     2489\n",
            "buen          2313\n",
            "servicio      2138\n",
            "dtype: int64\n"
          ]
        }
      ],
      "source": [
        "# Sumar las ocurrencias de cada palabra\n",
        "palabra_frecuencias = bow_df.sum().sort_values(ascending=False)\n",
        "print(palabra_frecuencias.head(9))  # Top 10 palabras más frecuentes"
      ]
    },
    {
      "cell_type": "markdown",
      "metadata": {
        "id": "0H_AVzZzlsLJ"
      },
      "source": [
        "# __6. Conclusiones__"
      ]
    }
  ],
  "metadata": {
    "kernelspec": {
      "display_name": "pln_env",
      "language": "python",
      "name": "python3"
    },
    "language_info": {
      "codemirror_mode": {
        "name": "ipython",
        "version": 3
      },
      "file_extension": ".py",
      "mimetype": "text/x-python",
      "name": "python",
      "nbconvert_exporter": "python",
      "pygments_lexer": "ipython3",
      "version": "3.10.15"
    },
    "colab": {
      "provenance": [],
      "include_colab_link": true
    }
  },
  "nbformat": 4,
  "nbformat_minor": 0
}